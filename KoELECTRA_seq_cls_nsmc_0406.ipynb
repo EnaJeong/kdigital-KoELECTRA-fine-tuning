{
  "nbformat": 4,
  "nbformat_minor": 0,
  "metadata": {
    "colab": {
      "name": "KoELECTRA_seq_cls_nsmc_0406.ipynb",
      "provenance": [],
      "collapsed_sections": [],
      "include_colab_link": true
    },
    "kernelspec": {
      "name": "python3",
      "display_name": "Python 3"
    },
    "language_info": {
      "name": "python"
    },
    "accelerator": "GPU",
    "widgets": {
      "application/vnd.jupyter.widget-state+json": {
        "45de8bf5e96d47f99bc1c30bcb712261": {
          "model_module": "@jupyter-widgets/controls",
          "model_name": "HBoxModel",
          "state": {
            "_view_name": "HBoxView",
            "_dom_classes": [],
            "_model_name": "HBoxModel",
            "_view_module": "@jupyter-widgets/controls",
            "_model_module_version": "1.5.0",
            "_view_count": null,
            "_view_module_version": "1.5.0",
            "box_style": "",
            "layout": "IPY_MODEL_055fdb73d96144a7bc5f4994f29bcf41",
            "_model_module": "@jupyter-widgets/controls",
            "children": [
              "IPY_MODEL_100df9c23e9e44b7a5d5d4c25bd64d0d",
              "IPY_MODEL_f6290c538e0749a68bd02aa809a220c5"
            ]
          }
        },
        "055fdb73d96144a7bc5f4994f29bcf41": {
          "model_module": "@jupyter-widgets/base",
          "model_name": "LayoutModel",
          "state": {
            "_view_name": "LayoutView",
            "grid_template_rows": null,
            "right": null,
            "justify_content": null,
            "_view_module": "@jupyter-widgets/base",
            "overflow": null,
            "_model_module_version": "1.2.0",
            "_view_count": null,
            "flex_flow": null,
            "width": null,
            "min_width": null,
            "border": null,
            "align_items": null,
            "bottom": null,
            "_model_module": "@jupyter-widgets/base",
            "top": null,
            "grid_column": null,
            "overflow_y": null,
            "overflow_x": null,
            "grid_auto_flow": null,
            "grid_area": null,
            "grid_template_columns": null,
            "flex": null,
            "_model_name": "LayoutModel",
            "justify_items": null,
            "grid_row": null,
            "max_height": null,
            "align_content": null,
            "visibility": null,
            "align_self": null,
            "height": null,
            "min_height": null,
            "padding": null,
            "grid_auto_rows": null,
            "grid_gap": null,
            "max_width": null,
            "order": null,
            "_view_module_version": "1.2.0",
            "grid_template_areas": null,
            "object_position": null,
            "object_fit": null,
            "grid_auto_columns": null,
            "margin": null,
            "display": null,
            "left": null
          }
        },
        "100df9c23e9e44b7a5d5d4c25bd64d0d": {
          "model_module": "@jupyter-widgets/controls",
          "model_name": "FloatProgressModel",
          "state": {
            "_view_name": "ProgressView",
            "style": "IPY_MODEL_2bf0de04e0d74583a7d16aadf778f3e5",
            "_dom_classes": [],
            "description": "Downloading: 100%",
            "_model_name": "FloatProgressModel",
            "bar_style": "success",
            "max": 458,
            "_view_module": "@jupyter-widgets/controls",
            "_model_module_version": "1.5.0",
            "value": 458,
            "_view_count": null,
            "_view_module_version": "1.5.0",
            "orientation": "horizontal",
            "min": 0,
            "description_tooltip": null,
            "_model_module": "@jupyter-widgets/controls",
            "layout": "IPY_MODEL_f78f51703aef4ebf8dbc8729c6c6a299"
          }
        },
        "f6290c538e0749a68bd02aa809a220c5": {
          "model_module": "@jupyter-widgets/controls",
          "model_name": "HTMLModel",
          "state": {
            "_view_name": "HTMLView",
            "style": "IPY_MODEL_25132581248648659e15468ec707daf6",
            "_dom_classes": [],
            "description": "",
            "_model_name": "HTMLModel",
            "placeholder": "​",
            "_view_module": "@jupyter-widgets/controls",
            "_model_module_version": "1.5.0",
            "value": " 458/458 [00:00&lt;00:00, 1.43kB/s]",
            "_view_count": null,
            "_view_module_version": "1.5.0",
            "description_tooltip": null,
            "_model_module": "@jupyter-widgets/controls",
            "layout": "IPY_MODEL_d08151a98b9b4232a3eed1c109fbe6b7"
          }
        },
        "2bf0de04e0d74583a7d16aadf778f3e5": {
          "model_module": "@jupyter-widgets/controls",
          "model_name": "ProgressStyleModel",
          "state": {
            "_view_name": "StyleView",
            "_model_name": "ProgressStyleModel",
            "description_width": "initial",
            "_view_module": "@jupyter-widgets/base",
            "_model_module_version": "1.5.0",
            "_view_count": null,
            "_view_module_version": "1.2.0",
            "bar_color": null,
            "_model_module": "@jupyter-widgets/controls"
          }
        },
        "f78f51703aef4ebf8dbc8729c6c6a299": {
          "model_module": "@jupyter-widgets/base",
          "model_name": "LayoutModel",
          "state": {
            "_view_name": "LayoutView",
            "grid_template_rows": null,
            "right": null,
            "justify_content": null,
            "_view_module": "@jupyter-widgets/base",
            "overflow": null,
            "_model_module_version": "1.2.0",
            "_view_count": null,
            "flex_flow": null,
            "width": null,
            "min_width": null,
            "border": null,
            "align_items": null,
            "bottom": null,
            "_model_module": "@jupyter-widgets/base",
            "top": null,
            "grid_column": null,
            "overflow_y": null,
            "overflow_x": null,
            "grid_auto_flow": null,
            "grid_area": null,
            "grid_template_columns": null,
            "flex": null,
            "_model_name": "LayoutModel",
            "justify_items": null,
            "grid_row": null,
            "max_height": null,
            "align_content": null,
            "visibility": null,
            "align_self": null,
            "height": null,
            "min_height": null,
            "padding": null,
            "grid_auto_rows": null,
            "grid_gap": null,
            "max_width": null,
            "order": null,
            "_view_module_version": "1.2.0",
            "grid_template_areas": null,
            "object_position": null,
            "object_fit": null,
            "grid_auto_columns": null,
            "margin": null,
            "display": null,
            "left": null
          }
        },
        "25132581248648659e15468ec707daf6": {
          "model_module": "@jupyter-widgets/controls",
          "model_name": "DescriptionStyleModel",
          "state": {
            "_view_name": "StyleView",
            "_model_name": "DescriptionStyleModel",
            "description_width": "",
            "_view_module": "@jupyter-widgets/base",
            "_model_module_version": "1.5.0",
            "_view_count": null,
            "_view_module_version": "1.2.0",
            "_model_module": "@jupyter-widgets/controls"
          }
        },
        "d08151a98b9b4232a3eed1c109fbe6b7": {
          "model_module": "@jupyter-widgets/base",
          "model_name": "LayoutModel",
          "state": {
            "_view_name": "LayoutView",
            "grid_template_rows": null,
            "right": null,
            "justify_content": null,
            "_view_module": "@jupyter-widgets/base",
            "overflow": null,
            "_model_module_version": "1.2.0",
            "_view_count": null,
            "flex_flow": null,
            "width": null,
            "min_width": null,
            "border": null,
            "align_items": null,
            "bottom": null,
            "_model_module": "@jupyter-widgets/base",
            "top": null,
            "grid_column": null,
            "overflow_y": null,
            "overflow_x": null,
            "grid_auto_flow": null,
            "grid_area": null,
            "grid_template_columns": null,
            "flex": null,
            "_model_name": "LayoutModel",
            "justify_items": null,
            "grid_row": null,
            "max_height": null,
            "align_content": null,
            "visibility": null,
            "align_self": null,
            "height": null,
            "min_height": null,
            "padding": null,
            "grid_auto_rows": null,
            "grid_gap": null,
            "max_width": null,
            "order": null,
            "_view_module_version": "1.2.0",
            "grid_template_areas": null,
            "object_position": null,
            "object_fit": null,
            "grid_auto_columns": null,
            "margin": null,
            "display": null,
            "left": null
          }
        },
        "b456b048e3734da8999d7753151b53ef": {
          "model_module": "@jupyter-widgets/controls",
          "model_name": "HBoxModel",
          "state": {
            "_view_name": "HBoxView",
            "_dom_classes": [],
            "_model_name": "HBoxModel",
            "_view_module": "@jupyter-widgets/controls",
            "_model_module_version": "1.5.0",
            "_view_count": null,
            "_view_module_version": "1.5.0",
            "box_style": "",
            "layout": "IPY_MODEL_a49ca6771b6e4a0590b9a5a34a702901",
            "_model_module": "@jupyter-widgets/controls",
            "children": [
              "IPY_MODEL_6bc793addfe94aa0be6faacd51a1b186",
              "IPY_MODEL_5da231ceb7db4a708c241dc3e71c8bb6"
            ]
          }
        },
        "a49ca6771b6e4a0590b9a5a34a702901": {
          "model_module": "@jupyter-widgets/base",
          "model_name": "LayoutModel",
          "state": {
            "_view_name": "LayoutView",
            "grid_template_rows": null,
            "right": null,
            "justify_content": null,
            "_view_module": "@jupyter-widgets/base",
            "overflow": null,
            "_model_module_version": "1.2.0",
            "_view_count": null,
            "flex_flow": null,
            "width": null,
            "min_width": null,
            "border": null,
            "align_items": null,
            "bottom": null,
            "_model_module": "@jupyter-widgets/base",
            "top": null,
            "grid_column": null,
            "overflow_y": null,
            "overflow_x": null,
            "grid_auto_flow": null,
            "grid_area": null,
            "grid_template_columns": null,
            "flex": null,
            "_model_name": "LayoutModel",
            "justify_items": null,
            "grid_row": null,
            "max_height": null,
            "align_content": null,
            "visibility": null,
            "align_self": null,
            "height": null,
            "min_height": null,
            "padding": null,
            "grid_auto_rows": null,
            "grid_gap": null,
            "max_width": null,
            "order": null,
            "_view_module_version": "1.2.0",
            "grid_template_areas": null,
            "object_position": null,
            "object_fit": null,
            "grid_auto_columns": null,
            "margin": null,
            "display": null,
            "left": null
          }
        },
        "6bc793addfe94aa0be6faacd51a1b186": {
          "model_module": "@jupyter-widgets/controls",
          "model_name": "FloatProgressModel",
          "state": {
            "_view_name": "ProgressView",
            "style": "IPY_MODEL_bb35701845eb4e259683f4e3f588bf60",
            "_dom_classes": [],
            "description": "Downloading: 100%",
            "_model_name": "FloatProgressModel",
            "bar_style": "success",
            "max": 263326,
            "_view_module": "@jupyter-widgets/controls",
            "_model_module_version": "1.5.0",
            "value": 263326,
            "_view_count": null,
            "_view_module_version": "1.5.0",
            "orientation": "horizontal",
            "min": 0,
            "description_tooltip": null,
            "_model_module": "@jupyter-widgets/controls",
            "layout": "IPY_MODEL_b7093d6849314743a56660b3d7007a8f"
          }
        },
        "5da231ceb7db4a708c241dc3e71c8bb6": {
          "model_module": "@jupyter-widgets/controls",
          "model_name": "HTMLModel",
          "state": {
            "_view_name": "HTMLView",
            "style": "IPY_MODEL_8b0bf3c8e0f64eacba921b27946ac48d",
            "_dom_classes": [],
            "description": "",
            "_model_name": "HTMLModel",
            "placeholder": "​",
            "_view_module": "@jupyter-widgets/controls",
            "_model_module_version": "1.5.0",
            "value": " 263k/263k [00:00&lt;00:00, 1.21MB/s]",
            "_view_count": null,
            "_view_module_version": "1.5.0",
            "description_tooltip": null,
            "_model_module": "@jupyter-widgets/controls",
            "layout": "IPY_MODEL_f5445c10eb73437f8f03f9a05878ceeb"
          }
        },
        "bb35701845eb4e259683f4e3f588bf60": {
          "model_module": "@jupyter-widgets/controls",
          "model_name": "ProgressStyleModel",
          "state": {
            "_view_name": "StyleView",
            "_model_name": "ProgressStyleModel",
            "description_width": "initial",
            "_view_module": "@jupyter-widgets/base",
            "_model_module_version": "1.5.0",
            "_view_count": null,
            "_view_module_version": "1.2.0",
            "bar_color": null,
            "_model_module": "@jupyter-widgets/controls"
          }
        },
        "b7093d6849314743a56660b3d7007a8f": {
          "model_module": "@jupyter-widgets/base",
          "model_name": "LayoutModel",
          "state": {
            "_view_name": "LayoutView",
            "grid_template_rows": null,
            "right": null,
            "justify_content": null,
            "_view_module": "@jupyter-widgets/base",
            "overflow": null,
            "_model_module_version": "1.2.0",
            "_view_count": null,
            "flex_flow": null,
            "width": null,
            "min_width": null,
            "border": null,
            "align_items": null,
            "bottom": null,
            "_model_module": "@jupyter-widgets/base",
            "top": null,
            "grid_column": null,
            "overflow_y": null,
            "overflow_x": null,
            "grid_auto_flow": null,
            "grid_area": null,
            "grid_template_columns": null,
            "flex": null,
            "_model_name": "LayoutModel",
            "justify_items": null,
            "grid_row": null,
            "max_height": null,
            "align_content": null,
            "visibility": null,
            "align_self": null,
            "height": null,
            "min_height": null,
            "padding": null,
            "grid_auto_rows": null,
            "grid_gap": null,
            "max_width": null,
            "order": null,
            "_view_module_version": "1.2.0",
            "grid_template_areas": null,
            "object_position": null,
            "object_fit": null,
            "grid_auto_columns": null,
            "margin": null,
            "display": null,
            "left": null
          }
        },
        "8b0bf3c8e0f64eacba921b27946ac48d": {
          "model_module": "@jupyter-widgets/controls",
          "model_name": "DescriptionStyleModel",
          "state": {
            "_view_name": "StyleView",
            "_model_name": "DescriptionStyleModel",
            "description_width": "",
            "_view_module": "@jupyter-widgets/base",
            "_model_module_version": "1.5.0",
            "_view_count": null,
            "_view_module_version": "1.2.0",
            "_model_module": "@jupyter-widgets/controls"
          }
        },
        "f5445c10eb73437f8f03f9a05878ceeb": {
          "model_module": "@jupyter-widgets/base",
          "model_name": "LayoutModel",
          "state": {
            "_view_name": "LayoutView",
            "grid_template_rows": null,
            "right": null,
            "justify_content": null,
            "_view_module": "@jupyter-widgets/base",
            "overflow": null,
            "_model_module_version": "1.2.0",
            "_view_count": null,
            "flex_flow": null,
            "width": null,
            "min_width": null,
            "border": null,
            "align_items": null,
            "bottom": null,
            "_model_module": "@jupyter-widgets/base",
            "top": null,
            "grid_column": null,
            "overflow_y": null,
            "overflow_x": null,
            "grid_auto_flow": null,
            "grid_area": null,
            "grid_template_columns": null,
            "flex": null,
            "_model_name": "LayoutModel",
            "justify_items": null,
            "grid_row": null,
            "max_height": null,
            "align_content": null,
            "visibility": null,
            "align_self": null,
            "height": null,
            "min_height": null,
            "padding": null,
            "grid_auto_rows": null,
            "grid_gap": null,
            "max_width": null,
            "order": null,
            "_view_module_version": "1.2.0",
            "grid_template_areas": null,
            "object_position": null,
            "object_fit": null,
            "grid_auto_columns": null,
            "margin": null,
            "display": null,
            "left": null
          }
        },
        "184cc2f2f3dd4182a50d7b2863716093": {
          "model_module": "@jupyter-widgets/controls",
          "model_name": "HBoxModel",
          "state": {
            "_view_name": "HBoxView",
            "_dom_classes": [],
            "_model_name": "HBoxModel",
            "_view_module": "@jupyter-widgets/controls",
            "_model_module_version": "1.5.0",
            "_view_count": null,
            "_view_module_version": "1.5.0",
            "box_style": "",
            "layout": "IPY_MODEL_93ef4ef4ecc5456f9ae35f864d0f0622",
            "_model_module": "@jupyter-widgets/controls",
            "children": [
              "IPY_MODEL_694a896f63d8423185da44d2abe8d8fa",
              "IPY_MODEL_87aa9d3d8c7c4d18ac51024179e613cf"
            ]
          }
        },
        "93ef4ef4ecc5456f9ae35f864d0f0622": {
          "model_module": "@jupyter-widgets/base",
          "model_name": "LayoutModel",
          "state": {
            "_view_name": "LayoutView",
            "grid_template_rows": null,
            "right": null,
            "justify_content": null,
            "_view_module": "@jupyter-widgets/base",
            "overflow": null,
            "_model_module_version": "1.2.0",
            "_view_count": null,
            "flex_flow": null,
            "width": null,
            "min_width": null,
            "border": null,
            "align_items": null,
            "bottom": null,
            "_model_module": "@jupyter-widgets/base",
            "top": null,
            "grid_column": null,
            "overflow_y": null,
            "overflow_x": null,
            "grid_auto_flow": null,
            "grid_area": null,
            "grid_template_columns": null,
            "flex": null,
            "_model_name": "LayoutModel",
            "justify_items": null,
            "grid_row": null,
            "max_height": null,
            "align_content": null,
            "visibility": null,
            "align_self": null,
            "height": null,
            "min_height": null,
            "padding": null,
            "grid_auto_rows": null,
            "grid_gap": null,
            "max_width": null,
            "order": null,
            "_view_module_version": "1.2.0",
            "grid_template_areas": null,
            "object_position": null,
            "object_fit": null,
            "grid_auto_columns": null,
            "margin": null,
            "display": null,
            "left": null
          }
        },
        "694a896f63d8423185da44d2abe8d8fa": {
          "model_module": "@jupyter-widgets/controls",
          "model_name": "FloatProgressModel",
          "state": {
            "_view_name": "ProgressView",
            "style": "IPY_MODEL_93465be9cee1436bad395643b9b1619f",
            "_dom_classes": [],
            "description": "Downloading: 100%",
            "_model_name": "FloatProgressModel",
            "bar_style": "success",
            "max": 61,
            "_view_module": "@jupyter-widgets/controls",
            "_model_module_version": "1.5.0",
            "value": 61,
            "_view_count": null,
            "_view_module_version": "1.5.0",
            "orientation": "horizontal",
            "min": 0,
            "description_tooltip": null,
            "_model_module": "@jupyter-widgets/controls",
            "layout": "IPY_MODEL_6b66759112d54958ac1069a39eb8a587"
          }
        },
        "87aa9d3d8c7c4d18ac51024179e613cf": {
          "model_module": "@jupyter-widgets/controls",
          "model_name": "HTMLModel",
          "state": {
            "_view_name": "HTMLView",
            "style": "IPY_MODEL_d15cf2e2e74b4a05a20bf1a5ec577aa3",
            "_dom_classes": [],
            "description": "",
            "_model_name": "HTMLModel",
            "placeholder": "​",
            "_view_module": "@jupyter-widgets/controls",
            "_model_module_version": "1.5.0",
            "value": " 61.0/61.0 [00:00&lt;00:00, 694B/s]",
            "_view_count": null,
            "_view_module_version": "1.5.0",
            "description_tooltip": null,
            "_model_module": "@jupyter-widgets/controls",
            "layout": "IPY_MODEL_f0546b3d23a84bda9a0ed3947746f42f"
          }
        },
        "93465be9cee1436bad395643b9b1619f": {
          "model_module": "@jupyter-widgets/controls",
          "model_name": "ProgressStyleModel",
          "state": {
            "_view_name": "StyleView",
            "_model_name": "ProgressStyleModel",
            "description_width": "initial",
            "_view_module": "@jupyter-widgets/base",
            "_model_module_version": "1.5.0",
            "_view_count": null,
            "_view_module_version": "1.2.0",
            "bar_color": null,
            "_model_module": "@jupyter-widgets/controls"
          }
        },
        "6b66759112d54958ac1069a39eb8a587": {
          "model_module": "@jupyter-widgets/base",
          "model_name": "LayoutModel",
          "state": {
            "_view_name": "LayoutView",
            "grid_template_rows": null,
            "right": null,
            "justify_content": null,
            "_view_module": "@jupyter-widgets/base",
            "overflow": null,
            "_model_module_version": "1.2.0",
            "_view_count": null,
            "flex_flow": null,
            "width": null,
            "min_width": null,
            "border": null,
            "align_items": null,
            "bottom": null,
            "_model_module": "@jupyter-widgets/base",
            "top": null,
            "grid_column": null,
            "overflow_y": null,
            "overflow_x": null,
            "grid_auto_flow": null,
            "grid_area": null,
            "grid_template_columns": null,
            "flex": null,
            "_model_name": "LayoutModel",
            "justify_items": null,
            "grid_row": null,
            "max_height": null,
            "align_content": null,
            "visibility": null,
            "align_self": null,
            "height": null,
            "min_height": null,
            "padding": null,
            "grid_auto_rows": null,
            "grid_gap": null,
            "max_width": null,
            "order": null,
            "_view_module_version": "1.2.0",
            "grid_template_areas": null,
            "object_position": null,
            "object_fit": null,
            "grid_auto_columns": null,
            "margin": null,
            "display": null,
            "left": null
          }
        },
        "d15cf2e2e74b4a05a20bf1a5ec577aa3": {
          "model_module": "@jupyter-widgets/controls",
          "model_name": "DescriptionStyleModel",
          "state": {
            "_view_name": "StyleView",
            "_model_name": "DescriptionStyleModel",
            "description_width": "",
            "_view_module": "@jupyter-widgets/base",
            "_model_module_version": "1.5.0",
            "_view_count": null,
            "_view_module_version": "1.2.0",
            "_model_module": "@jupyter-widgets/controls"
          }
        },
        "f0546b3d23a84bda9a0ed3947746f42f": {
          "model_module": "@jupyter-widgets/base",
          "model_name": "LayoutModel",
          "state": {
            "_view_name": "LayoutView",
            "grid_template_rows": null,
            "right": null,
            "justify_content": null,
            "_view_module": "@jupyter-widgets/base",
            "overflow": null,
            "_model_module_version": "1.2.0",
            "_view_count": null,
            "flex_flow": null,
            "width": null,
            "min_width": null,
            "border": null,
            "align_items": null,
            "bottom": null,
            "_model_module": "@jupyter-widgets/base",
            "top": null,
            "grid_column": null,
            "overflow_y": null,
            "overflow_x": null,
            "grid_auto_flow": null,
            "grid_area": null,
            "grid_template_columns": null,
            "flex": null,
            "_model_name": "LayoutModel",
            "justify_items": null,
            "grid_row": null,
            "max_height": null,
            "align_content": null,
            "visibility": null,
            "align_self": null,
            "height": null,
            "min_height": null,
            "padding": null,
            "grid_auto_rows": null,
            "grid_gap": null,
            "max_width": null,
            "order": null,
            "_view_module_version": "1.2.0",
            "grid_template_areas": null,
            "object_position": null,
            "object_fit": null,
            "grid_auto_columns": null,
            "margin": null,
            "display": null,
            "left": null
          }
        },
        "301b1f2eee934c98b385156a5114ee46": {
          "model_module": "@jupyter-widgets/controls",
          "model_name": "HBoxModel",
          "state": {
            "_view_name": "HBoxView",
            "_dom_classes": [],
            "_model_name": "HBoxModel",
            "_view_module": "@jupyter-widgets/controls",
            "_model_module_version": "1.5.0",
            "_view_count": null,
            "_view_module_version": "1.5.0",
            "box_style": "",
            "layout": "IPY_MODEL_f4c0b4330b1e4a0884ae91eb204c2ba6",
            "_model_module": "@jupyter-widgets/controls",
            "children": [
              "IPY_MODEL_fb683f5bb1b2499a89bf835a51fe5cc6",
              "IPY_MODEL_cdd77af7ead647c8a0e1c16fb5dcb527"
            ]
          }
        },
        "f4c0b4330b1e4a0884ae91eb204c2ba6": {
          "model_module": "@jupyter-widgets/base",
          "model_name": "LayoutModel",
          "state": {
            "_view_name": "LayoutView",
            "grid_template_rows": null,
            "right": null,
            "justify_content": null,
            "_view_module": "@jupyter-widgets/base",
            "overflow": null,
            "_model_module_version": "1.2.0",
            "_view_count": null,
            "flex_flow": null,
            "width": null,
            "min_width": null,
            "border": null,
            "align_items": null,
            "bottom": null,
            "_model_module": "@jupyter-widgets/base",
            "top": null,
            "grid_column": null,
            "overflow_y": null,
            "overflow_x": null,
            "grid_auto_flow": null,
            "grid_area": null,
            "grid_template_columns": null,
            "flex": null,
            "_model_name": "LayoutModel",
            "justify_items": null,
            "grid_row": null,
            "max_height": null,
            "align_content": null,
            "visibility": null,
            "align_self": null,
            "height": null,
            "min_height": null,
            "padding": null,
            "grid_auto_rows": null,
            "grid_gap": null,
            "max_width": null,
            "order": null,
            "_view_module_version": "1.2.0",
            "grid_template_areas": null,
            "object_position": null,
            "object_fit": null,
            "grid_auto_columns": null,
            "margin": null,
            "display": null,
            "left": null
          }
        },
        "fb683f5bb1b2499a89bf835a51fe5cc6": {
          "model_module": "@jupyter-widgets/controls",
          "model_name": "FloatProgressModel",
          "state": {
            "_view_name": "ProgressView",
            "style": "IPY_MODEL_bba616ba85a54f3e9f41d20c4ac1ff76",
            "_dom_classes": [],
            "description": "Downloading: 100%",
            "_model_name": "FloatProgressModel",
            "bar_style": "success",
            "max": 56577499,
            "_view_module": "@jupyter-widgets/controls",
            "_model_module_version": "1.5.0",
            "value": 56577499,
            "_view_count": null,
            "_view_module_version": "1.5.0",
            "orientation": "horizontal",
            "min": 0,
            "description_tooltip": null,
            "_model_module": "@jupyter-widgets/controls",
            "layout": "IPY_MODEL_4e46d56cdf5e4b8e96ce9fa9a118032e"
          }
        },
        "cdd77af7ead647c8a0e1c16fb5dcb527": {
          "model_module": "@jupyter-widgets/controls",
          "model_name": "HTMLModel",
          "state": {
            "_view_name": "HTMLView",
            "style": "IPY_MODEL_480ac490a4384b23967a5022c1ff0f25",
            "_dom_classes": [],
            "description": "",
            "_model_name": "HTMLModel",
            "placeholder": "​",
            "_view_module": "@jupyter-widgets/controls",
            "_model_module_version": "1.5.0",
            "value": " 56.6M/56.6M [00:01&lt;00:00, 49.5MB/s]",
            "_view_count": null,
            "_view_module_version": "1.5.0",
            "description_tooltip": null,
            "_model_module": "@jupyter-widgets/controls",
            "layout": "IPY_MODEL_532f6eea02184284bb7e65e34fc5aee9"
          }
        },
        "bba616ba85a54f3e9f41d20c4ac1ff76": {
          "model_module": "@jupyter-widgets/controls",
          "model_name": "ProgressStyleModel",
          "state": {
            "_view_name": "StyleView",
            "_model_name": "ProgressStyleModel",
            "description_width": "initial",
            "_view_module": "@jupyter-widgets/base",
            "_model_module_version": "1.5.0",
            "_view_count": null,
            "_view_module_version": "1.2.0",
            "bar_color": null,
            "_model_module": "@jupyter-widgets/controls"
          }
        },
        "4e46d56cdf5e4b8e96ce9fa9a118032e": {
          "model_module": "@jupyter-widgets/base",
          "model_name": "LayoutModel",
          "state": {
            "_view_name": "LayoutView",
            "grid_template_rows": null,
            "right": null,
            "justify_content": null,
            "_view_module": "@jupyter-widgets/base",
            "overflow": null,
            "_model_module_version": "1.2.0",
            "_view_count": null,
            "flex_flow": null,
            "width": null,
            "min_width": null,
            "border": null,
            "align_items": null,
            "bottom": null,
            "_model_module": "@jupyter-widgets/base",
            "top": null,
            "grid_column": null,
            "overflow_y": null,
            "overflow_x": null,
            "grid_auto_flow": null,
            "grid_area": null,
            "grid_template_columns": null,
            "flex": null,
            "_model_name": "LayoutModel",
            "justify_items": null,
            "grid_row": null,
            "max_height": null,
            "align_content": null,
            "visibility": null,
            "align_self": null,
            "height": null,
            "min_height": null,
            "padding": null,
            "grid_auto_rows": null,
            "grid_gap": null,
            "max_width": null,
            "order": null,
            "_view_module_version": "1.2.0",
            "grid_template_areas": null,
            "object_position": null,
            "object_fit": null,
            "grid_auto_columns": null,
            "margin": null,
            "display": null,
            "left": null
          }
        },
        "480ac490a4384b23967a5022c1ff0f25": {
          "model_module": "@jupyter-widgets/controls",
          "model_name": "DescriptionStyleModel",
          "state": {
            "_view_name": "StyleView",
            "_model_name": "DescriptionStyleModel",
            "description_width": "",
            "_view_module": "@jupyter-widgets/base",
            "_model_module_version": "1.5.0",
            "_view_count": null,
            "_view_module_version": "1.2.0",
            "_model_module": "@jupyter-widgets/controls"
          }
        },
        "532f6eea02184284bb7e65e34fc5aee9": {
          "model_module": "@jupyter-widgets/base",
          "model_name": "LayoutModel",
          "state": {
            "_view_name": "LayoutView",
            "grid_template_rows": null,
            "right": null,
            "justify_content": null,
            "_view_module": "@jupyter-widgets/base",
            "overflow": null,
            "_model_module_version": "1.2.0",
            "_view_count": null,
            "flex_flow": null,
            "width": null,
            "min_width": null,
            "border": null,
            "align_items": null,
            "bottom": null,
            "_model_module": "@jupyter-widgets/base",
            "top": null,
            "grid_column": null,
            "overflow_y": null,
            "overflow_x": null,
            "grid_auto_flow": null,
            "grid_area": null,
            "grid_template_columns": null,
            "flex": null,
            "_model_name": "LayoutModel",
            "justify_items": null,
            "grid_row": null,
            "max_height": null,
            "align_content": null,
            "visibility": null,
            "align_self": null,
            "height": null,
            "min_height": null,
            "padding": null,
            "grid_auto_rows": null,
            "grid_gap": null,
            "max_width": null,
            "order": null,
            "_view_module_version": "1.2.0",
            "grid_template_areas": null,
            "object_position": null,
            "object_fit": null,
            "grid_auto_columns": null,
            "margin": null,
            "display": null,
            "left": null
          }
        }
      }
    }
  },
  "cells": [
    {
      "cell_type": "markdown",
      "metadata": {
        "id": "view-in-github",
        "colab_type": "text"
      },
      "source": [
        "<a href=\"https://colab.research.google.com/github/EnaJeong/study-KoELECTRA_fine_tuning/blob/main/KoELECTRA_seq_cls_nsmc_0406.ipynb\" target=\"_parent\"><img src=\"https://colab.research.google.com/assets/colab-badge.svg\" alt=\"Open In Colab\"/></a>"
      ]
    },
    {
      "cell_type": "code",
      "metadata": {
        "colab": {
          "base_uri": "https://localhost:8080/"
        },
        "id": "0qTOWPEI7F_b",
        "outputId": "3831467f-2445-4b3f-939b-1b6d2da142c3"
      },
      "source": [
        "from google.colab import drive\n",
        "drive.mount('/content/drive')\n",
        "#드라이브 마운트"
      ],
      "execution_count": null,
      "outputs": [
        {
          "output_type": "stream",
          "text": [
            "Mounted at /content/drive\n"
          ],
          "name": "stdout"
        }
      ]
    },
    {
      "cell_type": "code",
      "metadata": {
        "id": "QSbfgf2ugFut"
      },
      "source": [
        "import argparse\n",
        "import json\n",
        "import logging #로깅 임포트\n",
        "import os\n",
        "import glob\n",
        "\n",
        "import numpy as np\n",
        "import torch #파이토치 임포트\n",
        "from torch.utils.data import DataLoader, RandomSampler, SequentialSampler\n",
        "#토치의 DataLoader, RandomSampler, SequentialSampler 임포트\n",
        "from fastprogress.fastprogress import master_bar, progress_bar"
      ],
      "execution_count": null,
      "outputs": []
    },
    {
      "cell_type": "code",
      "metadata": {
        "colab": {
          "base_uri": "https://localhost:8080/"
        },
        "id": "RT2HIZbehTle",
        "outputId": "aefac05a-18ac-4e26-feb2-91b896eb156d"
      },
      "source": [
        "!pip install attrdict\n",
        "# ATTtdict > 구현 인스톨, 임포트\n",
        "from attrdict import AttrDict\n",
        "from attrdict import AttrDict"
      ],
      "execution_count": null,
      "outputs": [
        {
          "output_type": "stream",
          "text": [
            "Collecting attrdict\n",
            "  Downloading https://files.pythonhosted.org/packages/ef/97/28fe7e68bc7adfce67d4339756e85e9fcf3c6fd7f0c0781695352b70472c/attrdict-2.0.1-py2.py3-none-any.whl\n",
            "Requirement already satisfied: six in /usr/local/lib/python3.7/dist-packages (from attrdict) (1.15.0)\n",
            "Installing collected packages: attrdict\n",
            "Successfully installed attrdict-2.0.1\n"
          ],
          "name": "stdout"
        }
      ]
    },
    {
      "cell_type": "code",
      "metadata": {
        "colab": {
          "base_uri": "https://localhost:8080/"
        },
        "id": "pR3slGk5hcQz",
        "outputId": "e6ccce5b-72f0-4f77-e077-a5b000f9c044"
      },
      "source": [
        "!pip install transformers #트랜스포머도 잊지말고 인스톨"
      ],
      "execution_count": null,
      "outputs": [
        {
          "output_type": "stream",
          "text": [
            "Collecting transformers\n",
            "\u001b[?25l  Downloading https://files.pythonhosted.org/packages/ed/d5/f4157a376b8a79489a76ce6cfe147f4f3be1e029b7144fa7b8432e8acb26/transformers-4.4.2-py3-none-any.whl (2.0MB)\n",
            "\u001b[K     |████████████████████████████████| 2.0MB 24.1MB/s \n",
            "\u001b[?25hRequirement already satisfied: numpy>=1.17 in /usr/local/lib/python3.7/dist-packages (from transformers) (1.19.5)\n",
            "Requirement already satisfied: regex!=2019.12.17 in /usr/local/lib/python3.7/dist-packages (from transformers) (2019.12.20)\n",
            "Requirement already satisfied: tqdm>=4.27 in /usr/local/lib/python3.7/dist-packages (from transformers) (4.41.1)\n",
            "Requirement already satisfied: requests in /usr/local/lib/python3.7/dist-packages (from transformers) (2.23.0)\n",
            "Requirement already satisfied: importlib-metadata; python_version < \"3.8\" in /usr/local/lib/python3.7/dist-packages (from transformers) (3.8.1)\n",
            "Requirement already satisfied: filelock in /usr/local/lib/python3.7/dist-packages (from transformers) (3.0.12)\n",
            "Collecting tokenizers<0.11,>=0.10.1\n",
            "\u001b[?25l  Downloading https://files.pythonhosted.org/packages/ae/04/5b870f26a858552025a62f1649c20d29d2672c02ff3c3fb4c688ca46467a/tokenizers-0.10.2-cp37-cp37m-manylinux2010_x86_64.whl (3.3MB)\n",
            "\u001b[K     |████████████████████████████████| 3.3MB 53.0MB/s \n",
            "\u001b[?25hCollecting sacremoses\n",
            "\u001b[?25l  Downloading https://files.pythonhosted.org/packages/08/cd/342e584ee544d044fb573ae697404ce22ede086c9e87ce5960772084cad0/sacremoses-0.0.44.tar.gz (862kB)\n",
            "\u001b[K     |████████████████████████████████| 870kB 45.5MB/s \n",
            "\u001b[?25hRequirement already satisfied: packaging in /usr/local/lib/python3.7/dist-packages (from transformers) (20.9)\n",
            "Requirement already satisfied: idna<3,>=2.5 in /usr/local/lib/python3.7/dist-packages (from requests->transformers) (2.10)\n",
            "Requirement already satisfied: urllib3!=1.25.0,!=1.25.1,<1.26,>=1.21.1 in /usr/local/lib/python3.7/dist-packages (from requests->transformers) (1.24.3)\n",
            "Requirement already satisfied: chardet<4,>=3.0.2 in /usr/local/lib/python3.7/dist-packages (from requests->transformers) (3.0.4)\n",
            "Requirement already satisfied: certifi>=2017.4.17 in /usr/local/lib/python3.7/dist-packages (from requests->transformers) (2020.12.5)\n",
            "Requirement already satisfied: zipp>=0.5 in /usr/local/lib/python3.7/dist-packages (from importlib-metadata; python_version < \"3.8\"->transformers) (3.4.1)\n",
            "Requirement already satisfied: typing-extensions>=3.6.4; python_version < \"3.8\" in /usr/local/lib/python3.7/dist-packages (from importlib-metadata; python_version < \"3.8\"->transformers) (3.7.4.3)\n",
            "Requirement already satisfied: six in /usr/local/lib/python3.7/dist-packages (from sacremoses->transformers) (1.15.0)\n",
            "Requirement already satisfied: click in /usr/local/lib/python3.7/dist-packages (from sacremoses->transformers) (7.1.2)\n",
            "Requirement already satisfied: joblib in /usr/local/lib/python3.7/dist-packages (from sacremoses->transformers) (1.0.1)\n",
            "Requirement already satisfied: pyparsing>=2.0.2 in /usr/local/lib/python3.7/dist-packages (from packaging->transformers) (2.4.7)\n",
            "Building wheels for collected packages: sacremoses\n",
            "  Building wheel for sacremoses (setup.py) ... \u001b[?25l\u001b[?25hdone\n",
            "  Created wheel for sacremoses: filename=sacremoses-0.0.44-cp37-none-any.whl size=886084 sha256=cce5822bcb7e0b357e3ded7de9866188fc992e4fcf77cb7a5dd7ee135695ae6f\n",
            "  Stored in directory: /root/.cache/pip/wheels/3e/fb/c0/13ab4d63d537658f448366744654323077c4d90069b6512f3c\n",
            "Successfully built sacremoses\n",
            "Installing collected packages: tokenizers, sacremoses, transformers\n",
            "Successfully installed sacremoses-0.0.44 tokenizers-0.10.2 transformers-4.4.2\n"
          ],
          "name": "stdout"
        }
      ]
    },
    {
      "cell_type": "code",
      "metadata": {
        "id": "Ebiv2CjthLSl"
      },
      "source": [
        "from transformers import AdamW, get_linear_schedule_with_warmup\n",
        "#트랜스포머에서 제공하는 AdamW 사용\n",
        "#아담 = 운동량+가중치 값\n",
        "#lr = get_linear_schedule_with_warmup > 러닝레이트 조금씩 감소시키는 스케쥴러\n"
      ],
      "execution_count": null,
      "outputs": []
    },
    {
      "cell_type": "code",
      "metadata": {
        "id": "wlrwziZrhhoq"
      },
      "source": [
        "#소스 끝 \n",
        "\n",
        "from transformers import ElectraConfig, ElectraTokenizer, ElectraForSequenceClassification\n",
        "\n",
        "# from src import (\n",
        "#     CONFIG_CLASSES,\n",
        "#     TOKENIZER_CLASSES,\n",
        "#     MODEL_FOR_SEQUENCE_CLASSIFICATION,\n",
        "#     init_logger,\n",
        "#     set_seed,\n",
        "#     compute_metrics\n",
        "# ) \n",
        "#src 에서 데이터를 가지고 오지 않음으로 주석 처리\n",
        "\n",
        "#자료의 date 설정\n",
        "def init_logger():\n",
        "    logging.basicConfig(\n",
        "        format=\"%(asctime)s - %(levelname)s - %(name)s -   %(message)s\",\n",
        "        datefmt=\"%m/%d/%Y %H:%M:%S\",\n",
        "        level=logging.INFO,\n",
        "    )\n",
        "\n",
        "#라벨값과 예상치 평균\n",
        "def simple_accuracy(labels, preds): #수정\n",
        "    return (labels == preds).mean()\n",
        "\n",
        "#라벨값과 예상치 갯수 같을때 리턴 값 발생\n",
        "def compute_metrics(labels, preds): #수정\n",
        "    assert len(preds) == len(labels)\n",
        "\n",
        "    return {\n",
        "        \"acc\": simple_accuracy(labels, preds),\n",
        "    }\n",
        "\n",
        "\n",
        "#시드 부분도 주자 않으므로 일단 주석 처리\n",
        "# def set_seed(args):\n",
        "#     random.seed(args.seed)\n",
        "#     np.random.seed(args.seed)\n",
        "#     torch.manual_seed(args.seed)\n",
        "\n",
        "#     if not args.no_cuda and torch.cuda.is_available():\n",
        "#         torch.cuda.manual_seed_all(args.seed)"
      ],
      "execution_count": null,
      "outputs": []
    },
    {
      "cell_type": "markdown",
      "metadata": {
        "id": "0Katgk6xaj90"
      },
      "source": [
        "모델 추가"
      ]
    },
    {
      "cell_type": "code",
      "metadata": {
        "id": "9A-NZ6CHBx0D"
      },
      "source": [
        "# 본격적인 NSMC 추가\n",
        "\n",
        "#Naver sentiment movie corpus = nsmc\n",
        "#프로세서 클래스 호출\n",
        "class NsmcProcessor(object):\n",
        "    \"\"\"Processor for the NSMC data set \"\"\" #데이터 셋의 문장 시작 1\n",
        "\n",
        "    def __init__(self, args):\n",
        "        self.args = args\n",
        "\n",
        "    #라벨값은 0 아님 1\n",
        "    def get_labels(self):\n",
        "        return [\"0\", \"1\"]\n",
        "\n",
        "    #엔코딩 utf8 잊지말고 꼭 주기\n",
        "    @classmethod\n",
        "    def _read_file(cls, input_file):\n",
        "        \"\"\"Reads a tab separated value file.\"\"\"  #데이터 셋의 문장 시작 2\n",
        "        with open(input_file, \"r\", encoding=\"utf-8\") as f:\n",
        "            lines = [] #빈리스트 주고\n",
        "            for line in f:\n",
        "                lines.append(line.strip())\n",
        "            return lines\n",
        "\n",
        "    def _create_examples(self, lines, set_type):\n",
        "        \"\"\"Creates examples for the training and dev sets.\"\"\"  #데이터 셋의 문장 시작 3\n",
        "        examples = [] #예시 리스트 주고\n",
        "        for (i, line) in enumerate(lines[1:]): #enumerate 줌\n",
        "            line = line.split(\"\\t\")\n",
        "            guid = \"%s-%s\" % (set_type, i)\n",
        "            text_a = line[1]\n",
        "            label = line[2]\n",
        "            if i % 10000 == 0:\n",
        "                logger.info(line)\n",
        "            examples.append(InputExample(guid=guid, text_a=text_a, text_b=None, label=label))\n",
        "        return examples\n",
        "\n",
        "    def get_examples(self, mode):\n",
        "        \"\"\"\n",
        "        Args:\n",
        "            mode: train, dev, test\n",
        "        \"\"\" #데이터 셋의 문장 시작 4\n",
        "        file_to_read = None #파일 읽기 모드로\n",
        "        if mode == \"train\":\n",
        "            file_to_read = self.args.train_file\n",
        "        elif mode == \"dev\":\n",
        "            file_to_read = self.args.dev_file\n",
        "        elif mode == \"test\":\n",
        "            file_to_read = self.args.test_file\n",
        "        \n",
        "        logger.info(\"LOOKING AT {}\".format(os.path.join(self.args.data_dir, self.args.task, file_to_read)))\n",
        "        return self._create_examples(\n",
        "            self._read_file(os.path.join(self.args.data_dir, self.args.task, file_to_read)), mode\n",
        "        )\n"
      ],
      "execution_count": null,
      "outputs": []
    },
    {
      "cell_type": "markdown",
      "metadata": {
        "id": "VYcwyCf2aoeR"
      },
      "source": [
        "모델 설정"
      ]
    },
    {
      "cell_type": "code",
      "metadata": {
        "id": "FcrM5eGgl7Yx"
      },
      "source": [
        "class InputExample(object):\n",
        "    \"\"\"\n",
        "    A single training/test example for simple sequence classification.\n",
        "    \"\"\"\n",
        "    #인풋 예시 데이터 문장 시작 1\n",
        "    def __init__(self, guid, text_a, text_b, label):\n",
        "        self.guid = guid\n",
        "        self.text_a = text_a\n",
        "        self.text_b = text_b\n",
        "        self.label = label\n",
        "\n",
        "    def __repr__(self):\n",
        "        return str(self.to_json_string())\n",
        "\n",
        "    def to_dict(self):\n",
        "        \"\"\"Serializes this instance to a Python dictionary.\"\"\" #인풋 예시 데이터 문장 시작 2\n",
        "        output = copy.deepcopy(self.__dict__)\n",
        "        return output\n",
        "\n",
        "    def to_json_string(self):\n",
        "        \"\"\"Serializes this instance to a JSON string.\"\"\" #인풋 예시 데이터 문장 시작 3\n",
        "        return json.dumps(self.to_dict(), indent=2, sort_keys=True) + \"\\n\"\n",
        "\n",
        "\n",
        "class InputFeatures(object):\n",
        "    \"\"\"A single set of features of data.\"\"\" \n",
        "    # 피처 문장 시작 1\n",
        "    def __init__(self, input_ids, attention_mask, token_type_ids, label):\n",
        "        self.input_ids = input_ids\n",
        "        self.attention_mask = attention_mask\n",
        "        self.token_type_ids = token_type_ids\n",
        "        self.label = label\n",
        "\n",
        "    def __repr__(self):\n",
        "        return str(self.to_json_string())\n",
        "\n",
        "    def to_dict(self):\n",
        "        \"\"\"Serializes this instance to a Python dictionary.\"\"\" # 피처 문장 시작 2\n",
        "        output = copy.deepcopy(self.__dict__)\n",
        "        return output\n",
        "\n",
        "    def to_json_string(self):\n",
        "        \"\"\"Serializes this instance to a JSON string.\"\"\" # 피처 문장 시작 3\n",
        "        return json.dumps(self.to_dict(), indent=2, sort_keys=True) + \"\\n\"\n"
      ],
      "execution_count": null,
      "outputs": []
    },
    {
      "cell_type": "code",
      "metadata": {
        "id": "_mqTgrmcyTvk"
      },
      "source": [
        "import copy\n",
        "from torch.utils.data import TensorDataset"
      ],
      "execution_count": null,
      "outputs": []
    },
    {
      "cell_type": "markdown",
      "metadata": {
        "id": "PXKQ9PBkar8W"
      },
      "source": [
        "훈련"
      ]
    },
    {
      "cell_type": "code",
      "metadata": {
        "id": "iMo5vr5urwQo"
      },
      "source": [
        "def seq_cls_convert_examples_to_features(args, examples, tokenizer, max_length, task, processor):\n",
        "    label_list = processor.get_labels()\n",
        "    logger.info(\"Using label list {} for task {}\".format(label_list, task))\n",
        "\n",
        "    label_map = {label: i for i, label in enumerate(label_list)} #enumerate 추가\n",
        "\n",
        "    def label_from_example(example):\n",
        "        #라벨의 예제의 아웃풋 모드 설정 2개\n",
        "        if OUTPUT_MODE == \"classification\":\n",
        "            return label_map[example.label]\n",
        "        elif OUTPUT_MODE == \"regression\":\n",
        "            return float(example.label)\n",
        "        raise KeyError(OUTPUT_MODE)\n",
        "\n",
        "    labels = [label_from_example(example) for example in examples]\n",
        "\n",
        "    batch_encoding = tokenizer.batch_encode_plus(\n",
        "        [(example.text_a, example.text_b) for example in examples],\n",
        "        max_length=max_length,\n",
        "        padding=\"max_length\",\n",
        "        # token들의 max length보다 크게 MAX_LEN을 설정\n",
        "        # 설정한 MAX_LEN 만큼 빈 공간을 0이 채움\n",
        "        add_special_tokens=True,\n",
        "        truncation=True,\n",
        "    )\n",
        "\n",
        "    features = [] #빈리스트\n",
        "    for i in range(len(examples)):\n",
        "        inputs = {k: batch_encoding[k][i] for k in batch_encoding}\n",
        "        feature = InputFeatures(**inputs, label=labels[i])\n",
        "        features.append(feature)\n",
        "\n",
        "    for i, example in enumerate(examples[:5]): # i 와 예시에 enumerate 주고\n",
        "        logger.info(\"*** Example ***\")\n",
        "        logger.info(\"guid: {}\".format(example.guid))\n",
        "        logger.info(\"input_ids: {}\".format(\" \".join([str(x) for x in features[i].input_ids])))\n",
        "        logger.info(\"attention_mask: {}\".format(\" \".join([str(x) for x in features[i].attention_mask])))\n",
        "        logger.info(\"token_type_ids: {}\".format(\" \".join([str(x) for x in features[i].token_type_ids])))\n",
        "        logger.info(\"label: {}\".format(features[i].label))\n",
        "        #결괏값 로거정보\n",
        "\n",
        "\n",
        "    return features\n",
        "\n",
        "def load_and_cache_examples(args, tokenizer, mode):\n",
        "    processor = NsmcProcessor(args) #수정 > 프로세서는 NSMC프로세서로 줄거니 수정\n",
        "\n",
        "        # Load data features from cache or dataset file\n",
        "\n",
        "    cached_features_file = os.path.join(\n",
        "            args.data_dir,\n",
        "                    \"cached_{}_{}_{}_{}\".format(\n",
        "                                str(args.task), list(filter(None, args.model_name_or_path.split(\"/\"))).pop(), str(args.max_seq_len), mode\n",
        "                                        ),\n",
        "                                            )\n",
        "\n",
        "\n",
        "\n",
        "    # Load data features from cache or dataset file\n",
        "    cached_features_file = os.path.join(\n",
        "        args.data_dir,\n",
        "        \"cached_{}_{}_{}_{}\".format(\n",
        "            str(args.task), list(filter(None, args.model_name_or_path.split(\"/\"))).pop(), str(args.max_seq_len), mode\n",
        "        ),\n",
        "    )\n",
        "\n",
        "    if os.path.exists(cached_features_file):\n",
        "        logger.info(\"Loading features from cached file %s\", cached_features_file)\n",
        "        features = torch.load(cached_features_file)\n",
        "    else:\n",
        "        logger.info(\"Creating features from dataset file at %s\", args.data_dir)\n",
        "        if mode in (\"train\", \"dev\", \"test\"):\n",
        "            examples = processor.get_examples(mode)\n",
        "        else:\n",
        "            raise ValueError(\"For mode, only train, dev, test is avaiable\")\n",
        "\n",
        "        features = seq_cls_convert_examples_to_features(\n",
        "            args, examples, tokenizer, max_length=args.max_seq_len, task=args.task, processor=processor\n",
        "        )\n",
        "        logger.info(\"Saving features into cached file %s\", cached_features_file)\n",
        "        torch.save(features, cached_features_file) #파일 저장\n",
        "\n",
        "    # Convert to Tensors and build dataset\n",
        "    all_input_ids = torch.tensor([f.input_ids for f in features], dtype=torch.long)\n",
        "    all_attention_mask = torch.tensor([f.attention_mask for f in features], dtype=torch.long)\n",
        "    all_token_type_ids = torch.tensor([f.token_type_ids for f in features], dtype=torch.long)\n",
        "\n",
        "    if OUTPUT_MODE == \"classification\":\n",
        "        all_labels = torch.tensor([f.label for f in features], dtype=torch.long)\n",
        "    elif OUTPUT_MODE == \"regression\":\n",
        "        all_labels = torch.tensor([f.label for f in features], dtype=torch.float)\n",
        "\n",
        "    dataset = TensorDataset(all_input_ids, all_attention_mask, all_token_type_ids, all_labels)\n",
        "    \n",
        "    return dataset"
      ],
      "execution_count": null,
      "outputs": []
    },
    {
      "cell_type": "code",
      "metadata": {
        "id": "DAC7770hukwa"
      },
      "source": [
        "logger = logging.getLogger(__name__)"
      ],
      "execution_count": null,
      "outputs": []
    },
    {
      "cell_type": "markdown",
      "metadata": {
        "id": "qCCqXE00bBrT"
      },
      "source": [
        "학습"
      ]
    },
    {
      "cell_type": "code",
      "metadata": {
        "id": "PPIHtRf9uzEC"
      },
      "source": [
        "#모델 학습 데이터 값                                \n",
        "\n",
        "def train(args, model, train_dataset, dev_dataset=None, test_dataset=None):\n",
        "    train_sampler = RandomSampler(train_dataset)\n",
        "    train_dataloader = DataLoader(train_dataset, sampler=train_sampler, batch_size=args.train_batch_size)\n",
        "\n",
        "    if args.max_steps > 0:\n",
        "        t_total = args.max_steps\n",
        "        args.num_train_epochs = args.max_steps // (len(train_dataloader) // args.gradient_accumulation_steps) + 1\n",
        "    else: \n",
        "        t_total = len(train_dataloader) // args.gradient_accumulation_steps * args.num_train_epochs\n",
        "    \n",
        "    # Prepare optimizer and schedule \n",
        "    no_decay = ['bias', 'LayerNorm.weight']\n",
        "    optimizer_grouped_parameters = [\n",
        "        {'params': [p for n, p in model.named_parameters() if not any(nd in n for nd in no_decay)],\n",
        "         'weight_decay': args.weight_decay},\n",
        "        {'params': [p for n, p in model.named_parameters() if any(nd in n for nd in no_decay)], \n",
        "         'weight_decay': 0.0}\n",
        "    ]\n",
        "    #옵티마이저, 스케쥴러 설정\n",
        "    optimizer = AdamW(optimizer_grouped_parameters, lr=args.learning_rate, eps=args.adam_epsilon)\n",
        "    scheduler = get_linear_schedule_with_warmup(optimizer, num_warmup_steps=int(t_total * args.warmup_proportion), num_training_steps=t_total)\n",
        "\n",
        "    if os.path.isfile(os.path.join(args.model_name_or_path, \"optimizer.pt\")) and os.path.isfile(\n",
        "            os.path.join(args.model_name_or_path, \"scheduler.pt\")\n",
        "    ):\n",
        "        # Load optimizer and scheduler states\n",
        "        optimizer.load_state_dict(torch.load(os.path.join(args.model_name_or_path, \"optimizer.pt\")))\n",
        "        scheduler.load_state_dict(torch.load(os.path.join(args.model_name_or_path, \"scheduler.pt\")))\n",
        "    \n",
        "    # Train\n",
        "    # - log 로그 정보   \n",
        "    logger.info(\"***** Running training *****\")\n",
        "    logger.info(\"  Num examples = %d\", len(train_dataset))\n",
        "    logger.info(\"  Num Epochs = %d\", args.num_train_epochs)\n",
        "    logger.info(\"  Total train batch size = %d\", args.train_batch_size)\n",
        "    logger.info(\"  Gradient Accumulation steps = %d\", args.gradient_accumulation_steps)\n",
        "    logger.info(\"  Total optimization steps = %d\", t_total)\n",
        "    logger.info(\"  Logging steps = %d\", args.logging_steps)\n",
        "    logger.info(\"  Save steps = %d\", args.save_steps)\n",
        "\n",
        "    global_step = 0\n",
        "    tr_loss = 0.0\n",
        "\n",
        "    model.zero_grad() #모델 초기화\n",
        "    #마스터 바 설정 모델 데이터 훈련값에서 가져오기 epochs\n",
        "    mb = master_bar(range(int(args.num_train_epochs)))\n",
        "\n",
        "    #epoch 설정 10회로 설정했음. \n",
        "    for epoch in mb:\n",
        "        epoch_iterator = progress_bar(train_dataloader, parent=mb)\n",
        "        for step, batch in enumerate(epoch_iterator): #enumerate 값 주고\n",
        "            model.train()\n",
        "            batch = tuple(t.to(args.device) for t in batch)\n",
        "            inputs = {\n",
        "                \"input_ids\" : batch[0],\n",
        "                \"attention_mask\" : batch[1],\n",
        "                \"token_type_ids\" : batch[2],\n",
        "                \"labels\" : batch[3]\n",
        "            }\n",
        "            #아웃풋, 로스 설정\n",
        "            outputs = model(**inputs)\n",
        "            loss = outputs[0]\n",
        "\n",
        "            if args.gradient_accumulation_steps > 1:\n",
        "                loss = loss / args.gradient_accumulation_steps\n",
        "            #로스 설정\n",
        "            loss.backward()\n",
        "            tr_loss += loss.item()\n",
        "\n",
        "            if (step + 1) % args.gradient_accumulation_steps == 0 or (\n",
        "                len(train_dataloader) <= args.gradient_accumulation_steps\n",
        "                and (step + 1) == len(train_dataloader)\n",
        "            ):\n",
        "                torch.nn.utils.clip_grad_norm_(model.parameters(), args.max_grad_norm)\n",
        "                \n",
        "                #값 스킵하여 가져오기\n",
        "                optimizer.step()\n",
        "                scheduler.step()\n",
        "                model.zero_grad()\n",
        "                global_step +=1\n",
        "\n",
        "\n",
        "                if args.logging_steps > 0 and global_step % args.logging_steps == 0:\n",
        "                    if args.evaluate_test_during_training:\n",
        "                        evaluate(args, model, test_dataset, \"test\", global_step)\n",
        "                    else:\n",
        "                        evaluate(args, model, test_dataset, \"dev\", global_step)\n",
        "                \n",
        "                if args.save_steps > 0 and global_step % args.save_steps == 0:\n",
        "                    \n",
        "                    output_dir = os.path.join(args.output_dir, \"checkpoint-{}\".format(global_step))\n",
        "                    if not os.path.exists(output_dir):\n",
        "                        os.makedirs(output_dir)\n",
        "                    model_to_save = (\n",
        "                        model.module if hasattr(model, \"module\") else model\n",
        "                    ) #hasatter 등장 = 변수 확인\n",
        "                    model_to_save.save_pretrained(output_dir) #모델 저장\n",
        "\n",
        "                    torch.save(args, os.path.join(output_dir, \"training_args.bin\"))\n",
        "                    logger.info(\"Saving model checkpoint to {}\".format(output_dir))\n",
        "                    \n",
        "                    #옵티마이저 저장,조인\n",
        "                    if args.save_optimizer:\n",
        "                        torch.save(optimizer.state_dict(), os.path.join(output_dir, \"optimizer.pt\"))\n",
        "                        torch.save(scheduler.state_dict(), os.path.join(output_dir, \"scheduler.pt\"))\n",
        "                        logger.info(\"Saving optimizer and scheduler states to {}\".format(output_dir))\n",
        "\n",
        "            if args.max_steps > 0 and global_step > args.max_steps:\n",
        "                break\n",
        "        #에폭 몇회 완료 출력               break\n",
        "                #에폭 몇회 완료 출력\n",
        "                        mb.write(\"Epoch {} done\".format(epoch + 1))\n",
        "\n",
        "                                if args.max_steps > 0 and global_step > args.max_steps:\n",
        "                                            break\n",
        "\n",
        "                                                return global_step, tr_loss / global_step\n",
        "        mb.write(\"Epoch {} done\".format(epoch + 1))\n",
        "\n",
        "        if args.max_steps > 0 and global_step > args.max_steps:\n",
        "            break\n",
        "\n",
        "    return global_step, tr_loss / global_step"
      ],
      "execution_count": null,
      "outputs": []
    },
    {
      "cell_type": "markdown",
      "metadata": {
        "id": "tYjkLMX7a9uG"
      },
      "source": [
        "학습 결과 평가분석"
      ]
    },
    {
      "cell_type": "code",
      "metadata": {
        "id": "hkTOii6wuy8b"
      },
      "source": [
        "# Eval!\n",
        "def evaluate(args, model, eval_dataset, mode, global_step=None):\n",
        "    results = {}\n",
        "    #eval_dataset 설정\n",
        "    eval_sampler = SequentialSampler(eval_dataset)\n",
        "    eval_dataloader = DataLoader(eval_dataset, sampler=eval_sampler, batch_size=args.eval_batch_size)\n",
        "\n",
        "    # Eval!\n",
        "    #러닝 eval 모델 훈련값, 글로벌스텝 값 출력1\n",
        "    if global_step != None:\n",
        "        logger.info(\"***** Running evaluation on {} dataset ({} step) *****\".format(mode, global_step))\n",
        "        \n",
        "    else: \n",
        "        logger.info(\"***** Running evaluation on {} dataset *****\".format(mode))\n",
        "    #출력 2\n",
        "    logger.info(\"  Num examples = {}\".format(len(eval_dataset)))\n",
        "    logger.info(\"  Eval Batch size = {}\".format(args.eval_batch_size))\n",
        "\n",
        "    #eval loss 관련\n",
        "    eval_loss = 0.0\n",
        "    nb_eval_steps = 0\n",
        "    preds = None\n",
        "    out_label_ids = None\n",
        "    \n",
        "    for batch in progress_bar(eval_dataloader):\n",
        "        model.eval()\n",
        "        batch = tuple(t.to(args.device) for t in batch)\n",
        "\n",
        "        with torch.no_grad():\n",
        "            inputs = {\n",
        "                \"input_ids\": batch[0],\n",
        "                \"attention_mask\": batch[1],\n",
        "                \"token_type_ids\": batch[2],\n",
        "                \"labels\": batch[3]\n",
        "            }\n",
        "            outputs = model(**inputs)\n",
        "            tmp_eval_loss, logits = outputs[:2]\n",
        "\n",
        "            eval_loss += tmp_eval_loss.mean().item()\n",
        "        nb_eval_steps += 1\n",
        "        if preds is None:\n",
        "            preds = logits.detach().cpu().numpy()\n",
        "            out_label_ids = inputs[\"labels\"].detach().cpu().numpy()\n",
        "        else:\n",
        "            preds = np.append(preds, logits.detach().cpu().numpy(), axis=0)\n",
        "            out_label_ids = np.append(out_label_ids, inputs[\"labels\"].detach().cpu().numpy(), axis=0)\n",
        "\n",
        "    eval_loss = eval_loss / nb_eval_steps\n",
        "    if OUTPUT_MODE == \"classification\":\n",
        "        preds = np.argmax(preds, axis=1)\n",
        "    elif OUTPUT_MODE == \"regression\":\n",
        "        preds = np.squeeze(preds)\n",
        "    result = compute_metrics(out_label_ids, preds)\n",
        "    results.update(result)\n",
        "\n",
        "    output_dir = os.path.join(args.output_dir, mode)\n",
        "    if not os.path.exists(output_dir):\n",
        "        os.makedirs(output_dir)\n",
        "\n",
        "    output_eval_file = os.path.join(output_dir, \"{}-{}.txt\".format(mode, global_step) if global_step else \"{}.txt\".format(mode))\n",
        "    with open(output_eval_file, \"w\") as f_w:\n",
        "        logger.info(\"***** Eval results on {} dataset *****\".format(mode))\n",
        "        for key in sorted(results.keys()):\n",
        "            logger.info(\"  {} = {}\".format(key, str(results[key])))\n",
        "            f_w.write(\"  {} = {}\\n\".format(key, str(results[key])))\n",
        "\n",
        "    return results"
      ],
      "execution_count": null,
      "outputs": []
    },
    {
      "cell_type": "markdown",
      "metadata": {
        "id": "RX9hWsvUax-L"
      },
      "source": [
        "실습, 실행"
      ]
    },
    {
      "cell_type": "code",
      "metadata": {
        "id": "aBQZUyFouyx0"
      },
      "source": [
        "def main(config_file):\n",
        "    # Read from config file and make args\n",
        "    with open(config_file) as f:\n",
        "        args = AttrDict(json.load(f))\n",
        "    logger.info(\"Training/evaluation parameters {}\".format(args))\n",
        "\n",
        "    args.output_dir = os.path.join(args.ckpt_dir, args.output_dir)\n",
        "\n",
        "    init_logger()\n",
        "\n",
        "    processor = PROCESSOR(args) #수정\n",
        "    labels = processor.get_labels()\n",
        "\n",
        "    if OUTPUT_MODE == \"regression\":\n",
        "        config = CONFIG_CLASS.from_pretrained(\n",
        "            args.model_name_or_path,\n",
        "            num_labels=TASK_NUM_LABELS\n",
        "        )\n",
        "    else:\n",
        "        config = CONFIG_CLASS.from_pretrained(\n",
        "            args.model_name_or_path,\n",
        "            num_labels=TASK_NUM_LABELS,\n",
        "            id2label={str(i): label for i, label in enumerate(labels)},\n",
        "            label2id={label: i for i, label in enumerate(labels)},\n",
        "        )\n",
        "\n",
        "    tokenizer = TOKENIZER_CLASS.from_pretrained(\n",
        "        args.model_name_or_path,\n",
        "        do_lower_case=args.do_lower_case\n",
        "    )\n",
        "    model = MODEL_FOR_SEQUENCE_CLASSIFICATION.from_pretrained(\n",
        "        args.model_name_or_path,\n",
        "        config=config\n",
        "    )\n",
        "\n",
        "    # GPU or CPU\n",
        "    args.device = \"cuda\" if torch.cuda.is_available() and not args.no_cuda else \"cpu\"\n",
        "    model.to(args.device)\n",
        "\n",
        "    # Load dataset\n",
        "    train_dataset = load_and_cache_examples(args, tokenizer, mode=\"train\") if args.train_file else None\n",
        "    dev_dataset = load_and_cache_examples(args, tokenizer, mode=\"dev\") if args.dev_file else None\n",
        "    test_dataset = load_and_cache_examples(args, tokenizer, mode=\"test\") if args.test_file else None\n",
        "\n",
        "    if dev_dataset == None:\n",
        "        args.evaluate_test_during_training = True  # If there is no dev dataset, only use testset\n",
        "\n",
        "    if args.do_train:\n",
        "        global_step, tr_loss = train(args, model, train_dataset, dev_dataset, test_dataset)\n",
        "        logger.info(\" global_step = {}, average loss = {}\".format(global_step, tr_loss))\n",
        "\n",
        "    results = {}\n",
        "    if args.do_eval:\n",
        "        checkpoints = list(\n",
        "            os.path.dirname(c) for c in sorted(glob.glob(args.output_dir + \"/**/\" + \"pytorch_model.bin\", recursive=True))\n",
        "        )\n",
        "        if not args.eval_all_checkpoints:\n",
        "            checkpoints = checkpoints[-1:]\n",
        "        else:\n",
        "            logging.getLogger(\"transformers.configuration_utils\").setLevel(logging.WARN)  # Reduce logging\n",
        "            logging.getLogger(\"transformers.modeling_utils\").setLevel(logging.WARN)  # Reduce logging\n",
        "        logger.info(\"Evaluate the following checkpoints: %s\", checkpoints)\n",
        "        for checkpoint in checkpoints:\n",
        "            global_step = checkpoint.split(\"-\")[-1]\n",
        "            model = MODEL_FOR_SEQUENCE_CLASSIFICATION.from_pretrained(checkpoint)\n",
        "            model.to(args.device)\n",
        "            result = evaluate(args, model, test_dataset, mode=\"test\", global_step=global_step)\n",
        "            result = dict((k + \"_{}\".format(global_step), v) for k, v in result.items())\n",
        "            results.update(result)\n",
        "\n",
        "        output_eval_file = os.path.join(args.output_dir, \"eval_results.txt\")\n",
        "        with open(output_eval_file, \"w\") as f_w:\n",
        "            for key in sorted(results.keys()):\n",
        "                f_w.write(\"{} = {}\\n\".format(key, str(results[key])))"
      ],
      "execution_count": null,
      "outputs": []
    },
    {
      "cell_type": "code",
      "metadata": {
        "id": "RBHEG_ohySM8"
      },
      "source": [
        "TASK_NUM_LABELS = 1\n",
        "PROCESSOR = NsmcProcessor\n",
        "OUTPUT_MODE = \"classification\"\n",
        "CONFIG_CLASS = ElectraConfig\n",
        "TOKENIZER_CLASS = ElectraTokenizer\n",
        "MODEL_FOR_SEQUENCE_CLASSIFICATION = ElectraForSequenceClassification"
      ],
      "execution_count": null,
      "outputs": []
    },
    {
      "cell_type": "code",
      "metadata": {
        "id": "nXtmLTiIkWln"
      },
      "source": [
        ""
      ],
      "execution_count": null,
      "outputs": []
    },
    {
      "cell_type": "code",
      "metadata": {
        "id": "oCzcm5WkkW2m"
      },
      "source": [
        ""
      ],
      "execution_count": null,
      "outputs": []
    },
    {
      "cell_type": "code",
      "metadata": {
        "colab": {
          "base_uri": "https://localhost:8080/",
          "height": 1000,
          "referenced_widgets": [
            "45de8bf5e96d47f99bc1c30bcb712261",
            "055fdb73d96144a7bc5f4994f29bcf41",
            "100df9c23e9e44b7a5d5d4c25bd64d0d",
            "f6290c538e0749a68bd02aa809a220c5",
            "2bf0de04e0d74583a7d16aadf778f3e5",
            "f78f51703aef4ebf8dbc8729c6c6a299",
            "25132581248648659e15468ec707daf6",
            "d08151a98b9b4232a3eed1c109fbe6b7",
            "b456b048e3734da8999d7753151b53ef",
            "a49ca6771b6e4a0590b9a5a34a702901",
            "6bc793addfe94aa0be6faacd51a1b186",
            "5da231ceb7db4a708c241dc3e71c8bb6",
            "bb35701845eb4e259683f4e3f588bf60",
            "b7093d6849314743a56660b3d7007a8f",
            "8b0bf3c8e0f64eacba921b27946ac48d",
            "f5445c10eb73437f8f03f9a05878ceeb",
            "184cc2f2f3dd4182a50d7b2863716093",
            "93ef4ef4ecc5456f9ae35f864d0f0622",
            "694a896f63d8423185da44d2abe8d8fa",
            "87aa9d3d8c7c4d18ac51024179e613cf",
            "93465be9cee1436bad395643b9b1619f",
            "6b66759112d54958ac1069a39eb8a587",
            "d15cf2e2e74b4a05a20bf1a5ec577aa3",
            "f0546b3d23a84bda9a0ed3947746f42f",
            "301b1f2eee934c98b385156a5114ee46",
            "f4c0b4330b1e4a0884ae91eb204c2ba6",
            "fb683f5bb1b2499a89bf835a51fe5cc6",
            "cdd77af7ead647c8a0e1c16fb5dcb527",
            "bba616ba85a54f3e9f41d20c4ac1ff76",
            "4e46d56cdf5e4b8e96ce9fa9a118032e",
            "480ac490a4384b23967a5022c1ff0f25",
            "532f6eea02184284bb7e65e34fc5aee9"
          ]
        },
        "id": "DKI8uoXNnL7o",
        "outputId": "8381c0cc-ea8b-430f-8717-7938d89874c6"
      },
      "source": [
        "config_file = '/content/koelectra-small-v3.json'\n",
        "main(config_file)"
      ],
      "execution_count": null,
      "outputs": [
        {
          "output_type": "stream",
          "text": [
            "04/06/2021 07:31:27 - INFO - __main__ -   Training/evaluation parameters AttrDict({'task': 'nsmc', 'data_dir': '/content/drive/MyDrive/nsmc_0406', 'ckpt_dir': '/content/drive/MyDrive/nsmc_0406/ckpt', 'train_file': 'ratings_train.txt', 'dev_file': '', 'test_file': 'ratings_test.txt', 'evaluate_test_during_training': True, 'eval_all_checkpoints': True, 'save_optimizer': False, 'do_lower_case': False, 'do_train': True, 'do_eval': True, 'max_seq_len': 128, 'num_train_epochs': 10, 'weight_decay': 0.0, 'gradient_accumulation_steps': 1, 'adam_epsilon': 1e-08, 'warmup_proportion': 0, 'max_steps': -1, 'max_grad_norm': 1.0, 'no_cuda': False, 'model_type': 'koelectra-small-v3', 'model_name_or_path': 'monologg/koelectra-small-v3-discriminator', 'output_dir': '/content/drive/MyDrive/nsmc_0406/koelectra-small-v3-nsmc-ckpt', 'seed': 42, 'train_batch_size': 32, 'eval_batch_size': 128, 'logging_steps': 2000, 'save_steps': 2000, 'learning_rate': 5e-05})\n",
            "04/06/2021 07:31:27 - INFO - filelock -   Lock 140088246315152 acquired on /root/.cache/huggingface/transformers/bd0f09888c5a5619ddb9de81d4a9936a94e5f45064f9a23ba6d39241ceebce02.d2485d28e5c07ca60bfa4fe84af673e0df83401e5c56bcdd991878cb4966eb34.lock\n"
          ],
          "name": "stderr"
        },
        {
          "output_type": "display_data",
          "data": {
            "application/vnd.jupyter.widget-view+json": {
              "model_id": "45de8bf5e96d47f99bc1c30bcb712261",
              "version_minor": 0,
              "version_major": 2
            },
            "text/plain": [
              "HBox(children=(FloatProgress(value=0.0, description='Downloading', max=458.0, style=ProgressStyle(description_…"
            ]
          },
          "metadata": {
            "tags": []
          }
        },
        {
          "output_type": "stream",
          "text": [
            "04/06/2021 07:31:27 - INFO - filelock -   Lock 140088246315152 released on /root/.cache/huggingface/transformers/bd0f09888c5a5619ddb9de81d4a9936a94e5f45064f9a23ba6d39241ceebce02.d2485d28e5c07ca60bfa4fe84af673e0df83401e5c56bcdd991878cb4966eb34.lock\n",
            "04/06/2021 07:31:27 - INFO - filelock -   Lock 140088051414096 acquired on /root/.cache/huggingface/transformers/32dc9196217c0cc26c7dd705168e8615ea2d82613aa5b672d7647b8e8d58545f.541023ff50f833a9bab3e48e78ae1856cf6744bdb336c86e797eaf675b62b2b8.lock\n"
          ],
          "name": "stderr"
        },
        {
          "output_type": "stream",
          "text": [
            "\n"
          ],
          "name": "stdout"
        },
        {
          "output_type": "display_data",
          "data": {
            "application/vnd.jupyter.widget-view+json": {
              "model_id": "b456b048e3734da8999d7753151b53ef",
              "version_minor": 0,
              "version_major": 2
            },
            "text/plain": [
              "HBox(children=(FloatProgress(value=0.0, description='Downloading', max=263326.0, style=ProgressStyle(descripti…"
            ]
          },
          "metadata": {
            "tags": []
          }
        },
        {
          "output_type": "stream",
          "text": [
            "04/06/2021 07:31:27 - INFO - filelock -   Lock 140088051414096 released on /root/.cache/huggingface/transformers/32dc9196217c0cc26c7dd705168e8615ea2d82613aa5b672d7647b8e8d58545f.541023ff50f833a9bab3e48e78ae1856cf6744bdb336c86e797eaf675b62b2b8.lock\n",
            "04/06/2021 07:31:27 - INFO - filelock -   Lock 140087881144848 acquired on /root/.cache/huggingface/transformers/a6c32c62ff893fb2aa32dabc5722c9f9eb7243cc1cb4514b9ba3fdb1b52704d6.35f013c4fd3572cfdddbbdf6223ef162dd4fb536bf83007533f201addf3287b7.lock\n"
          ],
          "name": "stderr"
        },
        {
          "output_type": "stream",
          "text": [
            "\n"
          ],
          "name": "stdout"
        },
        {
          "output_type": "display_data",
          "data": {
            "application/vnd.jupyter.widget-view+json": {
              "model_id": "184cc2f2f3dd4182a50d7b2863716093",
              "version_minor": 0,
              "version_major": 2
            },
            "text/plain": [
              "HBox(children=(FloatProgress(value=0.0, description='Downloading', max=61.0, style=ProgressStyle(description_w…"
            ]
          },
          "metadata": {
            "tags": []
          }
        },
        {
          "output_type": "stream",
          "text": [
            "04/06/2021 07:31:27 - INFO - filelock -   Lock 140087881144848 released on /root/.cache/huggingface/transformers/a6c32c62ff893fb2aa32dabc5722c9f9eb7243cc1cb4514b9ba3fdb1b52704d6.35f013c4fd3572cfdddbbdf6223ef162dd4fb536bf83007533f201addf3287b7.lock\n"
          ],
          "name": "stderr"
        },
        {
          "output_type": "stream",
          "text": [
            "\n"
          ],
          "name": "stdout"
        },
        {
          "output_type": "stream",
          "text": [
            "04/06/2021 07:31:27 - INFO - filelock -   Lock 140087881144592 acquired on /root/.cache/huggingface/transformers/052bc3ecf8c8484f1519650794b32b6d2c70750bcba71d1f763951514b5cf0c8.84bb33167d2e89d46f4cde129b2f4c447618ac33ac46f2012ee9e5e706fec112.lock\n"
          ],
          "name": "stderr"
        },
        {
          "output_type": "display_data",
          "data": {
            "application/vnd.jupyter.widget-view+json": {
              "model_id": "301b1f2eee934c98b385156a5114ee46",
              "version_minor": 0,
              "version_major": 2
            },
            "text/plain": [
              "HBox(children=(FloatProgress(value=0.0, description='Downloading', max=56577499.0, style=ProgressStyle(descrip…"
            ]
          },
          "metadata": {
            "tags": []
          }
        },
        {
          "output_type": "stream",
          "text": [
            "04/06/2021 07:31:29 - INFO - filelock -   Lock 140087881144592 released on /root/.cache/huggingface/transformers/052bc3ecf8c8484f1519650794b32b6d2c70750bcba71d1f763951514b5cf0c8.84bb33167d2e89d46f4cde129b2f4c447618ac33ac46f2012ee9e5e706fec112.lock\n"
          ],
          "name": "stderr"
        },
        {
          "output_type": "stream",
          "text": [
            "\n"
          ],
          "name": "stdout"
        },
        {
          "output_type": "stream",
          "text": [
            "Some weights of the model checkpoint at monologg/koelectra-small-v3-discriminator were not used when initializing ElectraForSequenceClassification: ['discriminator_predictions.dense.weight', 'discriminator_predictions.dense.bias', 'discriminator_predictions.dense_prediction.weight', 'discriminator_predictions.dense_prediction.bias']\n",
            "- This IS expected if you are initializing ElectraForSequenceClassification from the checkpoint of a model trained on another task or with another architecture (e.g. initializing a BertForSequenceClassification model from a BertForPreTraining model).\n",
            "- This IS NOT expected if you are initializing ElectraForSequenceClassification from the checkpoint of a model that you expect to be exactly identical (initializing a BertForSequenceClassification model from a BertForSequenceClassification model).\n",
            "Some weights of ElectraForSequenceClassification were not initialized from the model checkpoint at monologg/koelectra-small-v3-discriminator and are newly initialized: ['classifier.dense.weight', 'classifier.dense.bias', 'classifier.out_proj.weight', 'classifier.out_proj.bias']\n",
            "You should probably TRAIN this model on a down-stream task to be able to use it for predictions and inference.\n",
            "04/06/2021 07:31:29 - INFO - __main__ -   Creating features from dataset file at /content/drive/MyDrive/nsmc_0406\n",
            "04/06/2021 07:31:29 - INFO - __main__ -   LOOKING AT /content/drive/MyDrive/nsmc_0406/nsmc/ratings_train.txt\n",
            "04/06/2021 07:31:29 - INFO - __main__ -   ['9976970', '아 더빙.. 진짜 짜증나네요 목소리', '0']\n",
            "04/06/2021 07:31:29 - INFO - __main__ -   ['9246662', '최고의 2d영화가 아닌가싶으다....!', '1']\n",
            "04/06/2021 07:31:29 - INFO - __main__ -   ['5889538', '4', '0']\n",
            "04/06/2021 07:31:29 - INFO - __main__ -   ['7515277', '영원히 아름답고도, 아름다운,', '1']\n",
            "04/06/2021 07:31:30 - INFO - __main__ -   ['10251032', '어린 아이의 마음으로 가슴뛰는 모험을 즐겨보세요!!', '1']\n",
            "04/06/2021 07:31:30 - INFO - __main__ -   ['8867980', '재미가 없으면 길게만들지도 마... 샬리즈테론 내내버럭하고 틴에이저퀸 스튜어트는 앞니만보이고 몰입감도 없고 토르는 내내 지저분해서 정도 안가는데 김보성느낌나고 애매한 캐릭터 윌리엄에 무의미한 전투씬들.. 억지로 끼워넣은 난장이들. 대체 뭘위해서?', '0']\n",
            "04/06/2021 07:31:30 - INFO - __main__ -   ['8116241', '4.44 동참하겠습니다', '0']\n",
            "04/06/2021 07:31:30 - INFO - __main__ -   ['6693256', '캐스팅만 훌륭함', '0']\n",
            "04/06/2021 07:31:30 - INFO - __main__ -   ['3627172', '판도라의 상자를 열었다...........', '0']\n",
            "04/06/2021 07:31:30 - INFO - __main__ -   ['7984604', '두번봐도 세번봐도 몇번을봐도 감동적이다... 내 생에 최고의영화', '1']\n",
            "04/06/2021 07:31:30 - INFO - __main__ -   ['4444883', '할말이 없다.. 무엇을 말하려고 하는지 도저히 알수가 없네요', '0']\n",
            "04/06/2021 07:31:30 - INFO - __main__ -   ['5718836', '1점은 됩니다', '0']\n",
            "04/06/2021 07:31:30 - INFO - __main__ -   ['8116279', '차라리 일본영화틱 하게 가지 그랬냐.', '0']\n",
            "04/06/2021 07:31:30 - INFO - __main__ -   ['5537992', '영화로 봐도 될지 모르겠네요', '0']\n",
            "04/06/2021 07:31:30 - INFO - __main__ -   ['9664848', '진짜 꺼이꺼이 울었다 눈물이 계속 나옴', '1']\n",
            "04/06/2021 07:31:30 - INFO - __main__ -   Using label list ['0', '1'] for task nsmc\n",
            "04/06/2021 07:32:05 - INFO - __main__ -   *** Example ***\n",
            "04/06/2021 07:32:05 - INFO - __main__ -   guid: train-0\n",
            "04/06/2021 07:32:05 - INFO - __main__ -   input_ids: 2 3079 33345 18 18 7082 13215 4065 4116 4150 6933 3 0 0 0 0 0 0 0 0 0 0 0 0 0 0 0 0 0 0 0 0 0 0 0 0 0 0 0 0 0 0 0 0 0 0 0 0 0 0 0 0 0 0 0 0 0 0 0 0 0 0 0 0 0 0 0 0 0 0 0 0 0 0 0 0 0 0 0 0 0 0 0 0 0 0 0 0 0 0 0 0 0 0 0 0 0 0 0 0 0 0 0 0 0 0 0 0 0 0 0 0 0 0 0 0 0 0 0 0 0 0 0 0 0 0 0 0\n",
            "04/06/2021 07:32:05 - INFO - __main__ -   attention_mask: 1 1 1 1 1 1 1 1 1 1 1 1 0 0 0 0 0 0 0 0 0 0 0 0 0 0 0 0 0 0 0 0 0 0 0 0 0 0 0 0 0 0 0 0 0 0 0 0 0 0 0 0 0 0 0 0 0 0 0 0 0 0 0 0 0 0 0 0 0 0 0 0 0 0 0 0 0 0 0 0 0 0 0 0 0 0 0 0 0 0 0 0 0 0 0 0 0 0 0 0 0 0 0 0 0 0 0 0 0 0 0 0 0 0 0 0 0 0 0 0 0 0 0 0 0 0 0 0\n",
            "04/06/2021 07:32:05 - INFO - __main__ -   token_type_ids: 0 0 0 0 0 0 0 0 0 0 0 0 0 0 0 0 0 0 0 0 0 0 0 0 0 0 0 0 0 0 0 0 0 0 0 0 0 0 0 0 0 0 0 0 0 0 0 0 0 0 0 0 0 0 0 0 0 0 0 0 0 0 0 0 0 0 0 0 0 0 0 0 0 0 0 0 0 0 0 0 0 0 0 0 0 0 0 0 0 0 0 0 0 0 0 0 0 0 0 0 0 0 0 0 0 0 0 0 0 0 0 0 0 0 0 0 0 0 0 0 0 0 0 0 0 0 0 0\n",
            "04/06/2021 07:32:05 - INFO - __main__ -   label: 0\n",
            "04/06/2021 07:32:05 - INFO - __main__ -   *** Example ***\n",
            "04/06/2021 07:32:05 - INFO - __main__ -   guid: train-1\n",
            "04/06/2021 07:32:05 - INFO - __main__ -   input_ids: 2 3854 18 18 18 14061 4275 4219 3461 4991 22682 4612 18 18 18 18 11618 4049 4031 4084 4482 9745 4200 3083 9513 3 0 0 0 0 0 0 0 0 0 0 0 0 0 0 0 0 0 0 0 0 0 0 0 0 0 0 0 0 0 0 0 0 0 0 0 0 0 0 0 0 0 0 0 0 0 0 0 0 0 0 0 0 0 0 0 0 0 0 0 0 0 0 0 0 0 0 0 0 0 0 0 0 0 0 0 0 0 0 0 0 0 0 0 0 0 0 0 0 0 0 0 0 0 0 0 0 0 0 0 0 0 0\n",
            "04/06/2021 07:32:05 - INFO - __main__ -   attention_mask: 1 1 1 1 1 1 1 1 1 1 1 1 1 1 1 1 1 1 1 1 1 1 1 1 1 1 0 0 0 0 0 0 0 0 0 0 0 0 0 0 0 0 0 0 0 0 0 0 0 0 0 0 0 0 0 0 0 0 0 0 0 0 0 0 0 0 0 0 0 0 0 0 0 0 0 0 0 0 0 0 0 0 0 0 0 0 0 0 0 0 0 0 0 0 0 0 0 0 0 0 0 0 0 0 0 0 0 0 0 0 0 0 0 0 0 0 0 0 0 0 0 0 0 0 0 0 0 0\n",
            "04/06/2021 07:32:05 - INFO - __main__ -   token_type_ids: 0 0 0 0 0 0 0 0 0 0 0 0 0 0 0 0 0 0 0 0 0 0 0 0 0 0 0 0 0 0 0 0 0 0 0 0 0 0 0 0 0 0 0 0 0 0 0 0 0 0 0 0 0 0 0 0 0 0 0 0 0 0 0 0 0 0 0 0 0 0 0 0 0 0 0 0 0 0 0 0 0 0 0 0 0 0 0 0 0 0 0 0 0 0 0 0 0 0 0 0 0 0 0 0 0 0 0 0 0 0 0 0 0 0 0 0 0 0 0 0 0 0 0 0 0 0 0 0\n",
            "04/06/2021 07:32:05 - INFO - __main__ -   label: 1\n",
            "04/06/2021 07:32:05 - INFO - __main__ -   *** Example ***\n",
            "04/06/2021 07:32:05 - INFO - __main__ -   guid: train-2\n",
            "04/06/2021 07:32:05 - INFO - __main__ -   input_ids: 2 1 3 0 0 0 0 0 0 0 0 0 0 0 0 0 0 0 0 0 0 0 0 0 0 0 0 0 0 0 0 0 0 0 0 0 0 0 0 0 0 0 0 0 0 0 0 0 0 0 0 0 0 0 0 0 0 0 0 0 0 0 0 0 0 0 0 0 0 0 0 0 0 0 0 0 0 0 0 0 0 0 0 0 0 0 0 0 0 0 0 0 0 0 0 0 0 0 0 0 0 0 0 0 0 0 0 0 0 0 0 0 0 0 0 0 0 0 0 0 0 0 0 0 0 0 0 0\n",
            "04/06/2021 07:32:05 - INFO - __main__ -   attention_mask: 1 1 1 0 0 0 0 0 0 0 0 0 0 0 0 0 0 0 0 0 0 0 0 0 0 0 0 0 0 0 0 0 0 0 0 0 0 0 0 0 0 0 0 0 0 0 0 0 0 0 0 0 0 0 0 0 0 0 0 0 0 0 0 0 0 0 0 0 0 0 0 0 0 0 0 0 0 0 0 0 0 0 0 0 0 0 0 0 0 0 0 0 0 0 0 0 0 0 0 0 0 0 0 0 0 0 0 0 0 0 0 0 0 0 0 0 0 0 0 0 0 0 0 0 0 0 0 0\n",
            "04/06/2021 07:32:05 - INFO - __main__ -   token_type_ids: 0 0 0 0 0 0 0 0 0 0 0 0 0 0 0 0 0 0 0 0 0 0 0 0 0 0 0 0 0 0 0 0 0 0 0 0 0 0 0 0 0 0 0 0 0 0 0 0 0 0 0 0 0 0 0 0 0 0 0 0 0 0 0 0 0 0 0 0 0 0 0 0 0 0 0 0 0 0 0 0 0 0 0 0 0 0 0 0 0 0 0 0 0 0 0 0 0 0 0 0 0 0 0 0 0 0 0 0 0 0 0 0 0 0 0 0 0 0 0 0 0 0 0 0 0 0 0 0\n",
            "04/06/2021 07:32:05 - INFO - __main__ -   label: 0\n",
            "04/06/2021 07:32:05 - INFO - __main__ -   *** Example ***\n",
            "04/06/2021 07:32:05 - INFO - __main__ -   guid: train-3\n",
            "04/06/2021 07:32:05 - INFO - __main__ -   input_ids: 2 12784 6402 4050 4140 18 18 11423 7504 4034 3123 4176 18 18 18790 6839 3 0 0 0 0 0 0 0 0 0 0 0 0 0 0 0 0 0 0 0 0 0 0 0 0 0 0 0 0 0 0 0 0 0 0 0 0 0 0 0 0 0 0 0 0 0 0 0 0 0 0 0 0 0 0 0 0 0 0 0 0 0 0 0 0 0 0 0 0 0 0 0 0 0 0 0 0 0 0 0 0 0 0 0 0 0 0 0 0 0 0 0 0 0 0 0 0 0 0 0 0 0 0 0 0 0 0 0 0 0 0 0\n",
            "04/06/2021 07:32:05 - INFO - __main__ -   attention_mask: 1 1 1 1 1 1 1 1 1 1 1 1 1 1 1 1 1 0 0 0 0 0 0 0 0 0 0 0 0 0 0 0 0 0 0 0 0 0 0 0 0 0 0 0 0 0 0 0 0 0 0 0 0 0 0 0 0 0 0 0 0 0 0 0 0 0 0 0 0 0 0 0 0 0 0 0 0 0 0 0 0 0 0 0 0 0 0 0 0 0 0 0 0 0 0 0 0 0 0 0 0 0 0 0 0 0 0 0 0 0 0 0 0 0 0 0 0 0 0 0 0 0 0 0 0 0 0 0\n",
            "04/06/2021 07:32:05 - INFO - __main__ -   token_type_ids: 0 0 0 0 0 0 0 0 0 0 0 0 0 0 0 0 0 0 0 0 0 0 0 0 0 0 0 0 0 0 0 0 0 0 0 0 0 0 0 0 0 0 0 0 0 0 0 0 0 0 0 0 0 0 0 0 0 0 0 0 0 0 0 0 0 0 0 0 0 0 0 0 0 0 0 0 0 0 0 0 0 0 0 0 0 0 0 0 0 0 0 0 0 0 0 0 0 0 0 0 0 0 0 0 0 0 0 0 0 0 0 0 0 0 0 0 0 0 0 0 0 0 0 0 0 0 0 0\n",
            "04/06/2021 07:32:05 - INFO - __main__ -   label: 0\n",
            "04/06/2021 07:32:05 - INFO - __main__ -   *** Example ***\n",
            "04/06/2021 07:32:05 - INFO - __main__ -   guid: train-4\n",
            "04/06/2021 07:32:05 - INFO - __main__ -   input_ids: 2 6314 4759 4575 4441 4234 33292 4063 4814 7144 4070 28096 4820 6394 5 27502 4073 4129 2333 4025 17006 4031 4172 3771 4820 18383 4439 2375 6334 4070 8691 4086 23413 4275 4737 4176 3 0 0 0 0 0 0 0 0 0 0 0 0 0 0 0 0 0 0 0 0 0 0 0 0 0 0 0 0 0 0 0 0 0 0 0 0 0 0 0 0 0 0 0 0 0 0 0 0 0 0 0 0 0 0 0 0 0 0 0 0 0 0 0 0 0 0 0 0 0 0 0 0 0 0 0 0 0 0 0 0 0 0 0 0 0 0 0 0 0 0 0\n",
            "04/06/2021 07:32:05 - INFO - __main__ -   attention_mask: 1 1 1 1 1 1 1 1 1 1 1 1 1 1 1 1 1 1 1 1 1 1 1 1 1 1 1 1 1 1 1 1 1 1 1 1 1 0 0 0 0 0 0 0 0 0 0 0 0 0 0 0 0 0 0 0 0 0 0 0 0 0 0 0 0 0 0 0 0 0 0 0 0 0 0 0 0 0 0 0 0 0 0 0 0 0 0 0 0 0 0 0 0 0 0 0 0 0 0 0 0 0 0 0 0 0 0 0 0 0 0 0 0 0 0 0 0 0 0 0 0 0 0 0 0 0 0 0\n",
            "04/06/2021 07:32:05 - INFO - __main__ -   token_type_ids: 0 0 0 0 0 0 0 0 0 0 0 0 0 0 0 0 0 0 0 0 0 0 0 0 0 0 0 0 0 0 0 0 0 0 0 0 0 0 0 0 0 0 0 0 0 0 0 0 0 0 0 0 0 0 0 0 0 0 0 0 0 0 0 0 0 0 0 0 0 0 0 0 0 0 0 0 0 0 0 0 0 0 0 0 0 0 0 0 0 0 0 0 0 0 0 0 0 0 0 0 0 0 0 0 0 0 0 0 0 0 0 0 0 0 0 0 0 0 0 0 0 0 0 0 0 0 0 0\n",
            "04/06/2021 07:32:05 - INFO - __main__ -   label: 1\n",
            "04/06/2021 07:32:05 - INFO - __main__ -   Saving features into cached file /content/drive/MyDrive/nsmc_0406/cached_nsmc_koelectra-small-v3-discriminator_128_train\n",
            "04/06/2021 07:32:25 - INFO - __main__ -   Creating features from dataset file at /content/drive/MyDrive/nsmc_0406\n",
            "04/06/2021 07:32:25 - INFO - __main__ -   LOOKING AT /content/drive/MyDrive/nsmc_0406/nsmc/ratings_test.txt\n",
            "04/06/2021 07:32:25 - INFO - __main__ -   ['6270596', '굳 ㅋ', '1']\n",
            "04/06/2021 07:32:25 - INFO - __main__ -   ['8709679', '평론가평점에 맞춰보자자', '0']\n",
            "04/06/2021 07:32:25 - INFO - __main__ -   ['1771151', '스토커여자 대단하다는 생각이든다 ㅋㅋ', '1']\n",
            "04/06/2021 07:32:25 - INFO - __main__ -   ['9726800', '이걸 보면서 인생에 자신감이 생겼습니다. 이건 애니가 아닌 청춘드라마 그 자체입니다!', '1']\n",
            "04/06/2021 07:32:25 - INFO - __main__ -   ['143101', '1점은 줄수 있어요..더이상은 곤란해요~너무 식상해~인정하죠 들?', '0']\n",
            "04/06/2021 07:32:25 - INFO - __main__ -   Using label list ['0', '1'] for task nsmc\n",
            "04/06/2021 07:32:37 - INFO - __main__ -   *** Example ***\n",
            "04/06/2021 07:32:37 - INFO - __main__ -   guid: test-0\n",
            "04/06/2021 07:32:37 - INFO - __main__ -   input_ids: 2 2104 287 3 0 0 0 0 0 0 0 0 0 0 0 0 0 0 0 0 0 0 0 0 0 0 0 0 0 0 0 0 0 0 0 0 0 0 0 0 0 0 0 0 0 0 0 0 0 0 0 0 0 0 0 0 0 0 0 0 0 0 0 0 0 0 0 0 0 0 0 0 0 0 0 0 0 0 0 0 0 0 0 0 0 0 0 0 0 0 0 0 0 0 0 0 0 0 0 0 0 0 0 0 0 0 0 0 0 0 0 0 0 0 0 0 0 0 0 0 0 0 0 0 0 0 0 0\n",
            "04/06/2021 07:32:37 - INFO - __main__ -   attention_mask: 1 1 1 1 0 0 0 0 0 0 0 0 0 0 0 0 0 0 0 0 0 0 0 0 0 0 0 0 0 0 0 0 0 0 0 0 0 0 0 0 0 0 0 0 0 0 0 0 0 0 0 0 0 0 0 0 0 0 0 0 0 0 0 0 0 0 0 0 0 0 0 0 0 0 0 0 0 0 0 0 0 0 0 0 0 0 0 0 0 0 0 0 0 0 0 0 0 0 0 0 0 0 0 0 0 0 0 0 0 0 0 0 0 0 0 0 0 0 0 0 0 0 0 0 0 0 0 0\n",
            "04/06/2021 07:32:37 - INFO - __main__ -   token_type_ids: 0 0 0 0 0 0 0 0 0 0 0 0 0 0 0 0 0 0 0 0 0 0 0 0 0 0 0 0 0 0 0 0 0 0 0 0 0 0 0 0 0 0 0 0 0 0 0 0 0 0 0 0 0 0 0 0 0 0 0 0 0 0 0 0 0 0 0 0 0 0 0 0 0 0 0 0 0 0 0 0 0 0 0 0 0 0 0 0 0 0 0 0 0 0 0 0 0 0 0 0 0 0 0 0 0 0 0 0 0 0 0 0 0 0 0 0 0 0 0 0 0 0 0 0 0 0 0 0\n",
            "04/06/2021 07:32:37 - INFO - __main__ -   label: 1\n",
            "04/06/2021 07:32:37 - INFO - __main__ -   *** Example ***\n",
            "04/06/2021 07:32:37 - INFO - __main__ -   guid: test-1\n",
            "04/06/2021 07:32:37 - INFO - __main__ -   input_ids: 2 43 4090 4253 13927 4105 4091 19802 4130 32150 4253 4169 4013 13352 4053 4101 4015 3 0 0 0 0 0 0 0 0 0 0 0 0 0 0 0 0 0 0 0 0 0 0 0 0 0 0 0 0 0 0 0 0 0 0 0 0 0 0 0 0 0 0 0 0 0 0 0 0 0 0 0 0 0 0 0 0 0 0 0 0 0 0 0 0 0 0 0 0 0 0 0 0 0 0 0 0 0 0 0 0 0 0 0 0 0 0 0 0 0 0 0 0 0 0 0 0 0 0 0 0 0 0 0 0 0 0 0 0 0 0\n",
            "04/06/2021 07:32:37 - INFO - __main__ -   attention_mask: 1 1 1 1 1 1 1 1 1 1 1 1 1 1 1 1 1 1 0 0 0 0 0 0 0 0 0 0 0 0 0 0 0 0 0 0 0 0 0 0 0 0 0 0 0 0 0 0 0 0 0 0 0 0 0 0 0 0 0 0 0 0 0 0 0 0 0 0 0 0 0 0 0 0 0 0 0 0 0 0 0 0 0 0 0 0 0 0 0 0 0 0 0 0 0 0 0 0 0 0 0 0 0 0 0 0 0 0 0 0 0 0 0 0 0 0 0 0 0 0 0 0 0 0 0 0 0 0\n",
            "04/06/2021 07:32:37 - INFO - __main__ -   token_type_ids: 0 0 0 0 0 0 0 0 0 0 0 0 0 0 0 0 0 0 0 0 0 0 0 0 0 0 0 0 0 0 0 0 0 0 0 0 0 0 0 0 0 0 0 0 0 0 0 0 0 0 0 0 0 0 0 0 0 0 0 0 0 0 0 0 0 0 0 0 0 0 0 0 0 0 0 0 0 0 0 0 0 0 0 0 0 0 0 0 0 0 0 0 0 0 0 0 0 0 0 0 0 0 0 0 0 0 0 0 0 0 0 0 0 0 0 0 0 0 0 0 0 0 0 0 0 0 0 0\n",
            "04/06/2021 07:32:37 - INFO - __main__ -   label: 0\n",
            "04/06/2021 07:32:37 - INFO - __main__ -   *** Example ***\n",
            "04/06/2021 07:32:37 - INFO - __main__ -   guid: test-2\n",
            "04/06/2021 07:32:37 - INFO - __main__ -   input_ids: 2 2702 4474 3240 18790 4006 4112 18 18 18 18 10523 4189 3083 17164 6242 4469 8089 4034 15741 6231 14903 3 0 0 0 0 0 0 0 0 0 0 0 0 0 0 0 0 0 0 0 0 0 0 0 0 0 0 0 0 0 0 0 0 0 0 0 0 0 0 0 0 0 0 0 0 0 0 0 0 0 0 0 0 0 0 0 0 0 0 0 0 0 0 0 0 0 0 0 0 0 0 0 0 0 0 0 0 0 0 0 0 0 0 0 0 0 0 0 0 0 0 0 0 0 0 0 0 0 0 0 0 0 0 0 0 0\n",
            "04/06/2021 07:32:37 - INFO - __main__ -   attention_mask: 1 1 1 1 1 1 1 1 1 1 1 1 1 1 1 1 1 1 1 1 1 1 1 0 0 0 0 0 0 0 0 0 0 0 0 0 0 0 0 0 0 0 0 0 0 0 0 0 0 0 0 0 0 0 0 0 0 0 0 0 0 0 0 0 0 0 0 0 0 0 0 0 0 0 0 0 0 0 0 0 0 0 0 0 0 0 0 0 0 0 0 0 0 0 0 0 0 0 0 0 0 0 0 0 0 0 0 0 0 0 0 0 0 0 0 0 0 0 0 0 0 0 0 0 0 0 0 0\n",
            "04/06/2021 07:32:37 - INFO - __main__ -   token_type_ids: 0 0 0 0 0 0 0 0 0 0 0 0 0 0 0 0 0 0 0 0 0 0 0 0 0 0 0 0 0 0 0 0 0 0 0 0 0 0 0 0 0 0 0 0 0 0 0 0 0 0 0 0 0 0 0 0 0 0 0 0 0 0 0 0 0 0 0 0 0 0 0 0 0 0 0 0 0 0 0 0 0 0 0 0 0 0 0 0 0 0 0 0 0 0 0 0 0 0 0 0 0 0 0 0 0 0 0 0 0 0 0 0 0 0 0 0 0 0 0 0 0 0 0 0 0 0 0 0\n",
            "04/06/2021 07:32:37 - INFO - __main__ -   label: 0\n",
            "04/06/2021 07:32:37 - INFO - __main__ -   *** Example ***\n",
            "04/06/2021 07:32:37 - INFO - __main__ -   guid: test-3\n",
            "04/06/2021 07:32:37 - INFO - __main__ -   input_ids: 2 13070 4279 4200 4034 3083 4112 4244 7772 18274 4594 18 18 18 2398 4076 4219 2780 12633 4034 18 18 18 18 3 0 0 0 0 0 0 0 0 0 0 0 0 0 0 0 0 0 0 0 0 0 0 0 0 0 0 0 0 0 0 0 0 0 0 0 0 0 0 0 0 0 0 0 0 0 0 0 0 0 0 0 0 0 0 0 0 0 0 0 0 0 0 0 0 0 0 0 0 0 0 0 0 0 0 0 0 0 0 0 0 0 0 0 0 0 0 0 0 0 0 0 0 0 0 0 0 0 0 0 0 0 0 0\n",
            "04/06/2021 07:32:37 - INFO - __main__ -   attention_mask: 1 1 1 1 1 1 1 1 1 1 1 1 1 1 1 1 1 1 1 1 1 1 1 1 1 0 0 0 0 0 0 0 0 0 0 0 0 0 0 0 0 0 0 0 0 0 0 0 0 0 0 0 0 0 0 0 0 0 0 0 0 0 0 0 0 0 0 0 0 0 0 0 0 0 0 0 0 0 0 0 0 0 0 0 0 0 0 0 0 0 0 0 0 0 0 0 0 0 0 0 0 0 0 0 0 0 0 0 0 0 0 0 0 0 0 0 0 0 0 0 0 0 0 0 0 0 0 0\n",
            "04/06/2021 07:32:37 - INFO - __main__ -   token_type_ids: 0 0 0 0 0 0 0 0 0 0 0 0 0 0 0 0 0 0 0 0 0 0 0 0 0 0 0 0 0 0 0 0 0 0 0 0 0 0 0 0 0 0 0 0 0 0 0 0 0 0 0 0 0 0 0 0 0 0 0 0 0 0 0 0 0 0 0 0 0 0 0 0 0 0 0 0 0 0 0 0 0 0 0 0 0 0 0 0 0 0 0 0 0 0 0 0 0 0 0 0 0 0 0 0 0 0 0 0 0 0 0 0 0 0 0 0 0 0 0 0 0 0 0 0 0 0 0 0\n",
            "04/06/2021 07:32:37 - INFO - __main__ -   label: 0\n",
            "04/06/2021 07:32:37 - INFO - __main__ -   *** Example ***\n",
            "04/06/2021 07:32:37 - INFO - __main__ -   guid: test-4\n",
            "04/06/2021 07:32:37 - INFO - __main__ -   input_ids: 2 23 4090 4172 6231 4480 8745 2773 8467 2027 3333 4292 4788 4244 18 18 3178 23 4090 4239 11389 3288 18735 4110 7876 4279 4325 3755 4761 35 35 3 0 0 0 0 0 0 0 0 0 0 0 0 0 0 0 0 0 0 0 0 0 0 0 0 0 0 0 0 0 0 0 0 0 0 0 0 0 0 0 0 0 0 0 0 0 0 0 0 0 0 0 0 0 0 0 0 0 0 0 0 0 0 0 0 0 0 0 0 0 0 0 0 0 0 0 0 0 0 0 0 0 0 0 0 0 0 0 0 0 0 0 0 0 0 0 0\n",
            "04/06/2021 07:32:37 - INFO - __main__ -   attention_mask: 1 1 1 1 1 1 1 1 1 1 1 1 1 1 1 1 1 1 1 1 1 1 1 1 1 1 1 1 1 1 1 1 0 0 0 0 0 0 0 0 0 0 0 0 0 0 0 0 0 0 0 0 0 0 0 0 0 0 0 0 0 0 0 0 0 0 0 0 0 0 0 0 0 0 0 0 0 0 0 0 0 0 0 0 0 0 0 0 0 0 0 0 0 0 0 0 0 0 0 0 0 0 0 0 0 0 0 0 0 0 0 0 0 0 0 0 0 0 0 0 0 0 0 0 0 0 0 0\n",
            "04/06/2021 07:32:37 - INFO - __main__ -   token_type_ids: 0 0 0 0 0 0 0 0 0 0 0 0 0 0 0 0 0 0 0 0 0 0 0 0 0 0 0 0 0 0 0 0 0 0 0 0 0 0 0 0 0 0 0 0 0 0 0 0 0 0 0 0 0 0 0 0 0 0 0 0 0 0 0 0 0 0 0 0 0 0 0 0 0 0 0 0 0 0 0 0 0 0 0 0 0 0 0 0 0 0 0 0 0 0 0 0 0 0 0 0 0 0 0 0 0 0 0 0 0 0 0 0 0 0 0 0 0 0 0 0 0 0 0 0 0 0 0 0\n",
            "04/06/2021 07:32:37 - INFO - __main__ -   label: 0\n",
            "04/06/2021 07:32:37 - INFO - __main__ -   Saving features into cached file /content/drive/MyDrive/nsmc_0406/cached_nsmc_koelectra-small-v3-discriminator_128_test\n",
            "04/06/2021 07:32:44 - INFO - __main__ -   ***** Running training *****\n",
            "04/06/2021 07:32:44 - INFO - __main__ -     Num examples = 150000\n",
            "04/06/2021 07:32:44 - INFO - __main__ -     Num Epochs = 10\n",
            "04/06/2021 07:32:44 - INFO - __main__ -     Total train batch size = 32\n",
            "04/06/2021 07:32:44 - INFO - __main__ -     Gradient Accumulation steps = 1\n",
            "04/06/2021 07:32:44 - INFO - __main__ -     Total optimization steps = 46880\n",
            "04/06/2021 07:32:44 - INFO - __main__ -     Logging steps = 2000\n",
            "04/06/2021 07:32:44 - INFO - __main__ -     Save steps = 2000\n"
          ],
          "name": "stderr"
        },
        {
          "output_type": "display_data",
          "data": {
            "text/html": [
              "Epoch 1 done<p>Epoch 2 done<p>Epoch 3 done<p>Epoch 4 done<p>Epoch 5 done<p>Epoch 6 done<p>Epoch 7 done<p>Epoch 8 done<p>Epoch 9 done<p>Epoch 10 done"
            ],
            "text/plain": [
              "<IPython.core.display.HTML object>"
            ]
          },
          "metadata": {
            "tags": []
          }
        },
        {
          "output_type": "stream",
          "text": [
            "04/06/2021 07:37:05 - INFO - __main__ -   ***** Running evaluation on test dataset (2000 step) *****\n",
            "04/06/2021 07:37:05 - INFO - __main__ -     Num examples = 50000\n",
            "04/06/2021 07:37:05 - INFO - __main__ -     Eval Batch size = 128\n"
          ],
          "name": "stderr"
        },
        {
          "output_type": "display_data",
          "data": {
            "text/html": [
              "\n",
              "    <div>\n",
              "        <style>\n",
              "            /* Turns off some styling */\n",
              "            progress {\n",
              "                /* gets rid of default border in Firefox and Opera. */\n",
              "                border: none;\n",
              "                /* Needs to be in here for Safari polyfill so background images work as expected. */\n",
              "                background-size: auto;\n",
              "            }\n",
              "            .progress-bar-interrupted, .progress-bar-interrupted::-webkit-progress-bar {\n",
              "                background: #F44336;\n",
              "            }\n",
              "        </style>\n",
              "      <progress value='391' class='' max='391' style='width:300px; height:20px; vertical-align: middle;'></progress>\n",
              "      100.00% [391/391 01:03<00:00]\n",
              "    </div>\n",
              "    "
            ],
            "text/plain": [
              "<IPython.core.display.HTML object>"
            ]
          },
          "metadata": {
            "tags": []
          }
        },
        {
          "output_type": "stream",
          "text": [
            "04/06/2021 07:38:08 - INFO - __main__ -   ***** Eval results on test dataset *****\n",
            "04/06/2021 07:38:08 - INFO - __main__ -     acc = 0.86216\n",
            "04/06/2021 07:38:09 - INFO - __main__ -   Saving model checkpoint to /content/drive/MyDrive/nsmc_0406/koelectra-small-v3-nsmc-ckpt/checkpoint-2000\n",
            "04/06/2021 07:42:30 - INFO - __main__ -   ***** Running evaluation on test dataset (4000 step) *****\n",
            "04/06/2021 07:42:30 - INFO - __main__ -     Num examples = 50000\n",
            "04/06/2021 07:42:30 - INFO - __main__ -     Eval Batch size = 128\n"
          ],
          "name": "stderr"
        },
        {
          "output_type": "display_data",
          "data": {
            "text/html": [
              "\n",
              "    <div>\n",
              "        <style>\n",
              "            /* Turns off some styling */\n",
              "            progress {\n",
              "                /* gets rid of default border in Firefox and Opera. */\n",
              "                border: none;\n",
              "                /* Needs to be in here for Safari polyfill so background images work as expected. */\n",
              "                background-size: auto;\n",
              "            }\n",
              "            .progress-bar-interrupted, .progress-bar-interrupted::-webkit-progress-bar {\n",
              "                background: #F44336;\n",
              "            }\n",
              "        </style>\n",
              "      <progress value='391' class='' max='391' style='width:300px; height:20px; vertical-align: middle;'></progress>\n",
              "      100.00% [391/391 01:03<00:00]\n",
              "    </div>\n",
              "    "
            ],
            "text/plain": [
              "<IPython.core.display.HTML object>"
            ]
          },
          "metadata": {
            "tags": []
          }
        },
        {
          "output_type": "stream",
          "text": [
            "04/06/2021 07:43:33 - INFO - __main__ -   ***** Eval results on test dataset *****\n",
            "04/06/2021 07:43:33 - INFO - __main__ -     acc = 0.87438\n",
            "04/06/2021 07:43:33 - INFO - __main__ -   Saving model checkpoint to /content/drive/MyDrive/nsmc_0406/koelectra-small-v3-nsmc-ckpt/checkpoint-4000\n",
            "04/06/2021 07:47:54 - INFO - __main__ -   ***** Running evaluation on test dataset (6000 step) *****\n",
            "04/06/2021 07:47:54 - INFO - __main__ -     Num examples = 50000\n",
            "04/06/2021 07:47:54 - INFO - __main__ -     Eval Batch size = 128\n"
          ],
          "name": "stderr"
        },
        {
          "output_type": "display_data",
          "data": {
            "text/html": [
              "\n",
              "    <div>\n",
              "        <style>\n",
              "            /* Turns off some styling */\n",
              "            progress {\n",
              "                /* gets rid of default border in Firefox and Opera. */\n",
              "                border: none;\n",
              "                /* Needs to be in here for Safari polyfill so background images work as expected. */\n",
              "                background-size: auto;\n",
              "            }\n",
              "            .progress-bar-interrupted, .progress-bar-interrupted::-webkit-progress-bar {\n",
              "                background: #F44336;\n",
              "            }\n",
              "        </style>\n",
              "      <progress value='391' class='' max='391' style='width:300px; height:20px; vertical-align: middle;'></progress>\n",
              "      100.00% [391/391 01:03<00:00]\n",
              "    </div>\n",
              "    "
            ],
            "text/plain": [
              "<IPython.core.display.HTML object>"
            ]
          },
          "metadata": {
            "tags": []
          }
        },
        {
          "output_type": "stream",
          "text": [
            "04/06/2021 07:48:58 - INFO - __main__ -   ***** Eval results on test dataset *****\n",
            "04/06/2021 07:48:58 - INFO - __main__ -     acc = 0.87968\n",
            "04/06/2021 07:48:58 - INFO - __main__ -   Saving model checkpoint to /content/drive/MyDrive/nsmc_0406/koelectra-small-v3-nsmc-ckpt/checkpoint-6000\n",
            "04/06/2021 07:53:19 - INFO - __main__ -   ***** Running evaluation on test dataset (8000 step) *****\n",
            "04/06/2021 07:53:19 - INFO - __main__ -     Num examples = 50000\n",
            "04/06/2021 07:53:19 - INFO - __main__ -     Eval Batch size = 128\n"
          ],
          "name": "stderr"
        },
        {
          "output_type": "display_data",
          "data": {
            "text/html": [
              "\n",
              "    <div>\n",
              "        <style>\n",
              "            /* Turns off some styling */\n",
              "            progress {\n",
              "                /* gets rid of default border in Firefox and Opera. */\n",
              "                border: none;\n",
              "                /* Needs to be in here for Safari polyfill so background images work as expected. */\n",
              "                background-size: auto;\n",
              "            }\n",
              "            .progress-bar-interrupted, .progress-bar-interrupted::-webkit-progress-bar {\n",
              "                background: #F44336;\n",
              "            }\n",
              "        </style>\n",
              "      <progress value='391' class='' max='391' style='width:300px; height:20px; vertical-align: middle;'></progress>\n",
              "      100.00% [391/391 01:03<00:00]\n",
              "    </div>\n",
              "    "
            ],
            "text/plain": [
              "<IPython.core.display.HTML object>"
            ]
          },
          "metadata": {
            "tags": []
          }
        },
        {
          "output_type": "stream",
          "text": [
            "04/06/2021 07:54:22 - INFO - __main__ -   ***** Eval results on test dataset *****\n",
            "04/06/2021 07:54:22 - INFO - __main__ -     acc = 0.88698\n",
            "04/06/2021 07:54:22 - INFO - __main__ -   Saving model checkpoint to /content/drive/MyDrive/nsmc_0406/koelectra-small-v3-nsmc-ckpt/checkpoint-8000\n",
            "04/06/2021 07:58:44 - INFO - __main__ -   ***** Running evaluation on test dataset (10000 step) *****\n",
            "04/06/2021 07:58:44 - INFO - __main__ -     Num examples = 50000\n",
            "04/06/2021 07:58:44 - INFO - __main__ -     Eval Batch size = 128\n"
          ],
          "name": "stderr"
        },
        {
          "output_type": "display_data",
          "data": {
            "text/html": [
              "\n",
              "    <div>\n",
              "        <style>\n",
              "            /* Turns off some styling */\n",
              "            progress {\n",
              "                /* gets rid of default border in Firefox and Opera. */\n",
              "                border: none;\n",
              "                /* Needs to be in here for Safari polyfill so background images work as expected. */\n",
              "                background-size: auto;\n",
              "            }\n",
              "            .progress-bar-interrupted, .progress-bar-interrupted::-webkit-progress-bar {\n",
              "                background: #F44336;\n",
              "            }\n",
              "        </style>\n",
              "      <progress value='391' class='' max='391' style='width:300px; height:20px; vertical-align: middle;'></progress>\n",
              "      100.00% [391/391 01:03<00:00]\n",
              "    </div>\n",
              "    "
            ],
            "text/plain": [
              "<IPython.core.display.HTML object>"
            ]
          },
          "metadata": {
            "tags": []
          }
        },
        {
          "output_type": "stream",
          "text": [
            "04/06/2021 07:59:47 - INFO - __main__ -   ***** Eval results on test dataset *****\n",
            "04/06/2021 07:59:47 - INFO - __main__ -     acc = 0.88302\n",
            "04/06/2021 07:59:47 - INFO - __main__ -   Saving model checkpoint to /content/drive/MyDrive/nsmc_0406/koelectra-small-v3-nsmc-ckpt/checkpoint-10000\n",
            "04/06/2021 08:04:09 - INFO - __main__ -   ***** Running evaluation on test dataset (12000 step) *****\n",
            "04/06/2021 08:04:09 - INFO - __main__ -     Num examples = 50000\n",
            "04/06/2021 08:04:09 - INFO - __main__ -     Eval Batch size = 128\n"
          ],
          "name": "stderr"
        },
        {
          "output_type": "display_data",
          "data": {
            "text/html": [
              "\n",
              "    <div>\n",
              "        <style>\n",
              "            /* Turns off some styling */\n",
              "            progress {\n",
              "                /* gets rid of default border in Firefox and Opera. */\n",
              "                border: none;\n",
              "                /* Needs to be in here for Safari polyfill so background images work as expected. */\n",
              "                background-size: auto;\n",
              "            }\n",
              "            .progress-bar-interrupted, .progress-bar-interrupted::-webkit-progress-bar {\n",
              "                background: #F44336;\n",
              "            }\n",
              "        </style>\n",
              "      <progress value='391' class='' max='391' style='width:300px; height:20px; vertical-align: middle;'></progress>\n",
              "      100.00% [391/391 01:03<00:00]\n",
              "    </div>\n",
              "    "
            ],
            "text/plain": [
              "<IPython.core.display.HTML object>"
            ]
          },
          "metadata": {
            "tags": []
          }
        },
        {
          "output_type": "stream",
          "text": [
            "04/06/2021 08:05:12 - INFO - __main__ -   ***** Eval results on test dataset *****\n",
            "04/06/2021 08:05:12 - INFO - __main__ -     acc = 0.89182\n",
            "04/06/2021 08:05:12 - INFO - __main__ -   Saving model checkpoint to /content/drive/MyDrive/nsmc_0406/koelectra-small-v3-nsmc-ckpt/checkpoint-12000\n",
            "04/06/2021 08:09:34 - INFO - __main__ -   ***** Running evaluation on test dataset (14000 step) *****\n",
            "04/06/2021 08:09:34 - INFO - __main__ -     Num examples = 50000\n",
            "04/06/2021 08:09:34 - INFO - __main__ -     Eval Batch size = 128\n"
          ],
          "name": "stderr"
        },
        {
          "output_type": "display_data",
          "data": {
            "text/html": [
              "\n",
              "    <div>\n",
              "        <style>\n",
              "            /* Turns off some styling */\n",
              "            progress {\n",
              "                /* gets rid of default border in Firefox and Opera. */\n",
              "                border: none;\n",
              "                /* Needs to be in here for Safari polyfill so background images work as expected. */\n",
              "                background-size: auto;\n",
              "            }\n",
              "            .progress-bar-interrupted, .progress-bar-interrupted::-webkit-progress-bar {\n",
              "                background: #F44336;\n",
              "            }\n",
              "        </style>\n",
              "      <progress value='391' class='' max='391' style='width:300px; height:20px; vertical-align: middle;'></progress>\n",
              "      100.00% [391/391 01:03<00:00]\n",
              "    </div>\n",
              "    "
            ],
            "text/plain": [
              "<IPython.core.display.HTML object>"
            ]
          },
          "metadata": {
            "tags": []
          }
        },
        {
          "output_type": "stream",
          "text": [
            "04/06/2021 08:10:37 - INFO - __main__ -   ***** Eval results on test dataset *****\n",
            "04/06/2021 08:10:37 - INFO - __main__ -     acc = 0.88876\n",
            "04/06/2021 08:10:37 - INFO - __main__ -   Saving model checkpoint to /content/drive/MyDrive/nsmc_0406/koelectra-small-v3-nsmc-ckpt/checkpoint-14000\n",
            "04/06/2021 08:14:59 - INFO - __main__ -   ***** Running evaluation on test dataset (16000 step) *****\n",
            "04/06/2021 08:14:59 - INFO - __main__ -     Num examples = 50000\n",
            "04/06/2021 08:14:59 - INFO - __main__ -     Eval Batch size = 128\n"
          ],
          "name": "stderr"
        },
        {
          "output_type": "display_data",
          "data": {
            "text/html": [
              "\n",
              "    <div>\n",
              "        <style>\n",
              "            /* Turns off some styling */\n",
              "            progress {\n",
              "                /* gets rid of default border in Firefox and Opera. */\n",
              "                border: none;\n",
              "                /* Needs to be in here for Safari polyfill so background images work as expected. */\n",
              "                background-size: auto;\n",
              "            }\n",
              "            .progress-bar-interrupted, .progress-bar-interrupted::-webkit-progress-bar {\n",
              "                background: #F44336;\n",
              "            }\n",
              "        </style>\n",
              "      <progress value='391' class='' max='391' style='width:300px; height:20px; vertical-align: middle;'></progress>\n",
              "      100.00% [391/391 01:03<00:00]\n",
              "    </div>\n",
              "    "
            ],
            "text/plain": [
              "<IPython.core.display.HTML object>"
            ]
          },
          "metadata": {
            "tags": []
          }
        },
        {
          "output_type": "stream",
          "text": [
            "04/06/2021 08:16:02 - INFO - __main__ -   ***** Eval results on test dataset *****\n",
            "04/06/2021 08:16:02 - INFO - __main__ -     acc = 0.89246\n",
            "04/06/2021 08:16:02 - INFO - __main__ -   Saving model checkpoint to /content/drive/MyDrive/nsmc_0406/koelectra-small-v3-nsmc-ckpt/checkpoint-16000\n",
            "04/06/2021 08:20:23 - INFO - __main__ -   ***** Running evaluation on test dataset (18000 step) *****\n",
            "04/06/2021 08:20:23 - INFO - __main__ -     Num examples = 50000\n",
            "04/06/2021 08:20:23 - INFO - __main__ -     Eval Batch size = 128\n"
          ],
          "name": "stderr"
        },
        {
          "output_type": "display_data",
          "data": {
            "text/html": [
              "\n",
              "    <div>\n",
              "        <style>\n",
              "            /* Turns off some styling */\n",
              "            progress {\n",
              "                /* gets rid of default border in Firefox and Opera. */\n",
              "                border: none;\n",
              "                /* Needs to be in here for Safari polyfill so background images work as expected. */\n",
              "                background-size: auto;\n",
              "            }\n",
              "            .progress-bar-interrupted, .progress-bar-interrupted::-webkit-progress-bar {\n",
              "                background: #F44336;\n",
              "            }\n",
              "        </style>\n",
              "      <progress value='391' class='' max='391' style='width:300px; height:20px; vertical-align: middle;'></progress>\n",
              "      100.00% [391/391 01:03<00:00]\n",
              "    </div>\n",
              "    "
            ],
            "text/plain": [
              "<IPython.core.display.HTML object>"
            ]
          },
          "metadata": {
            "tags": []
          }
        },
        {
          "output_type": "stream",
          "text": [
            "04/06/2021 08:21:27 - INFO - __main__ -   ***** Eval results on test dataset *****\n",
            "04/06/2021 08:21:27 - INFO - __main__ -     acc = 0.89184\n",
            "04/06/2021 08:21:27 - INFO - __main__ -   Saving model checkpoint to /content/drive/MyDrive/nsmc_0406/koelectra-small-v3-nsmc-ckpt/checkpoint-18000\n",
            "04/06/2021 08:25:47 - INFO - __main__ -   ***** Running evaluation on test dataset (20000 step) *****\n",
            "04/06/2021 08:25:47 - INFO - __main__ -     Num examples = 50000\n",
            "04/06/2021 08:25:47 - INFO - __main__ -     Eval Batch size = 128\n"
          ],
          "name": "stderr"
        },
        {
          "output_type": "display_data",
          "data": {
            "text/html": [
              "\n",
              "    <div>\n",
              "        <style>\n",
              "            /* Turns off some styling */\n",
              "            progress {\n",
              "                /* gets rid of default border in Firefox and Opera. */\n",
              "                border: none;\n",
              "                /* Needs to be in here for Safari polyfill so background images work as expected. */\n",
              "                background-size: auto;\n",
              "            }\n",
              "            .progress-bar-interrupted, .progress-bar-interrupted::-webkit-progress-bar {\n",
              "                background: #F44336;\n",
              "            }\n",
              "        </style>\n",
              "      <progress value='391' class='' max='391' style='width:300px; height:20px; vertical-align: middle;'></progress>\n",
              "      100.00% [391/391 01:03<00:00]\n",
              "    </div>\n",
              "    "
            ],
            "text/plain": [
              "<IPython.core.display.HTML object>"
            ]
          },
          "metadata": {
            "tags": []
          }
        },
        {
          "output_type": "stream",
          "text": [
            "04/06/2021 08:26:50 - INFO - __main__ -   ***** Eval results on test dataset *****\n",
            "04/06/2021 08:26:50 - INFO - __main__ -     acc = 0.891\n",
            "04/06/2021 08:26:50 - INFO - __main__ -   Saving model checkpoint to /content/drive/MyDrive/nsmc_0406/koelectra-small-v3-nsmc-ckpt/checkpoint-20000\n",
            "04/06/2021 08:31:10 - INFO - __main__ -   ***** Running evaluation on test dataset (22000 step) *****\n",
            "04/06/2021 08:31:10 - INFO - __main__ -     Num examples = 50000\n",
            "04/06/2021 08:31:10 - INFO - __main__ -     Eval Batch size = 128\n"
          ],
          "name": "stderr"
        },
        {
          "output_type": "display_data",
          "data": {
            "text/html": [
              "\n",
              "    <div>\n",
              "        <style>\n",
              "            /* Turns off some styling */\n",
              "            progress {\n",
              "                /* gets rid of default border in Firefox and Opera. */\n",
              "                border: none;\n",
              "                /* Needs to be in here for Safari polyfill so background images work as expected. */\n",
              "                background-size: auto;\n",
              "            }\n",
              "            .progress-bar-interrupted, .progress-bar-interrupted::-webkit-progress-bar {\n",
              "                background: #F44336;\n",
              "            }\n",
              "        </style>\n",
              "      <progress value='391' class='' max='391' style='width:300px; height:20px; vertical-align: middle;'></progress>\n",
              "      100.00% [391/391 01:03<00:00]\n",
              "    </div>\n",
              "    "
            ],
            "text/plain": [
              "<IPython.core.display.HTML object>"
            ]
          },
          "metadata": {
            "tags": []
          }
        },
        {
          "output_type": "stream",
          "text": [
            "04/06/2021 08:32:13 - INFO - __main__ -   ***** Eval results on test dataset *****\n",
            "04/06/2021 08:32:13 - INFO - __main__ -     acc = 0.89\n",
            "04/06/2021 08:32:14 - INFO - __main__ -   Saving model checkpoint to /content/drive/MyDrive/nsmc_0406/koelectra-small-v3-nsmc-ckpt/checkpoint-22000\n",
            "04/06/2021 08:36:34 - INFO - __main__ -   ***** Running evaluation on test dataset (24000 step) *****\n",
            "04/06/2021 08:36:34 - INFO - __main__ -     Num examples = 50000\n",
            "04/06/2021 08:36:34 - INFO - __main__ -     Eval Batch size = 128\n"
          ],
          "name": "stderr"
        },
        {
          "output_type": "display_data",
          "data": {
            "text/html": [
              "\n",
              "    <div>\n",
              "        <style>\n",
              "            /* Turns off some styling */\n",
              "            progress {\n",
              "                /* gets rid of default border in Firefox and Opera. */\n",
              "                border: none;\n",
              "                /* Needs to be in here for Safari polyfill so background images work as expected. */\n",
              "                background-size: auto;\n",
              "            }\n",
              "            .progress-bar-interrupted, .progress-bar-interrupted::-webkit-progress-bar {\n",
              "                background: #F44336;\n",
              "            }\n",
              "        </style>\n",
              "      <progress value='391' class='' max='391' style='width:300px; height:20px; vertical-align: middle;'></progress>\n",
              "      100.00% [391/391 01:03<00:00]\n",
              "    </div>\n",
              "    "
            ],
            "text/plain": [
              "<IPython.core.display.HTML object>"
            ]
          },
          "metadata": {
            "tags": []
          }
        },
        {
          "output_type": "stream",
          "text": [
            "04/06/2021 08:37:37 - INFO - __main__ -   ***** Eval results on test dataset *****\n",
            "04/06/2021 08:37:37 - INFO - __main__ -     acc = 0.8896\n",
            "04/06/2021 08:37:37 - INFO - __main__ -   Saving model checkpoint to /content/drive/MyDrive/nsmc_0406/koelectra-small-v3-nsmc-ckpt/checkpoint-24000\n",
            "04/06/2021 08:41:57 - INFO - __main__ -   ***** Running evaluation on test dataset (26000 step) *****\n",
            "04/06/2021 08:41:57 - INFO - __main__ -     Num examples = 50000\n",
            "04/06/2021 08:41:57 - INFO - __main__ -     Eval Batch size = 128\n"
          ],
          "name": "stderr"
        },
        {
          "output_type": "display_data",
          "data": {
            "text/html": [
              "\n",
              "    <div>\n",
              "        <style>\n",
              "            /* Turns off some styling */\n",
              "            progress {\n",
              "                /* gets rid of default border in Firefox and Opera. */\n",
              "                border: none;\n",
              "                /* Needs to be in here for Safari polyfill so background images work as expected. */\n",
              "                background-size: auto;\n",
              "            }\n",
              "            .progress-bar-interrupted, .progress-bar-interrupted::-webkit-progress-bar {\n",
              "                background: #F44336;\n",
              "            }\n",
              "        </style>\n",
              "      <progress value='391' class='' max='391' style='width:300px; height:20px; vertical-align: middle;'></progress>\n",
              "      100.00% [391/391 01:03<00:00]\n",
              "    </div>\n",
              "    "
            ],
            "text/plain": [
              "<IPython.core.display.HTML object>"
            ]
          },
          "metadata": {
            "tags": []
          }
        },
        {
          "output_type": "stream",
          "text": [
            "04/06/2021 08:43:00 - INFO - __main__ -   ***** Eval results on test dataset *****\n",
            "04/06/2021 08:43:00 - INFO - __main__ -     acc = 0.89274\n",
            "04/06/2021 08:43:00 - INFO - __main__ -   Saving model checkpoint to /content/drive/MyDrive/nsmc_0406/koelectra-small-v3-nsmc-ckpt/checkpoint-26000\n",
            "04/06/2021 08:47:21 - INFO - __main__ -   ***** Running evaluation on test dataset (28000 step) *****\n",
            "04/06/2021 08:47:21 - INFO - __main__ -     Num examples = 50000\n",
            "04/06/2021 08:47:21 - INFO - __main__ -     Eval Batch size = 128\n"
          ],
          "name": "stderr"
        },
        {
          "output_type": "display_data",
          "data": {
            "text/html": [
              "\n",
              "    <div>\n",
              "        <style>\n",
              "            /* Turns off some styling */\n",
              "            progress {\n",
              "                /* gets rid of default border in Firefox and Opera. */\n",
              "                border: none;\n",
              "                /* Needs to be in here for Safari polyfill so background images work as expected. */\n",
              "                background-size: auto;\n",
              "            }\n",
              "            .progress-bar-interrupted, .progress-bar-interrupted::-webkit-progress-bar {\n",
              "                background: #F44336;\n",
              "            }\n",
              "        </style>\n",
              "      <progress value='391' class='' max='391' style='width:300px; height:20px; vertical-align: middle;'></progress>\n",
              "      100.00% [391/391 01:03<00:00]\n",
              "    </div>\n",
              "    "
            ],
            "text/plain": [
              "<IPython.core.display.HTML object>"
            ]
          },
          "metadata": {
            "tags": []
          }
        },
        {
          "output_type": "stream",
          "text": [
            "04/06/2021 08:48:25 - INFO - __main__ -   ***** Eval results on test dataset *****\n",
            "04/06/2021 08:48:25 - INFO - __main__ -     acc = 0.89238\n",
            "04/06/2021 08:48:25 - INFO - __main__ -   Saving model checkpoint to /content/drive/MyDrive/nsmc_0406/koelectra-small-v3-nsmc-ckpt/checkpoint-28000\n",
            "04/06/2021 08:52:45 - INFO - __main__ -   ***** Running evaluation on test dataset (30000 step) *****\n",
            "04/06/2021 08:52:45 - INFO - __main__ -     Num examples = 50000\n",
            "04/06/2021 08:52:45 - INFO - __main__ -     Eval Batch size = 128\n"
          ],
          "name": "stderr"
        },
        {
          "output_type": "display_data",
          "data": {
            "text/html": [
              "\n",
              "    <div>\n",
              "        <style>\n",
              "            /* Turns off some styling */\n",
              "            progress {\n",
              "                /* gets rid of default border in Firefox and Opera. */\n",
              "                border: none;\n",
              "                /* Needs to be in here for Safari polyfill so background images work as expected. */\n",
              "                background-size: auto;\n",
              "            }\n",
              "            .progress-bar-interrupted, .progress-bar-interrupted::-webkit-progress-bar {\n",
              "                background: #F44336;\n",
              "            }\n",
              "        </style>\n",
              "      <progress value='391' class='' max='391' style='width:300px; height:20px; vertical-align: middle;'></progress>\n",
              "      100.00% [391/391 01:03<00:00]\n",
              "    </div>\n",
              "    "
            ],
            "text/plain": [
              "<IPython.core.display.HTML object>"
            ]
          },
          "metadata": {
            "tags": []
          }
        },
        {
          "output_type": "stream",
          "text": [
            "04/06/2021 08:53:48 - INFO - __main__ -   ***** Eval results on test dataset *****\n",
            "04/06/2021 08:53:48 - INFO - __main__ -     acc = 0.89232\n",
            "04/06/2021 08:53:49 - INFO - __main__ -   Saving model checkpoint to /content/drive/MyDrive/nsmc_0406/koelectra-small-v3-nsmc-ckpt/checkpoint-30000\n",
            "04/06/2021 08:58:11 - INFO - __main__ -   ***** Running evaluation on test dataset (32000 step) *****\n",
            "04/06/2021 08:58:11 - INFO - __main__ -     Num examples = 50000\n",
            "04/06/2021 08:58:11 - INFO - __main__ -     Eval Batch size = 128\n"
          ],
          "name": "stderr"
        },
        {
          "output_type": "display_data",
          "data": {
            "text/html": [
              "\n",
              "    <div>\n",
              "        <style>\n",
              "            /* Turns off some styling */\n",
              "            progress {\n",
              "                /* gets rid of default border in Firefox and Opera. */\n",
              "                border: none;\n",
              "                /* Needs to be in here for Safari polyfill so background images work as expected. */\n",
              "                background-size: auto;\n",
              "            }\n",
              "            .progress-bar-interrupted, .progress-bar-interrupted::-webkit-progress-bar {\n",
              "                background: #F44336;\n",
              "            }\n",
              "        </style>\n",
              "      <progress value='391' class='' max='391' style='width:300px; height:20px; vertical-align: middle;'></progress>\n",
              "      100.00% [391/391 01:03<00:00]\n",
              "    </div>\n",
              "    "
            ],
            "text/plain": [
              "<IPython.core.display.HTML object>"
            ]
          },
          "metadata": {
            "tags": []
          }
        },
        {
          "output_type": "stream",
          "text": [
            "04/06/2021 08:59:14 - INFO - __main__ -   ***** Eval results on test dataset *****\n",
            "04/06/2021 08:59:14 - INFO - __main__ -     acc = 0.88584\n",
            "04/06/2021 08:59:14 - INFO - __main__ -   Saving model checkpoint to /content/drive/MyDrive/nsmc_0406/koelectra-small-v3-nsmc-ckpt/checkpoint-32000\n",
            "04/06/2021 09:03:35 - INFO - __main__ -   ***** Running evaluation on test dataset (34000 step) *****\n",
            "04/06/2021 09:03:35 - INFO - __main__ -     Num examples = 50000\n",
            "04/06/2021 09:03:35 - INFO - __main__ -     Eval Batch size = 128\n"
          ],
          "name": "stderr"
        },
        {
          "output_type": "display_data",
          "data": {
            "text/html": [
              "\n",
              "    <div>\n",
              "        <style>\n",
              "            /* Turns off some styling */\n",
              "            progress {\n",
              "                /* gets rid of default border in Firefox and Opera. */\n",
              "                border: none;\n",
              "                /* Needs to be in here for Safari polyfill so background images work as expected. */\n",
              "                background-size: auto;\n",
              "            }\n",
              "            .progress-bar-interrupted, .progress-bar-interrupted::-webkit-progress-bar {\n",
              "                background: #F44336;\n",
              "            }\n",
              "        </style>\n",
              "      <progress value='391' class='' max='391' style='width:300px; height:20px; vertical-align: middle;'></progress>\n",
              "      100.00% [391/391 01:03<00:00]\n",
              "    </div>\n",
              "    "
            ],
            "text/plain": [
              "<IPython.core.display.HTML object>"
            ]
          },
          "metadata": {
            "tags": []
          }
        },
        {
          "output_type": "stream",
          "text": [
            "04/06/2021 09:04:39 - INFO - __main__ -   ***** Eval results on test dataset *****\n",
            "04/06/2021 09:04:39 - INFO - __main__ -     acc = 0.89086\n",
            "04/06/2021 09:04:39 - INFO - __main__ -   Saving model checkpoint to /content/drive/MyDrive/nsmc_0406/koelectra-small-v3-nsmc-ckpt/checkpoint-34000\n",
            "04/06/2021 09:08:59 - INFO - __main__ -   ***** Running evaluation on test dataset (36000 step) *****\n",
            "04/06/2021 09:08:59 - INFO - __main__ -     Num examples = 50000\n",
            "04/06/2021 09:08:59 - INFO - __main__ -     Eval Batch size = 128\n"
          ],
          "name": "stderr"
        },
        {
          "output_type": "display_data",
          "data": {
            "text/html": [
              "\n",
              "    <div>\n",
              "        <style>\n",
              "            /* Turns off some styling */\n",
              "            progress {\n",
              "                /* gets rid of default border in Firefox and Opera. */\n",
              "                border: none;\n",
              "                /* Needs to be in here for Safari polyfill so background images work as expected. */\n",
              "                background-size: auto;\n",
              "            }\n",
              "            .progress-bar-interrupted, .progress-bar-interrupted::-webkit-progress-bar {\n",
              "                background: #F44336;\n",
              "            }\n",
              "        </style>\n",
              "      <progress value='391' class='' max='391' style='width:300px; height:20px; vertical-align: middle;'></progress>\n",
              "      100.00% [391/391 01:03<00:00]\n",
              "    </div>\n",
              "    "
            ],
            "text/plain": [
              "<IPython.core.display.HTML object>"
            ]
          },
          "metadata": {
            "tags": []
          }
        },
        {
          "output_type": "stream",
          "text": [
            "04/06/2021 09:10:03 - INFO - __main__ -   ***** Eval results on test dataset *****\n",
            "04/06/2021 09:10:03 - INFO - __main__ -     acc = 0.89138\n",
            "04/06/2021 09:10:03 - INFO - __main__ -   Saving model checkpoint to /content/drive/MyDrive/nsmc_0406/koelectra-small-v3-nsmc-ckpt/checkpoint-36000\n",
            "04/06/2021 09:14:23 - INFO - __main__ -   ***** Running evaluation on test dataset (38000 step) *****\n",
            "04/06/2021 09:14:23 - INFO - __main__ -     Num examples = 50000\n",
            "04/06/2021 09:14:23 - INFO - __main__ -     Eval Batch size = 128\n"
          ],
          "name": "stderr"
        },
        {
          "output_type": "display_data",
          "data": {
            "text/html": [
              "\n",
              "    <div>\n",
              "        <style>\n",
              "            /* Turns off some styling */\n",
              "            progress {\n",
              "                /* gets rid of default border in Firefox and Opera. */\n",
              "                border: none;\n",
              "                /* Needs to be in here for Safari polyfill so background images work as expected. */\n",
              "                background-size: auto;\n",
              "            }\n",
              "            .progress-bar-interrupted, .progress-bar-interrupted::-webkit-progress-bar {\n",
              "                background: #F44336;\n",
              "            }\n",
              "        </style>\n",
              "      <progress value='391' class='' max='391' style='width:300px; height:20px; vertical-align: middle;'></progress>\n",
              "      100.00% [391/391 01:03<00:00]\n",
              "    </div>\n",
              "    "
            ],
            "text/plain": [
              "<IPython.core.display.HTML object>"
            ]
          },
          "metadata": {
            "tags": []
          }
        },
        {
          "output_type": "stream",
          "text": [
            "04/06/2021 09:15:27 - INFO - __main__ -   ***** Eval results on test dataset *****\n",
            "04/06/2021 09:15:27 - INFO - __main__ -     acc = 0.88876\n",
            "04/06/2021 09:15:27 - INFO - __main__ -   Saving model checkpoint to /content/drive/MyDrive/nsmc_0406/koelectra-small-v3-nsmc-ckpt/checkpoint-38000\n",
            "04/06/2021 09:19:48 - INFO - __main__ -   ***** Running evaluation on test dataset (40000 step) *****\n",
            "04/06/2021 09:19:48 - INFO - __main__ -     Num examples = 50000\n",
            "04/06/2021 09:19:48 - INFO - __main__ -     Eval Batch size = 128\n"
          ],
          "name": "stderr"
        },
        {
          "output_type": "display_data",
          "data": {
            "text/html": [
              "\n",
              "    <div>\n",
              "        <style>\n",
              "            /* Turns off some styling */\n",
              "            progress {\n",
              "                /* gets rid of default border in Firefox and Opera. */\n",
              "                border: none;\n",
              "                /* Needs to be in here for Safari polyfill so background images work as expected. */\n",
              "                background-size: auto;\n",
              "            }\n",
              "            .progress-bar-interrupted, .progress-bar-interrupted::-webkit-progress-bar {\n",
              "                background: #F44336;\n",
              "            }\n",
              "        </style>\n",
              "      <progress value='391' class='' max='391' style='width:300px; height:20px; vertical-align: middle;'></progress>\n",
              "      100.00% [391/391 01:03<00:00]\n",
              "    </div>\n",
              "    "
            ],
            "text/plain": [
              "<IPython.core.display.HTML object>"
            ]
          },
          "metadata": {
            "tags": []
          }
        },
        {
          "output_type": "stream",
          "text": [
            "04/06/2021 09:20:52 - INFO - __main__ -   ***** Eval results on test dataset *****\n",
            "04/06/2021 09:20:52 - INFO - __main__ -     acc = 0.89172\n",
            "04/06/2021 09:20:52 - INFO - __main__ -   Saving model checkpoint to /content/drive/MyDrive/nsmc_0406/koelectra-small-v3-nsmc-ckpt/checkpoint-40000\n",
            "04/06/2021 09:25:15 - INFO - __main__ -   ***** Running evaluation on test dataset (42000 step) *****\n",
            "04/06/2021 09:25:15 - INFO - __main__ -     Num examples = 50000\n",
            "04/06/2021 09:25:15 - INFO - __main__ -     Eval Batch size = 128\n"
          ],
          "name": "stderr"
        },
        {
          "output_type": "display_data",
          "data": {
            "text/html": [
              "\n",
              "    <div>\n",
              "        <style>\n",
              "            /* Turns off some styling */\n",
              "            progress {\n",
              "                /* gets rid of default border in Firefox and Opera. */\n",
              "                border: none;\n",
              "                /* Needs to be in here for Safari polyfill so background images work as expected. */\n",
              "                background-size: auto;\n",
              "            }\n",
              "            .progress-bar-interrupted, .progress-bar-interrupted::-webkit-progress-bar {\n",
              "                background: #F44336;\n",
              "            }\n",
              "        </style>\n",
              "      <progress value='391' class='' max='391' style='width:300px; height:20px; vertical-align: middle;'></progress>\n",
              "      100.00% [391/391 01:03<00:00]\n",
              "    </div>\n",
              "    "
            ],
            "text/plain": [
              "<IPython.core.display.HTML object>"
            ]
          },
          "metadata": {
            "tags": []
          }
        },
        {
          "output_type": "stream",
          "text": [
            "04/06/2021 09:26:18 - INFO - __main__ -   ***** Eval results on test dataset *****\n",
            "04/06/2021 09:26:18 - INFO - __main__ -     acc = 0.89056\n",
            "04/06/2021 09:26:18 - INFO - __main__ -   Saving model checkpoint to /content/drive/MyDrive/nsmc_0406/koelectra-small-v3-nsmc-ckpt/checkpoint-42000\n",
            "04/06/2021 09:30:41 - INFO - __main__ -   ***** Running evaluation on test dataset (44000 step) *****\n",
            "04/06/2021 09:30:41 - INFO - __main__ -     Num examples = 50000\n",
            "04/06/2021 09:30:41 - INFO - __main__ -     Eval Batch size = 128\n"
          ],
          "name": "stderr"
        },
        {
          "output_type": "display_data",
          "data": {
            "text/html": [
              "\n",
              "    <div>\n",
              "        <style>\n",
              "            /* Turns off some styling */\n",
              "            progress {\n",
              "                /* gets rid of default border in Firefox and Opera. */\n",
              "                border: none;\n",
              "                /* Needs to be in here for Safari polyfill so background images work as expected. */\n",
              "                background-size: auto;\n",
              "            }\n",
              "            .progress-bar-interrupted, .progress-bar-interrupted::-webkit-progress-bar {\n",
              "                background: #F44336;\n",
              "            }\n",
              "        </style>\n",
              "      <progress value='391' class='' max='391' style='width:300px; height:20px; vertical-align: middle;'></progress>\n",
              "      100.00% [391/391 01:03<00:00]\n",
              "    </div>\n",
              "    "
            ],
            "text/plain": [
              "<IPython.core.display.HTML object>"
            ]
          },
          "metadata": {
            "tags": []
          }
        },
        {
          "output_type": "stream",
          "text": [
            "04/06/2021 09:31:45 - INFO - __main__ -   ***** Eval results on test dataset *****\n",
            "04/06/2021 09:31:45 - INFO - __main__ -     acc = 0.89038\n",
            "04/06/2021 09:31:45 - INFO - __main__ -   Saving model checkpoint to /content/drive/MyDrive/nsmc_0406/koelectra-small-v3-nsmc-ckpt/checkpoint-44000\n",
            "04/06/2021 09:36:08 - INFO - __main__ -   ***** Running evaluation on test dataset (46000 step) *****\n",
            "04/06/2021 09:36:08 - INFO - __main__ -     Num examples = 50000\n",
            "04/06/2021 09:36:08 - INFO - __main__ -     Eval Batch size = 128\n"
          ],
          "name": "stderr"
        },
        {
          "output_type": "display_data",
          "data": {
            "text/html": [
              "\n",
              "    <div>\n",
              "        <style>\n",
              "            /* Turns off some styling */\n",
              "            progress {\n",
              "                /* gets rid of default border in Firefox and Opera. */\n",
              "                border: none;\n",
              "                /* Needs to be in here for Safari polyfill so background images work as expected. */\n",
              "                background-size: auto;\n",
              "            }\n",
              "            .progress-bar-interrupted, .progress-bar-interrupted::-webkit-progress-bar {\n",
              "                background: #F44336;\n",
              "            }\n",
              "        </style>\n",
              "      <progress value='391' class='' max='391' style='width:300px; height:20px; vertical-align: middle;'></progress>\n",
              "      100.00% [391/391 01:03<00:00]\n",
              "    </div>\n",
              "    "
            ],
            "text/plain": [
              "<IPython.core.display.HTML object>"
            ]
          },
          "metadata": {
            "tags": []
          }
        },
        {
          "output_type": "stream",
          "text": [
            "04/06/2021 09:37:12 - INFO - __main__ -   ***** Eval results on test dataset *****\n",
            "04/06/2021 09:37:12 - INFO - __main__ -     acc = 0.89072\n",
            "04/06/2021 09:37:12 - INFO - __main__ -   Saving model checkpoint to /content/drive/MyDrive/nsmc_0406/koelectra-small-v3-nsmc-ckpt/checkpoint-46000\n",
            "04/06/2021 09:39:08 - INFO - __main__ -    global_step = 46880, average loss = 0.1674914034287883\n",
            "04/06/2021 09:39:08 - INFO - __main__ -   Evaluate the following checkpoints: ['/content/drive/MyDrive/nsmc_0406/koelectra-small-v3-nsmc-ckpt/checkpoint-10000', '/content/drive/MyDrive/nsmc_0406/koelectra-small-v3-nsmc-ckpt/checkpoint-12000', '/content/drive/MyDrive/nsmc_0406/koelectra-small-v3-nsmc-ckpt/checkpoint-14000', '/content/drive/MyDrive/nsmc_0406/koelectra-small-v3-nsmc-ckpt/checkpoint-16000', '/content/drive/MyDrive/nsmc_0406/koelectra-small-v3-nsmc-ckpt/checkpoint-18000', '/content/drive/MyDrive/nsmc_0406/koelectra-small-v3-nsmc-ckpt/checkpoint-2000', '/content/drive/MyDrive/nsmc_0406/koelectra-small-v3-nsmc-ckpt/checkpoint-20000', '/content/drive/MyDrive/nsmc_0406/koelectra-small-v3-nsmc-ckpt/checkpoint-22000', '/content/drive/MyDrive/nsmc_0406/koelectra-small-v3-nsmc-ckpt/checkpoint-24000', '/content/drive/MyDrive/nsmc_0406/koelectra-small-v3-nsmc-ckpt/checkpoint-26000', '/content/drive/MyDrive/nsmc_0406/koelectra-small-v3-nsmc-ckpt/checkpoint-28000', '/content/drive/MyDrive/nsmc_0406/koelectra-small-v3-nsmc-ckpt/checkpoint-30000', '/content/drive/MyDrive/nsmc_0406/koelectra-small-v3-nsmc-ckpt/checkpoint-32000', '/content/drive/MyDrive/nsmc_0406/koelectra-small-v3-nsmc-ckpt/checkpoint-34000', '/content/drive/MyDrive/nsmc_0406/koelectra-small-v3-nsmc-ckpt/checkpoint-36000', '/content/drive/MyDrive/nsmc_0406/koelectra-small-v3-nsmc-ckpt/checkpoint-38000', '/content/drive/MyDrive/nsmc_0406/koelectra-small-v3-nsmc-ckpt/checkpoint-4000', '/content/drive/MyDrive/nsmc_0406/koelectra-small-v3-nsmc-ckpt/checkpoint-40000', '/content/drive/MyDrive/nsmc_0406/koelectra-small-v3-nsmc-ckpt/checkpoint-42000', '/content/drive/MyDrive/nsmc_0406/koelectra-small-v3-nsmc-ckpt/checkpoint-44000', '/content/drive/MyDrive/nsmc_0406/koelectra-small-v3-nsmc-ckpt/checkpoint-46000', '/content/drive/MyDrive/nsmc_0406/koelectra-small-v3-nsmc-ckpt/checkpoint-6000', '/content/drive/MyDrive/nsmc_0406/koelectra-small-v3-nsmc-ckpt/checkpoint-8000']\n",
            "04/06/2021 09:39:08 - INFO - __main__ -   ***** Running evaluation on test dataset (10000 step) *****\n",
            "04/06/2021 09:39:08 - INFO - __main__ -     Num examples = 50000\n",
            "04/06/2021 09:39:08 - INFO - __main__ -     Eval Batch size = 128\n"
          ],
          "name": "stderr"
        },
        {
          "output_type": "display_data",
          "data": {
            "text/html": [
              "\n",
              "    <div>\n",
              "        <style>\n",
              "            /* Turns off some styling */\n",
              "            progress {\n",
              "                /* gets rid of default border in Firefox and Opera. */\n",
              "                border: none;\n",
              "                /* Needs to be in here for Safari polyfill so background images work as expected. */\n",
              "                background-size: auto;\n",
              "            }\n",
              "            .progress-bar-interrupted, .progress-bar-interrupted::-webkit-progress-bar {\n",
              "                background: #F44336;\n",
              "            }\n",
              "        </style>\n",
              "      <progress value='391' class='' max='391' style='width:300px; height:20px; vertical-align: middle;'></progress>\n",
              "      100.00% [391/391 01:03<00:00]\n",
              "    </div>\n",
              "    "
            ],
            "text/plain": [
              "<IPython.core.display.HTML object>"
            ]
          },
          "metadata": {
            "tags": []
          }
        },
        {
          "output_type": "stream",
          "text": [
            "04/06/2021 09:40:12 - INFO - __main__ -   ***** Eval results on test dataset *****\n",
            "04/06/2021 09:40:12 - INFO - __main__ -     acc = 0.88302\n",
            "04/06/2021 09:40:12 - INFO - __main__ -   ***** Running evaluation on test dataset (12000 step) *****\n",
            "04/06/2021 09:40:12 - INFO - __main__ -     Num examples = 50000\n",
            "04/06/2021 09:40:12 - INFO - __main__ -     Eval Batch size = 128\n"
          ],
          "name": "stderr"
        },
        {
          "output_type": "display_data",
          "data": {
            "text/html": [
              "\n",
              "    <div>\n",
              "        <style>\n",
              "            /* Turns off some styling */\n",
              "            progress {\n",
              "                /* gets rid of default border in Firefox and Opera. */\n",
              "                border: none;\n",
              "                /* Needs to be in here for Safari polyfill so background images work as expected. */\n",
              "                background-size: auto;\n",
              "            }\n",
              "            .progress-bar-interrupted, .progress-bar-interrupted::-webkit-progress-bar {\n",
              "                background: #F44336;\n",
              "            }\n",
              "        </style>\n",
              "      <progress value='391' class='' max='391' style='width:300px; height:20px; vertical-align: middle;'></progress>\n",
              "      100.00% [391/391 01:03<00:00]\n",
              "    </div>\n",
              "    "
            ],
            "text/plain": [
              "<IPython.core.display.HTML object>"
            ]
          },
          "metadata": {
            "tags": []
          }
        },
        {
          "output_type": "stream",
          "text": [
            "04/06/2021 09:41:16 - INFO - __main__ -   ***** Eval results on test dataset *****\n",
            "04/06/2021 09:41:16 - INFO - __main__ -     acc = 0.89182\n",
            "04/06/2021 09:41:16 - INFO - __main__ -   ***** Running evaluation on test dataset (14000 step) *****\n",
            "04/06/2021 09:41:16 - INFO - __main__ -     Num examples = 50000\n",
            "04/06/2021 09:41:16 - INFO - __main__ -     Eval Batch size = 128\n"
          ],
          "name": "stderr"
        },
        {
          "output_type": "display_data",
          "data": {
            "text/html": [
              "\n",
              "    <div>\n",
              "        <style>\n",
              "            /* Turns off some styling */\n",
              "            progress {\n",
              "                /* gets rid of default border in Firefox and Opera. */\n",
              "                border: none;\n",
              "                /* Needs to be in here for Safari polyfill so background images work as expected. */\n",
              "                background-size: auto;\n",
              "            }\n",
              "            .progress-bar-interrupted, .progress-bar-interrupted::-webkit-progress-bar {\n",
              "                background: #F44336;\n",
              "            }\n",
              "        </style>\n",
              "      <progress value='391' class='' max='391' style='width:300px; height:20px; vertical-align: middle;'></progress>\n",
              "      100.00% [391/391 01:03<00:00]\n",
              "    </div>\n",
              "    "
            ],
            "text/plain": [
              "<IPython.core.display.HTML object>"
            ]
          },
          "metadata": {
            "tags": []
          }
        },
        {
          "output_type": "stream",
          "text": [
            "04/06/2021 09:42:20 - INFO - __main__ -   ***** Eval results on test dataset *****\n",
            "04/06/2021 09:42:20 - INFO - __main__ -     acc = 0.88876\n",
            "04/06/2021 09:42:20 - INFO - __main__ -   ***** Running evaluation on test dataset (16000 step) *****\n",
            "04/06/2021 09:42:20 - INFO - __main__ -     Num examples = 50000\n",
            "04/06/2021 09:42:20 - INFO - __main__ -     Eval Batch size = 128\n"
          ],
          "name": "stderr"
        },
        {
          "output_type": "display_data",
          "data": {
            "text/html": [
              "\n",
              "    <div>\n",
              "        <style>\n",
              "            /* Turns off some styling */\n",
              "            progress {\n",
              "                /* gets rid of default border in Firefox and Opera. */\n",
              "                border: none;\n",
              "                /* Needs to be in here for Safari polyfill so background images work as expected. */\n",
              "                background-size: auto;\n",
              "            }\n",
              "            .progress-bar-interrupted, .progress-bar-interrupted::-webkit-progress-bar {\n",
              "                background: #F44336;\n",
              "            }\n",
              "        </style>\n",
              "      <progress value='391' class='' max='391' style='width:300px; height:20px; vertical-align: middle;'></progress>\n",
              "      100.00% [391/391 01:03<00:00]\n",
              "    </div>\n",
              "    "
            ],
            "text/plain": [
              "<IPython.core.display.HTML object>"
            ]
          },
          "metadata": {
            "tags": []
          }
        },
        {
          "output_type": "stream",
          "text": [
            "04/06/2021 09:43:24 - INFO - __main__ -   ***** Eval results on test dataset *****\n",
            "04/06/2021 09:43:24 - INFO - __main__ -     acc = 0.89246\n",
            "04/06/2021 09:43:24 - INFO - __main__ -   ***** Running evaluation on test dataset (18000 step) *****\n",
            "04/06/2021 09:43:24 - INFO - __main__ -     Num examples = 50000\n",
            "04/06/2021 09:43:24 - INFO - __main__ -     Eval Batch size = 128\n"
          ],
          "name": "stderr"
        },
        {
          "output_type": "display_data",
          "data": {
            "text/html": [
              "\n",
              "    <div>\n",
              "        <style>\n",
              "            /* Turns off some styling */\n",
              "            progress {\n",
              "                /* gets rid of default border in Firefox and Opera. */\n",
              "                border: none;\n",
              "                /* Needs to be in here for Safari polyfill so background images work as expected. */\n",
              "                background-size: auto;\n",
              "            }\n",
              "            .progress-bar-interrupted, .progress-bar-interrupted::-webkit-progress-bar {\n",
              "                background: #F44336;\n",
              "            }\n",
              "        </style>\n",
              "      <progress value='391' class='' max='391' style='width:300px; height:20px; vertical-align: middle;'></progress>\n",
              "      100.00% [391/391 01:03<00:00]\n",
              "    </div>\n",
              "    "
            ],
            "text/plain": [
              "<IPython.core.display.HTML object>"
            ]
          },
          "metadata": {
            "tags": []
          }
        },
        {
          "output_type": "stream",
          "text": [
            "04/06/2021 09:44:27 - INFO - __main__ -   ***** Eval results on test dataset *****\n",
            "04/06/2021 09:44:27 - INFO - __main__ -     acc = 0.89184\n",
            "04/06/2021 09:44:28 - INFO - __main__ -   ***** Running evaluation on test dataset (2000 step) *****\n",
            "04/06/2021 09:44:28 - INFO - __main__ -     Num examples = 50000\n",
            "04/06/2021 09:44:28 - INFO - __main__ -     Eval Batch size = 128\n"
          ],
          "name": "stderr"
        },
        {
          "output_type": "display_data",
          "data": {
            "text/html": [
              "\n",
              "    <div>\n",
              "        <style>\n",
              "            /* Turns off some styling */\n",
              "            progress {\n",
              "                /* gets rid of default border in Firefox and Opera. */\n",
              "                border: none;\n",
              "                /* Needs to be in here for Safari polyfill so background images work as expected. */\n",
              "                background-size: auto;\n",
              "            }\n",
              "            .progress-bar-interrupted, .progress-bar-interrupted::-webkit-progress-bar {\n",
              "                background: #F44336;\n",
              "            }\n",
              "        </style>\n",
              "      <progress value='391' class='' max='391' style='width:300px; height:20px; vertical-align: middle;'></progress>\n",
              "      100.00% [391/391 01:03<00:00]\n",
              "    </div>\n",
              "    "
            ],
            "text/plain": [
              "<IPython.core.display.HTML object>"
            ]
          },
          "metadata": {
            "tags": []
          }
        },
        {
          "output_type": "stream",
          "text": [
            "04/06/2021 09:45:31 - INFO - __main__ -   ***** Eval results on test dataset *****\n",
            "04/06/2021 09:45:31 - INFO - __main__ -     acc = 0.86216\n",
            "04/06/2021 09:45:32 - INFO - __main__ -   ***** Running evaluation on test dataset (20000 step) *****\n",
            "04/06/2021 09:45:32 - INFO - __main__ -     Num examples = 50000\n",
            "04/06/2021 09:45:32 - INFO - __main__ -     Eval Batch size = 128\n"
          ],
          "name": "stderr"
        },
        {
          "output_type": "display_data",
          "data": {
            "text/html": [
              "\n",
              "    <div>\n",
              "        <style>\n",
              "            /* Turns off some styling */\n",
              "            progress {\n",
              "                /* gets rid of default border in Firefox and Opera. */\n",
              "                border: none;\n",
              "                /* Needs to be in here for Safari polyfill so background images work as expected. */\n",
              "                background-size: auto;\n",
              "            }\n",
              "            .progress-bar-interrupted, .progress-bar-interrupted::-webkit-progress-bar {\n",
              "                background: #F44336;\n",
              "            }\n",
              "        </style>\n",
              "      <progress value='391' class='' max='391' style='width:300px; height:20px; vertical-align: middle;'></progress>\n",
              "      100.00% [391/391 01:03<00:00]\n",
              "    </div>\n",
              "    "
            ],
            "text/plain": [
              "<IPython.core.display.HTML object>"
            ]
          },
          "metadata": {
            "tags": []
          }
        },
        {
          "output_type": "stream",
          "text": [
            "04/06/2021 09:46:35 - INFO - __main__ -   ***** Eval results on test dataset *****\n",
            "04/06/2021 09:46:35 - INFO - __main__ -     acc = 0.891\n",
            "04/06/2021 09:46:36 - INFO - __main__ -   ***** Running evaluation on test dataset (22000 step) *****\n",
            "04/06/2021 09:46:36 - INFO - __main__ -     Num examples = 50000\n",
            "04/06/2021 09:46:36 - INFO - __main__ -     Eval Batch size = 128\n"
          ],
          "name": "stderr"
        },
        {
          "output_type": "display_data",
          "data": {
            "text/html": [
              "\n",
              "    <div>\n",
              "        <style>\n",
              "            /* Turns off some styling */\n",
              "            progress {\n",
              "                /* gets rid of default border in Firefox and Opera. */\n",
              "                border: none;\n",
              "                /* Needs to be in here for Safari polyfill so background images work as expected. */\n",
              "                background-size: auto;\n",
              "            }\n",
              "            .progress-bar-interrupted, .progress-bar-interrupted::-webkit-progress-bar {\n",
              "                background: #F44336;\n",
              "            }\n",
              "        </style>\n",
              "      <progress value='391' class='' max='391' style='width:300px; height:20px; vertical-align: middle;'></progress>\n",
              "      100.00% [391/391 01:03<00:00]\n",
              "    </div>\n",
              "    "
            ],
            "text/plain": [
              "<IPython.core.display.HTML object>"
            ]
          },
          "metadata": {
            "tags": []
          }
        },
        {
          "output_type": "stream",
          "text": [
            "04/06/2021 09:47:39 - INFO - __main__ -   ***** Eval results on test dataset *****\n",
            "04/06/2021 09:47:39 - INFO - __main__ -     acc = 0.89\n",
            "04/06/2021 09:47:40 - INFO - __main__ -   ***** Running evaluation on test dataset (24000 step) *****\n",
            "04/06/2021 09:47:40 - INFO - __main__ -     Num examples = 50000\n",
            "04/06/2021 09:47:40 - INFO - __main__ -     Eval Batch size = 128\n"
          ],
          "name": "stderr"
        },
        {
          "output_type": "display_data",
          "data": {
            "text/html": [
              "\n",
              "    <div>\n",
              "        <style>\n",
              "            /* Turns off some styling */\n",
              "            progress {\n",
              "                /* gets rid of default border in Firefox and Opera. */\n",
              "                border: none;\n",
              "                /* Needs to be in here for Safari polyfill so background images work as expected. */\n",
              "                background-size: auto;\n",
              "            }\n",
              "            .progress-bar-interrupted, .progress-bar-interrupted::-webkit-progress-bar {\n",
              "                background: #F44336;\n",
              "            }\n",
              "        </style>\n",
              "      <progress value='391' class='' max='391' style='width:300px; height:20px; vertical-align: middle;'></progress>\n",
              "      100.00% [391/391 01:03<00:00]\n",
              "    </div>\n",
              "    "
            ],
            "text/plain": [
              "<IPython.core.display.HTML object>"
            ]
          },
          "metadata": {
            "tags": []
          }
        },
        {
          "output_type": "stream",
          "text": [
            "04/06/2021 09:48:43 - INFO - __main__ -   ***** Eval results on test dataset *****\n",
            "04/06/2021 09:48:43 - INFO - __main__ -     acc = 0.8896\n",
            "04/06/2021 09:48:43 - INFO - __main__ -   ***** Running evaluation on test dataset (26000 step) *****\n",
            "04/06/2021 09:48:43 - INFO - __main__ -     Num examples = 50000\n",
            "04/06/2021 09:48:43 - INFO - __main__ -     Eval Batch size = 128\n"
          ],
          "name": "stderr"
        },
        {
          "output_type": "display_data",
          "data": {
            "text/html": [
              "\n",
              "    <div>\n",
              "        <style>\n",
              "            /* Turns off some styling */\n",
              "            progress {\n",
              "                /* gets rid of default border in Firefox and Opera. */\n",
              "                border: none;\n",
              "                /* Needs to be in here for Safari polyfill so background images work as expected. */\n",
              "                background-size: auto;\n",
              "            }\n",
              "            .progress-bar-interrupted, .progress-bar-interrupted::-webkit-progress-bar {\n",
              "                background: #F44336;\n",
              "            }\n",
              "        </style>\n",
              "      <progress value='391' class='' max='391' style='width:300px; height:20px; vertical-align: middle;'></progress>\n",
              "      100.00% [391/391 01:03<00:00]\n",
              "    </div>\n",
              "    "
            ],
            "text/plain": [
              "<IPython.core.display.HTML object>"
            ]
          },
          "metadata": {
            "tags": []
          }
        },
        {
          "output_type": "stream",
          "text": [
            "04/06/2021 09:49:47 - INFO - __main__ -   ***** Eval results on test dataset *****\n",
            "04/06/2021 09:49:47 - INFO - __main__ -     acc = 0.89274\n",
            "04/06/2021 09:49:48 - INFO - __main__ -   ***** Running evaluation on test dataset (28000 step) *****\n",
            "04/06/2021 09:49:48 - INFO - __main__ -     Num examples = 50000\n",
            "04/06/2021 09:49:48 - INFO - __main__ -     Eval Batch size = 128\n"
          ],
          "name": "stderr"
        },
        {
          "output_type": "display_data",
          "data": {
            "text/html": [
              "\n",
              "    <div>\n",
              "        <style>\n",
              "            /* Turns off some styling */\n",
              "            progress {\n",
              "                /* gets rid of default border in Firefox and Opera. */\n",
              "                border: none;\n",
              "                /* Needs to be in here for Safari polyfill so background images work as expected. */\n",
              "                background-size: auto;\n",
              "            }\n",
              "            .progress-bar-interrupted, .progress-bar-interrupted::-webkit-progress-bar {\n",
              "                background: #F44336;\n",
              "            }\n",
              "        </style>\n",
              "      <progress value='391' class='' max='391' style='width:300px; height:20px; vertical-align: middle;'></progress>\n",
              "      100.00% [391/391 01:03<00:00]\n",
              "    </div>\n",
              "    "
            ],
            "text/plain": [
              "<IPython.core.display.HTML object>"
            ]
          },
          "metadata": {
            "tags": []
          }
        },
        {
          "output_type": "stream",
          "text": [
            "04/06/2021 09:50:51 - INFO - __main__ -   ***** Eval results on test dataset *****\n",
            "04/06/2021 09:50:51 - INFO - __main__ -     acc = 0.89238\n",
            "04/06/2021 09:50:51 - INFO - __main__ -   ***** Running evaluation on test dataset (30000 step) *****\n",
            "04/06/2021 09:50:51 - INFO - __main__ -     Num examples = 50000\n",
            "04/06/2021 09:50:51 - INFO - __main__ -     Eval Batch size = 128\n"
          ],
          "name": "stderr"
        },
        {
          "output_type": "display_data",
          "data": {
            "text/html": [
              "\n",
              "    <div>\n",
              "        <style>\n",
              "            /* Turns off some styling */\n",
              "            progress {\n",
              "                /* gets rid of default border in Firefox and Opera. */\n",
              "                border: none;\n",
              "                /* Needs to be in here for Safari polyfill so background images work as expected. */\n",
              "                background-size: auto;\n",
              "            }\n",
              "            .progress-bar-interrupted, .progress-bar-interrupted::-webkit-progress-bar {\n",
              "                background: #F44336;\n",
              "            }\n",
              "        </style>\n",
              "      <progress value='391' class='' max='391' style='width:300px; height:20px; vertical-align: middle;'></progress>\n",
              "      100.00% [391/391 01:03<00:00]\n",
              "    </div>\n",
              "    "
            ],
            "text/plain": [
              "<IPython.core.display.HTML object>"
            ]
          },
          "metadata": {
            "tags": []
          }
        },
        {
          "output_type": "stream",
          "text": [
            "04/06/2021 09:51:55 - INFO - __main__ -   ***** Eval results on test dataset *****\n",
            "04/06/2021 09:51:55 - INFO - __main__ -     acc = 0.89232\n",
            "04/06/2021 09:51:55 - INFO - __main__ -   ***** Running evaluation on test dataset (32000 step) *****\n",
            "04/06/2021 09:51:55 - INFO - __main__ -     Num examples = 50000\n",
            "04/06/2021 09:51:55 - INFO - __main__ -     Eval Batch size = 128\n"
          ],
          "name": "stderr"
        },
        {
          "output_type": "display_data",
          "data": {
            "text/html": [
              "\n",
              "    <div>\n",
              "        <style>\n",
              "            /* Turns off some styling */\n",
              "            progress {\n",
              "                /* gets rid of default border in Firefox and Opera. */\n",
              "                border: none;\n",
              "                /* Needs to be in here for Safari polyfill so background images work as expected. */\n",
              "                background-size: auto;\n",
              "            }\n",
              "            .progress-bar-interrupted, .progress-bar-interrupted::-webkit-progress-bar {\n",
              "                background: #F44336;\n",
              "            }\n",
              "        </style>\n",
              "      <progress value='391' class='' max='391' style='width:300px; height:20px; vertical-align: middle;'></progress>\n",
              "      100.00% [391/391 01:03<00:00]\n",
              "    </div>\n",
              "    "
            ],
            "text/plain": [
              "<IPython.core.display.HTML object>"
            ]
          },
          "metadata": {
            "tags": []
          }
        },
        {
          "output_type": "stream",
          "text": [
            "04/06/2021 09:52:59 - INFO - __main__ -   ***** Eval results on test dataset *****\n",
            "04/06/2021 09:52:59 - INFO - __main__ -     acc = 0.88584\n",
            "04/06/2021 09:52:59 - INFO - __main__ -   ***** Running evaluation on test dataset (34000 step) *****\n",
            "04/06/2021 09:52:59 - INFO - __main__ -     Num examples = 50000\n",
            "04/06/2021 09:52:59 - INFO - __main__ -     Eval Batch size = 128\n"
          ],
          "name": "stderr"
        },
        {
          "output_type": "display_data",
          "data": {
            "text/html": [
              "\n",
              "    <div>\n",
              "        <style>\n",
              "            /* Turns off some styling */\n",
              "            progress {\n",
              "                /* gets rid of default border in Firefox and Opera. */\n",
              "                border: none;\n",
              "                /* Needs to be in here for Safari polyfill so background images work as expected. */\n",
              "                background-size: auto;\n",
              "            }\n",
              "            .progress-bar-interrupted, .progress-bar-interrupted::-webkit-progress-bar {\n",
              "                background: #F44336;\n",
              "            }\n",
              "        </style>\n",
              "      <progress value='391' class='' max='391' style='width:300px; height:20px; vertical-align: middle;'></progress>\n",
              "      100.00% [391/391 01:03<00:00]\n",
              "    </div>\n",
              "    "
            ],
            "text/plain": [
              "<IPython.core.display.HTML object>"
            ]
          },
          "metadata": {
            "tags": []
          }
        },
        {
          "output_type": "stream",
          "text": [
            "04/06/2021 09:54:03 - INFO - __main__ -   ***** Eval results on test dataset *****\n",
            "04/06/2021 09:54:03 - INFO - __main__ -     acc = 0.89086\n",
            "04/06/2021 09:54:03 - INFO - __main__ -   ***** Running evaluation on test dataset (36000 step) *****\n",
            "04/06/2021 09:54:03 - INFO - __main__ -     Num examples = 50000\n",
            "04/06/2021 09:54:03 - INFO - __main__ -     Eval Batch size = 128\n"
          ],
          "name": "stderr"
        },
        {
          "output_type": "display_data",
          "data": {
            "text/html": [
              "\n",
              "    <div>\n",
              "        <style>\n",
              "            /* Turns off some styling */\n",
              "            progress {\n",
              "                /* gets rid of default border in Firefox and Opera. */\n",
              "                border: none;\n",
              "                /* Needs to be in here for Safari polyfill so background images work as expected. */\n",
              "                background-size: auto;\n",
              "            }\n",
              "            .progress-bar-interrupted, .progress-bar-interrupted::-webkit-progress-bar {\n",
              "                background: #F44336;\n",
              "            }\n",
              "        </style>\n",
              "      <progress value='391' class='' max='391' style='width:300px; height:20px; vertical-align: middle;'></progress>\n",
              "      100.00% [391/391 01:03<00:00]\n",
              "    </div>\n",
              "    "
            ],
            "text/plain": [
              "<IPython.core.display.HTML object>"
            ]
          },
          "metadata": {
            "tags": []
          }
        },
        {
          "output_type": "stream",
          "text": [
            "04/06/2021 09:55:07 - INFO - __main__ -   ***** Eval results on test dataset *****\n",
            "04/06/2021 09:55:07 - INFO - __main__ -     acc = 0.89138\n",
            "04/06/2021 09:55:07 - INFO - __main__ -   ***** Running evaluation on test dataset (38000 step) *****\n",
            "04/06/2021 09:55:07 - INFO - __main__ -     Num examples = 50000\n",
            "04/06/2021 09:55:07 - INFO - __main__ -     Eval Batch size = 128\n"
          ],
          "name": "stderr"
        },
        {
          "output_type": "display_data",
          "data": {
            "text/html": [
              "\n",
              "    <div>\n",
              "        <style>\n",
              "            /* Turns off some styling */\n",
              "            progress {\n",
              "                /* gets rid of default border in Firefox and Opera. */\n",
              "                border: none;\n",
              "                /* Needs to be in here for Safari polyfill so background images work as expected. */\n",
              "                background-size: auto;\n",
              "            }\n",
              "            .progress-bar-interrupted, .progress-bar-interrupted::-webkit-progress-bar {\n",
              "                background: #F44336;\n",
              "            }\n",
              "        </style>\n",
              "      <progress value='391' class='' max='391' style='width:300px; height:20px; vertical-align: middle;'></progress>\n",
              "      100.00% [391/391 01:03<00:00]\n",
              "    </div>\n",
              "    "
            ],
            "text/plain": [
              "<IPython.core.display.HTML object>"
            ]
          },
          "metadata": {
            "tags": []
          }
        },
        {
          "output_type": "stream",
          "text": [
            "04/06/2021 09:56:10 - INFO - __main__ -   ***** Eval results on test dataset *****\n",
            "04/06/2021 09:56:10 - INFO - __main__ -     acc = 0.88876\n",
            "04/06/2021 09:56:11 - INFO - __main__ -   ***** Running evaluation on test dataset (4000 step) *****\n",
            "04/06/2021 09:56:11 - INFO - __main__ -     Num examples = 50000\n",
            "04/06/2021 09:56:11 - INFO - __main__ -     Eval Batch size = 128\n"
          ],
          "name": "stderr"
        },
        {
          "output_type": "display_data",
          "data": {
            "text/html": [
              "\n",
              "    <div>\n",
              "        <style>\n",
              "            /* Turns off some styling */\n",
              "            progress {\n",
              "                /* gets rid of default border in Firefox and Opera. */\n",
              "                border: none;\n",
              "                /* Needs to be in here for Safari polyfill so background images work as expected. */\n",
              "                background-size: auto;\n",
              "            }\n",
              "            .progress-bar-interrupted, .progress-bar-interrupted::-webkit-progress-bar {\n",
              "                background: #F44336;\n",
              "            }\n",
              "        </style>\n",
              "      <progress value='391' class='' max='391' style='width:300px; height:20px; vertical-align: middle;'></progress>\n",
              "      100.00% [391/391 01:03<00:00]\n",
              "    </div>\n",
              "    "
            ],
            "text/plain": [
              "<IPython.core.display.HTML object>"
            ]
          },
          "metadata": {
            "tags": []
          }
        },
        {
          "output_type": "stream",
          "text": [
            "04/06/2021 09:57:14 - INFO - __main__ -   ***** Eval results on test dataset *****\n",
            "04/06/2021 09:57:14 - INFO - __main__ -     acc = 0.87438\n",
            "04/06/2021 09:57:15 - INFO - __main__ -   ***** Running evaluation on test dataset (40000 step) *****\n",
            "04/06/2021 09:57:15 - INFO - __main__ -     Num examples = 50000\n",
            "04/06/2021 09:57:15 - INFO - __main__ -     Eval Batch size = 128\n"
          ],
          "name": "stderr"
        },
        {
          "output_type": "display_data",
          "data": {
            "text/html": [
              "\n",
              "    <div>\n",
              "        <style>\n",
              "            /* Turns off some styling */\n",
              "            progress {\n",
              "                /* gets rid of default border in Firefox and Opera. */\n",
              "                border: none;\n",
              "                /* Needs to be in here for Safari polyfill so background images work as expected. */\n",
              "                background-size: auto;\n",
              "            }\n",
              "            .progress-bar-interrupted, .progress-bar-interrupted::-webkit-progress-bar {\n",
              "                background: #F44336;\n",
              "            }\n",
              "        </style>\n",
              "      <progress value='391' class='' max='391' style='width:300px; height:20px; vertical-align: middle;'></progress>\n",
              "      100.00% [391/391 01:03<00:00]\n",
              "    </div>\n",
              "    "
            ],
            "text/plain": [
              "<IPython.core.display.HTML object>"
            ]
          },
          "metadata": {
            "tags": []
          }
        },
        {
          "output_type": "stream",
          "text": [
            "04/06/2021 09:58:18 - INFO - __main__ -   ***** Eval results on test dataset *****\n",
            "04/06/2021 09:58:18 - INFO - __main__ -     acc = 0.89172\n",
            "04/06/2021 09:58:19 - INFO - __main__ -   ***** Running evaluation on test dataset (42000 step) *****\n",
            "04/06/2021 09:58:19 - INFO - __main__ -     Num examples = 50000\n",
            "04/06/2021 09:58:19 - INFO - __main__ -     Eval Batch size = 128\n"
          ],
          "name": "stderr"
        },
        {
          "output_type": "display_data",
          "data": {
            "text/html": [
              "\n",
              "    <div>\n",
              "        <style>\n",
              "            /* Turns off some styling */\n",
              "            progress {\n",
              "                /* gets rid of default border in Firefox and Opera. */\n",
              "                border: none;\n",
              "                /* Needs to be in here for Safari polyfill so background images work as expected. */\n",
              "                background-size: auto;\n",
              "            }\n",
              "            .progress-bar-interrupted, .progress-bar-interrupted::-webkit-progress-bar {\n",
              "                background: #F44336;\n",
              "            }\n",
              "        </style>\n",
              "      <progress value='391' class='' max='391' style='width:300px; height:20px; vertical-align: middle;'></progress>\n",
              "      100.00% [391/391 01:03<00:00]\n",
              "    </div>\n",
              "    "
            ],
            "text/plain": [
              "<IPython.core.display.HTML object>"
            ]
          },
          "metadata": {
            "tags": []
          }
        },
        {
          "output_type": "stream",
          "text": [
            "04/06/2021 09:59:22 - INFO - __main__ -   ***** Eval results on test dataset *****\n",
            "04/06/2021 09:59:22 - INFO - __main__ -     acc = 0.89056\n",
            "04/06/2021 09:59:23 - INFO - __main__ -   ***** Running evaluation on test dataset (44000 step) *****\n",
            "04/06/2021 09:59:23 - INFO - __main__ -     Num examples = 50000\n",
            "04/06/2021 09:59:23 - INFO - __main__ -     Eval Batch size = 128\n"
          ],
          "name": "stderr"
        },
        {
          "output_type": "display_data",
          "data": {
            "text/html": [
              "\n",
              "    <div>\n",
              "        <style>\n",
              "            /* Turns off some styling */\n",
              "            progress {\n",
              "                /* gets rid of default border in Firefox and Opera. */\n",
              "                border: none;\n",
              "                /* Needs to be in here for Safari polyfill so background images work as expected. */\n",
              "                background-size: auto;\n",
              "            }\n",
              "            .progress-bar-interrupted, .progress-bar-interrupted::-webkit-progress-bar {\n",
              "                background: #F44336;\n",
              "            }\n",
              "        </style>\n",
              "      <progress value='391' class='' max='391' style='width:300px; height:20px; vertical-align: middle;'></progress>\n",
              "      100.00% [391/391 01:03<00:00]\n",
              "    </div>\n",
              "    "
            ],
            "text/plain": [
              "<IPython.core.display.HTML object>"
            ]
          },
          "metadata": {
            "tags": []
          }
        },
        {
          "output_type": "stream",
          "text": [
            "04/06/2021 10:00:26 - INFO - __main__ -   ***** Eval results on test dataset *****\n",
            "04/06/2021 10:00:26 - INFO - __main__ -     acc = 0.89038\n",
            "04/06/2021 10:00:27 - INFO - __main__ -   ***** Running evaluation on test dataset (46000 step) *****\n",
            "04/06/2021 10:00:27 - INFO - __main__ -     Num examples = 50000\n",
            "04/06/2021 10:00:27 - INFO - __main__ -     Eval Batch size = 128\n"
          ],
          "name": "stderr"
        },
        {
          "output_type": "display_data",
          "data": {
            "text/html": [
              "\n",
              "    <div>\n",
              "        <style>\n",
              "            /* Turns off some styling */\n",
              "            progress {\n",
              "                /* gets rid of default border in Firefox and Opera. */\n",
              "                border: none;\n",
              "                /* Needs to be in here for Safari polyfill so background images work as expected. */\n",
              "                background-size: auto;\n",
              "            }\n",
              "            .progress-bar-interrupted, .progress-bar-interrupted::-webkit-progress-bar {\n",
              "                background: #F44336;\n",
              "            }\n",
              "        </style>\n",
              "      <progress value='391' class='' max='391' style='width:300px; height:20px; vertical-align: middle;'></progress>\n",
              "      100.00% [391/391 01:03<00:00]\n",
              "    </div>\n",
              "    "
            ],
            "text/plain": [
              "<IPython.core.display.HTML object>"
            ]
          },
          "metadata": {
            "tags": []
          }
        },
        {
          "output_type": "stream",
          "text": [
            "04/06/2021 10:01:30 - INFO - __main__ -   ***** Eval results on test dataset *****\n",
            "04/06/2021 10:01:30 - INFO - __main__ -     acc = 0.89072\n",
            "04/06/2021 10:01:31 - INFO - __main__ -   ***** Running evaluation on test dataset (6000 step) *****\n",
            "04/06/2021 10:01:31 - INFO - __main__ -     Num examples = 50000\n",
            "04/06/2021 10:01:31 - INFO - __main__ -     Eval Batch size = 128\n"
          ],
          "name": "stderr"
        },
        {
          "output_type": "display_data",
          "data": {
            "text/html": [
              "\n",
              "    <div>\n",
              "        <style>\n",
              "            /* Turns off some styling */\n",
              "            progress {\n",
              "                /* gets rid of default border in Firefox and Opera. */\n",
              "                border: none;\n",
              "                /* Needs to be in here for Safari polyfill so background images work as expected. */\n",
              "                background-size: auto;\n",
              "            }\n",
              "            .progress-bar-interrupted, .progress-bar-interrupted::-webkit-progress-bar {\n",
              "                background: #F44336;\n",
              "            }\n",
              "        </style>\n",
              "      <progress value='391' class='' max='391' style='width:300px; height:20px; vertical-align: middle;'></progress>\n",
              "      100.00% [391/391 01:03<00:00]\n",
              "    </div>\n",
              "    "
            ],
            "text/plain": [
              "<IPython.core.display.HTML object>"
            ]
          },
          "metadata": {
            "tags": []
          }
        },
        {
          "output_type": "stream",
          "text": [
            "04/06/2021 10:02:34 - INFO - __main__ -   ***** Eval results on test dataset *****\n",
            "04/06/2021 10:02:34 - INFO - __main__ -     acc = 0.87968\n",
            "04/06/2021 10:02:34 - INFO - __main__ -   ***** Running evaluation on test dataset (8000 step) *****\n",
            "04/06/2021 10:02:34 - INFO - __main__ -     Num examples = 50000\n",
            "04/06/2021 10:02:34 - INFO - __main__ -     Eval Batch size = 128\n"
          ],
          "name": "stderr"
        },
        {
          "output_type": "display_data",
          "data": {
            "text/html": [
              "\n",
              "    <div>\n",
              "        <style>\n",
              "            /* Turns off some styling */\n",
              "            progress {\n",
              "                /* gets rid of default border in Firefox and Opera. */\n",
              "                border: none;\n",
              "                /* Needs to be in here for Safari polyfill so background images work as expected. */\n",
              "                background-size: auto;\n",
              "            }\n",
              "            .progress-bar-interrupted, .progress-bar-interrupted::-webkit-progress-bar {\n",
              "                background: #F44336;\n",
              "            }\n",
              "        </style>\n",
              "      <progress value='391' class='' max='391' style='width:300px; height:20px; vertical-align: middle;'></progress>\n",
              "      100.00% [391/391 01:03<00:00]\n",
              "    </div>\n",
              "    "
            ],
            "text/plain": [
              "<IPython.core.display.HTML object>"
            ]
          },
          "metadata": {
            "tags": []
          }
        },
        {
          "output_type": "stream",
          "text": [
            "04/06/2021 10:03:38 - INFO - __main__ -   ***** Eval results on test dataset *****\n",
            "04/06/2021 10:03:38 - INFO - __main__ -     acc = 0.88698\n"
          ],
          "name": "stderr"
        }
      ]
    }
  ]
}