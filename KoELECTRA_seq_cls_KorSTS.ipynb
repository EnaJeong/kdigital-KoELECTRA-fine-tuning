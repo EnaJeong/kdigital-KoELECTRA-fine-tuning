{
  "nbformat": 4,
  "nbformat_minor": 0,
  "metadata": {
    "colab": {
      "name": "KoELECTRA_seq_cls_KorSTS.ipynb",
      "provenance": [],
      "collapsed_sections": [],
      "mount_file_id": "1thCcZEgvdNl8Zd6QsHxKaMu7hDo0assv",
      "authorship_tag": "ABX9TyOTlzlb7mC/1kXTqMRjv+8W",
      "include_colab_link": true
    },
    "kernelspec": {
      "name": "python3",
      "display_name": "Python 3"
    },
    "language_info": {
      "name": "python"
    },
    "accelerator": "GPU"
  },
  "cells": [
    {
      "cell_type": "markdown",
      "metadata": {
        "id": "view-in-github",
        "colab_type": "text"
      },
      "source": [
        "<a href=\"https://colab.research.google.com/github/EnaJeong/study-KoELECTRA_fine_tuning/blob/main/KoELECTRA_seq_cls_KorSTS.ipynb\" target=\"_parent\"><img src=\"https://colab.research.google.com/assets/colab-badge.svg\" alt=\"Open In Colab\"/></a>"
      ]
    },
    {
      "cell_type": "markdown",
      "metadata": {
        "id": "nUv7fz15CVJ1"
      },
      "source": [
        "# KorSTS\n",
        "\n",
        "주어진 두 문장의 유사도를 0부터 5사이의 값으로 측정\n",
        "\n",
        "데이터: [KorNLUDatasets](https://github.com/kakaobrain/KorNLUDatasets)\n",
        "\n"
      ]
    },
    {
      "cell_type": "code",
      "metadata": {
        "id": "UWLr1YE-ARrK",
        "colab": {
          "base_uri": "https://localhost:8080/"
        },
        "outputId": "54263d64-d1db-4532-8753-f5983f8c8453"
      },
      "source": [
        "!pip install attrdict\n",
        "!pip install transformers"
      ],
      "execution_count": 1,
      "outputs": [
        {
          "output_type": "stream",
          "text": [
            "Collecting attrdict\n",
            "  Downloading https://files.pythonhosted.org/packages/ef/97/28fe7e68bc7adfce67d4339756e85e9fcf3c6fd7f0c0781695352b70472c/attrdict-2.0.1-py2.py3-none-any.whl\n",
            "Requirement already satisfied: six in /usr/local/lib/python3.7/dist-packages (from attrdict) (1.15.0)\n",
            "Installing collected packages: attrdict\n",
            "Successfully installed attrdict-2.0.1\n",
            "Collecting transformers\n",
            "\u001b[?25l  Downloading https://files.pythonhosted.org/packages/81/91/61d69d58a1af1bd81d9ca9d62c90a6de3ab80d77f27c5df65d9a2c1f5626/transformers-4.5.0-py3-none-any.whl (2.1MB)\n",
            "\u001b[K     |████████████████████████████████| 2.2MB 16.7MB/s \n",
            "\u001b[?25hCollecting tokenizers<0.11,>=0.10.1\n",
            "\u001b[?25l  Downloading https://files.pythonhosted.org/packages/ae/04/5b870f26a858552025a62f1649c20d29d2672c02ff3c3fb4c688ca46467a/tokenizers-0.10.2-cp37-cp37m-manylinux2010_x86_64.whl (3.3MB)\n",
            "\u001b[K     |████████████████████████████████| 3.3MB 38.4MB/s \n",
            "\u001b[?25hRequirement already satisfied: importlib-metadata; python_version < \"3.8\" in /usr/local/lib/python3.7/dist-packages (from transformers) (3.8.1)\n",
            "Requirement already satisfied: requests in /usr/local/lib/python3.7/dist-packages (from transformers) (2.23.0)\n",
            "Requirement already satisfied: packaging in /usr/local/lib/python3.7/dist-packages (from transformers) (20.9)\n",
            "Collecting sacremoses\n",
            "\u001b[?25l  Downloading https://files.pythonhosted.org/packages/08/cd/342e584ee544d044fb573ae697404ce22ede086c9e87ce5960772084cad0/sacremoses-0.0.44.tar.gz (862kB)\n",
            "\u001b[K     |████████████████████████████████| 870kB 45.0MB/s \n",
            "\u001b[?25hRequirement already satisfied: regex!=2019.12.17 in /usr/local/lib/python3.7/dist-packages (from transformers) (2019.12.20)\n",
            "Requirement already satisfied: numpy>=1.17 in /usr/local/lib/python3.7/dist-packages (from transformers) (1.19.5)\n",
            "Requirement already satisfied: filelock in /usr/local/lib/python3.7/dist-packages (from transformers) (3.0.12)\n",
            "Requirement already satisfied: tqdm>=4.27 in /usr/local/lib/python3.7/dist-packages (from transformers) (4.41.1)\n",
            "Requirement already satisfied: typing-extensions>=3.6.4; python_version < \"3.8\" in /usr/local/lib/python3.7/dist-packages (from importlib-metadata; python_version < \"3.8\"->transformers) (3.7.4.3)\n",
            "Requirement already satisfied: zipp>=0.5 in /usr/local/lib/python3.7/dist-packages (from importlib-metadata; python_version < \"3.8\"->transformers) (3.4.1)\n",
            "Requirement already satisfied: chardet<4,>=3.0.2 in /usr/local/lib/python3.7/dist-packages (from requests->transformers) (3.0.4)\n",
            "Requirement already satisfied: certifi>=2017.4.17 in /usr/local/lib/python3.7/dist-packages (from requests->transformers) (2020.12.5)\n",
            "Requirement already satisfied: idna<3,>=2.5 in /usr/local/lib/python3.7/dist-packages (from requests->transformers) (2.10)\n",
            "Requirement already satisfied: urllib3!=1.25.0,!=1.25.1,<1.26,>=1.21.1 in /usr/local/lib/python3.7/dist-packages (from requests->transformers) (1.24.3)\n",
            "Requirement already satisfied: pyparsing>=2.0.2 in /usr/local/lib/python3.7/dist-packages (from packaging->transformers) (2.4.7)\n",
            "Requirement already satisfied: six in /usr/local/lib/python3.7/dist-packages (from sacremoses->transformers) (1.15.0)\n",
            "Requirement already satisfied: click in /usr/local/lib/python3.7/dist-packages (from sacremoses->transformers) (7.1.2)\n",
            "Requirement already satisfied: joblib in /usr/local/lib/python3.7/dist-packages (from sacremoses->transformers) (1.0.1)\n",
            "Building wheels for collected packages: sacremoses\n",
            "  Building wheel for sacremoses (setup.py) ... \u001b[?25l\u001b[?25hdone\n",
            "  Created wheel for sacremoses: filename=sacremoses-0.0.44-cp37-none-any.whl size=886084 sha256=85cf91ca26dceeffb44ee037937cab80277edc7b6a6edfafe61abe8ea723995f\n",
            "  Stored in directory: /root/.cache/pip/wheels/3e/fb/c0/13ab4d63d537658f448366744654323077c4d90069b6512f3c\n",
            "Successfully built sacremoses\n",
            "Installing collected packages: tokenizers, sacremoses, transformers\n",
            "Successfully installed sacremoses-0.0.44 tokenizers-0.10.2 transformers-4.5.0\n"
          ],
          "name": "stdout"
        }
      ]
    },
    {
      "cell_type": "code",
      "metadata": {
        "id": "QSbfgf2ugFut"
      },
      "source": [
        "import argparse\n",
        "import json\n",
        "import logging\n",
        "import os\n",
        "import glob\n",
        "\n",
        "import numpy as np\n",
        "import torch\n",
        "from torch.utils.data import DataLoader, RandomSampler, SequentialSampler\n",
        "from fastprogress.fastprogress import master_bar, progress_bar"
      ],
      "execution_count": 2,
      "outputs": []
    },
    {
      "cell_type": "code",
      "metadata": {
        "id": "RT2HIZbehTle"
      },
      "source": [
        "from attrdict import AttrDict"
      ],
      "execution_count": 3,
      "outputs": []
    },
    {
      "cell_type": "code",
      "metadata": {
        "id": "Ebiv2CjthLSl"
      },
      "source": [
        "from transformers import AdamW, get_linear_schedule_with_warmup\n",
        "from transformers import ElectraConfig, ElectraTokenizer, ElectraForSequenceClassification"
      ],
      "execution_count": 4,
      "outputs": []
    },
    {
      "cell_type": "markdown",
      "metadata": {
        "id": "LEEP6F2TA87V"
      },
      "source": [
        "## Utils"
      ]
    },
    {
      "cell_type": "code",
      "metadata": {
        "id": "Cr8Hhzs9AY2M"
      },
      "source": [
        "from scipy.stats import pearsonr, spearmanr"
      ],
      "execution_count": 5,
      "outputs": []
    },
    {
      "cell_type": "code",
      "metadata": {
        "id": "wlrwziZrhhoq"
      },
      "source": [
        "def init_logger():\n",
        "    logging.basicConfig(\n",
        "        format=\"%(asctime)s - %(levelname)s - %(name)s -   %(message)s\",\n",
        "        datefmt=\"%m/%d/%Y %H:%M:%S\",\n",
        "        level=logging.INFO,\n",
        "    )"
      ],
      "execution_count": 6,
      "outputs": []
    },
    {
      "cell_type": "markdown",
      "metadata": {
        "id": "TDaxuWV9DzCj"
      },
      "source": [
        "평가 지표 계산 : pearson, spearman 상관계수"
      ]
    },
    {
      "cell_type": "code",
      "metadata": {
        "id": "t_3nfi8SAeab"
      },
      "source": [
        "def compute_metrics(labels, preds):\n",
        "    assert len(preds) == len(labels)\n",
        "\n",
        "    pearson_corr = pearsonr(preds, labels)[0]\n",
        "    spearman_corr = spearmanr(preds, labels)[0]\n",
        "    \n",
        "    return {\n",
        "        \"pearson\": pearson_corr,\n",
        "        \"spearmanr\": spearman_corr,\n",
        "        \"corr\": (pearson_corr + spearman_corr) / 2,\n",
        "    }"
      ],
      "execution_count": 7,
      "outputs": []
    },
    {
      "cell_type": "markdown",
      "metadata": {
        "id": "H1l39kpQA2Yz"
      },
      "source": [
        "## 데이터 전처리"
      ]
    },
    {
      "cell_type": "code",
      "metadata": {
        "id": "_mqTgrmcyTvk"
      },
      "source": [
        "import copy\n",
        "from torch.utils.data import TensorDataset"
      ],
      "execution_count": 8,
      "outputs": []
    },
    {
      "cell_type": "markdown",
      "metadata": {
        "id": "afAK-zdJFWqL"
      },
      "source": [
        "### 데이터 구조\n",
        "\n",
        "```\n",
        "genre\tfilename\tyear\tid\tscore\tsentence1\tsentence2\n",
        "main-captions\tMSRvid\t2012test\t0001\t5.000\t비행기가 이륙하고 있다.\t비행기가 이륙하고 있다.\n",
        "```"
      ]
    },
    {
      "cell_type": "markdown",
      "metadata": {
        "id": "I46HACJlJPoJ"
      },
      "source": [
        "### 코드"
      ]
    },
    {
      "cell_type": "markdown",
      "metadata": {
        "id": "b5oTK8r2Iuip"
      },
      "source": [
        "데이터에서 score, sentence1, sentence2 추출"
      ]
    },
    {
      "cell_type": "code",
      "metadata": {
        "id": "FcrM5eGgl7Yx"
      },
      "source": [
        "class KorSTSProcessor(object):\n",
        "    \"\"\"Processor for the KorSTS data set \"\"\"\n",
        "\n",
        "    def __init__(self, args):\n",
        "        self.args = args\n",
        "\n",
        "    def get_labels(self):\n",
        "        return [None]\n",
        "\n",
        "    @classmethod\n",
        "    def _read_file(cls, input_file):\n",
        "        \"\"\"Reads a tab separated value file.\"\"\"\n",
        "        with open(input_file, \"r\", encoding=\"utf-8\") as f:\n",
        "            lines = []\n",
        "            for line in f:\n",
        "                lines.append(line.strip())\n",
        "            return lines\n",
        "\n",
        "    def _create_examples(self, lines, set_type):\n",
        "        \"\"\"Creates examples for the training and dev sets.\"\"\"\n",
        "        examples = []\n",
        "        for (i, line) in enumerate(lines[1:]):\n",
        "            line = line.split(\"\\t\")\n",
        "            guid = f\"{set_type}-{i}\"\n",
        "            text_a = line[5]\n",
        "            text_b = line[6]\n",
        "            label = line[4]   # score\n",
        "\n",
        "            examples.append(InputExample(guid=guid, text_a=text_a, text_b=text_b, label=label))\n",
        "            \n",
        "            if i % 1000 == 0:\n",
        "                logger.info(line)\n",
        "            \n",
        "        return examples\n",
        "\n",
        "    def get_examples(self, mode):\n",
        "        \"\"\"\n",
        "        Args:\n",
        "            mode: train, dev, test\n",
        "        \"\"\"\n",
        "        file_to_read = None\n",
        "        if mode == \"train\":\n",
        "            file_to_read = self.args.train_file  # Only mnli for training\n",
        "        elif mode == \"dev\":\n",
        "            file_to_read = self.args.dev_file\n",
        "        elif mode == \"test\":\n",
        "            file_to_read = self.args.test_file\n",
        "\n",
        "        logger.info(\"LOOKING AT {}\".format(os.path.join(self.args.data_dir, self.args.task, file_to_read)))\n",
        "        \n",
        "        return self._create_examples(\n",
        "            self._read_file(os.path.join(self.args.data_dir, self.args.task, file_to_read)), mode\n",
        "        )\n",
        "\n",
        "class InputExample(object):\n",
        "    \"\"\"\n",
        "    A single training/test example for simple sequence classification.\n",
        "    \"\"\"\n",
        "\n",
        "    def __init__(self, guid, text_a, text_b, label):\n",
        "        self.guid = guid\n",
        "        self.text_a = text_a\n",
        "        self.text_b = text_b\n",
        "        self.label = label\n",
        "\n",
        "    def __repr__(self):\n",
        "        return str(self.to_json_string())\n",
        "\n",
        "    def to_dict(self):\n",
        "        \"\"\"Serializes this instance to a Python dictionary.\"\"\"\n",
        "        output = copy.deepcopy(self.__dict__)\n",
        "        return output\n",
        "\n",
        "    def to_json_string(self):\n",
        "        \"\"\"Serializes this instance to a JSON string.\"\"\"\n",
        "        return json.dumps(self.to_dict(), indent=2, sort_keys=True) + \"\\n\""
      ],
      "execution_count": 9,
      "outputs": []
    },
    {
      "cell_type": "markdown",
      "metadata": {
        "id": "m5oaWVwtJTkD"
      },
      "source": [
        "정답 label 생성 & 입력값 embedding"
      ]
    },
    {
      "cell_type": "code",
      "metadata": {
        "id": "iMo5vr5urwQo"
      },
      "source": [
        "class InputFeatures(object):\n",
        "    \"\"\"A single set of features of data.\"\"\"\n",
        "\n",
        "    def __init__(self, input_ids, attention_mask, token_type_ids, label):\n",
        "        self.input_ids = input_ids\n",
        "        self.attention_mask = attention_mask\n",
        "        self.token_type_ids = token_type_ids\n",
        "        self.label = label\n",
        "\n",
        "    def __repr__(self):\n",
        "        return str(self.to_json_string())\n",
        "\n",
        "    def to_dict(self):\n",
        "        \"\"\"Serializes this instance to a Python dictionary.\"\"\"\n",
        "        output = copy.deepcopy(self.__dict__)\n",
        "        return output\n",
        "\n",
        "    def to_json_string(self):\n",
        "        \"\"\"Serializes this instance to a JSON string.\"\"\"\n",
        "        return json.dumps(self.to_dict(), indent=2, sort_keys=True) + \"\\n\"\n",
        "\n",
        "# `task`와 `processor`는 classification에서 label list 생성 및 로그 출력에 사용\n",
        "def seq_cls_convert_examples_to_features(args, examples, tokenizer, max_length, task=None, processor=None):\n",
        "    \n",
        "    # 정답 label 생성\n",
        "    labels = None\n",
        "\n",
        "    if OUTPUT_MODE == \"classification\":\n",
        "        label_list = processor.get_labels()\n",
        "        logger.info(\"Using label list {} for task {}\".format(label_list, task))\n",
        "\n",
        "        label_map = {label: i for i, label in enumerate(label_list)}\n",
        "        labels = [label_map[example.label] for example in examples]\n",
        "\n",
        "    elif OUTPUT_MODE == \"regression\":\n",
        "        labels = [float(example.label) for example in examples]\n",
        "\n",
        "    raise KeyError(OUTPUT_MODE)\n",
        "\n",
        "    # feature encoding\n",
        "    batch_encoding = tokenizer.batch_encode_plus(\n",
        "        [(example.text_a, example.text_b) for example in examples],\n",
        "        max_length=max_length,\n",
        "        padding=\"max_length\",\n",
        "        add_special_tokens=True,\n",
        "        truncation=True,\n",
        "    )\n",
        "\n",
        "    features = []\n",
        "    for i in range(len(examples)):\n",
        "        inputs = {k: batch_encoding[k][i] for k in batch_encoding}\n",
        "        feature = InputFeatures(**inputs, label=labels[i])\n",
        "        features.append(feature)\n",
        "\n",
        "    # log\n",
        "    for i, example in enumerate(examples[:5]):\n",
        "        logger.info(\"*** Example ***\")\n",
        "        logger.info(\"guid: {}\".format(example.guid))\n",
        "        logger.info(\"input_ids: {}\".format(\" \".join([str(x) for x in features[i].input_ids])))\n",
        "        logger.info(\"attention_mask: {}\".format(\" \".join([str(x) for x in features[i].attention_mask])))\n",
        "        logger.info(\"token_type_ids: {}\".format(\" \".join([str(x) for x in features[i].token_type_ids])))\n",
        "        logger.info(\"label: {}\".format(features[i].label))\n",
        "\n",
        "    return features"
      ],
      "execution_count": 10,
      "outputs": []
    },
    {
      "cell_type": "markdown",
      "metadata": {
        "id": "ySYsar7lIoM7"
      },
      "source": [
        "## 훈련"
      ]
    },
    {
      "cell_type": "markdown",
      "metadata": {
        "id": "ZgublHWBNADX"
      },
      "source": [
        "데이터 파일 로드\n",
        "1. 최초 호출 시 전처리 후 cach 파일로 저장\n",
        "2. cash 파일이 있는 경우 저장된 파일 로드\n",
        "\n",
        "Tensor로 변경한 후 dataset 생성"
      ]
    },
    {
      "cell_type": "code",
      "metadata": {
        "id": "PWb3JMFYImbx"
      },
      "source": [
        "def load_and_cache_examples(args, tokenizer, mode):\n",
        "    processor = PROCESSOR(args)\n",
        "\n",
        "    # Load data features from cache or dataset file\n",
        "    cached_features_file = os.path.join(\n",
        "        args.data_dir,\n",
        "        \"cached_{}_{}_{}_{}\".format(\n",
        "            str(args.task), list(filter(None, args.model_name_or_path.split(\"/\"))).pop(), str(args.max_seq_len), mode\n",
        "        ),\n",
        "    )\n",
        "    \n",
        "    if os.path.exists(cached_features_file):\n",
        "        logger.info(\"Loading features from cached file %s\", cached_features_file)\n",
        "        features = torch.load(cached_features_file)\n",
        "    else:\n",
        "        logger.info(\"Creating features from dataset file at %s\", args.data_dir)\n",
        "        if mode in (\"train\", \"dev\", \"test\"):\n",
        "            examples = processor.get_examples(mode)\n",
        "        else:\n",
        "            raise ValueError(\"For mode, only train, dev, test is avaiable\")\n",
        "\n",
        "        features = seq_cls_convert_examples_to_features(\n",
        "            args, examples, tokenizer, max_length=args.max_seq_len, task=args.task, processor=processor\n",
        "        )\n",
        "        logger.info(\"Saving features into cached file %s\", cached_features_file)\n",
        "        torch.save(features, cached_features_file)\n",
        "\n",
        "    # Convert to Tensors and build dataset\n",
        "    all_input_ids = torch.tensor([f.input_ids for f in features], dtype=torch.long)\n",
        "    all_attention_mask = torch.tensor([f.attention_mask for f in features], dtype=torch.long)\n",
        "    all_token_type_ids = torch.tensor([f.token_type_ids for f in features], dtype=torch.long)\n",
        "\n",
        "    if OUTPUT_MODE == \"classification\":\n",
        "        all_labels = torch.tensor([f.label for f in features], dtype=torch.long)\n",
        "    elif OUTPUT_MODE == \"regression\":\n",
        "        all_labels = torch.tensor([f.label for f in features], dtype=torch.float)\n",
        "\n",
        "    dataset = TensorDataset(all_input_ids, all_attention_mask, all_token_type_ids, all_labels)\n",
        "    return dataset"
      ],
      "execution_count": 11,
      "outputs": []
    },
    {
      "cell_type": "markdown",
      "metadata": {
        "id": "sVCW05DJPX4q"
      },
      "source": [
        "학습"
      ]
    },
    {
      "cell_type": "code",
      "metadata": {
        "id": "PPIHtRf9uzEC"
      },
      "source": [
        "def train(args, model, train_dataset, dev_dataset=None, test_dataset=None):\n",
        "    train_sampler = RandomSampler(train_dataset)\n",
        "    train_dataloader = DataLoader(train_dataset, sampler=train_sampler, batch_size=args.train_batch_size)\n",
        "\n",
        "    if args.max_steps > 0:\n",
        "        t_total = args.max_steps\n",
        "        args.num_train_epochs = args.max_steps // (len(train_dataloader) // args.gradient_accumulation_steps) + 1\n",
        "    else: \n",
        "        t_total = len(train_dataloader) // args.gradient_accumulation_steps * args.num_train_epochs\n",
        "    \n",
        "    # optimizer, schedule 준비\n",
        "    no_decay = ['bias', 'LayerNorm.weight']\n",
        "    optimizer_grouped_parameters = [\n",
        "        {'params': [p for n, p in model.named_parameters() if not any(nd in n for nd in no_decay)],\n",
        "         'weight_decay': args.weight_decay},\n",
        "        {'params': [p for n, p in model.named_parameters() if any(nd in n for nd in no_decay)], \n",
        "         'weight_decay': 0.0}\n",
        "    ]\n",
        "    optimizer = AdamW(optimizer_grouped_parameters, lr=args.learning_rate, eps=args.adam_epsilon)\n",
        "    scheduler = get_linear_schedule_with_warmup(optimizer, num_warmup_steps=int(t_total * args.warmup_proportion), num_training_steps=t_total)\n",
        "\n",
        "    if os.path.isfile(os.path.join(args.model_name_or_path, \"optimizer.pt\")) \\\n",
        "        and os.path.isfile(os.path.join(args.model_name_or_path, \"scheduler.pt\")):\n",
        "        # optimizer, scheduler states 로드\n",
        "        optimizer.load_state_dict(torch.load(os.path.join(args.model_name_or_path, \"optimizer.pt\")))\n",
        "        scheduler.load_state_dict(torch.load(os.path.join(args.model_name_or_path, \"scheduler.pt\")))\n",
        "    \n",
        "    # log\n",
        "    logger.info(\"***** Running training *****\")\n",
        "    logger.info(\"  Num examples = %d\", len(train_dataset))\n",
        "    logger.info(\"  Num Epochs = %d\", args.num_train_epochs)\n",
        "    logger.info(\"  Total train batch size = %d\", args.train_batch_size)\n",
        "    logger.info(\"  Gradient Accumulation steps = %d\", args.gradient_accumulation_steps)\n",
        "    logger.info(\"  Total optimization steps = %d\", t_total)\n",
        "    logger.info(\"  Logging steps = %d\", args.logging_steps)\n",
        "    logger.info(\"  Save steps = %d\", args.save_steps)\n",
        "\n",
        "    # 변수 초기화\n",
        "    global_step = 0\n",
        "    tr_loss = 0.0\n",
        "\n",
        "    model.zero_grad()\n",
        "    mb = master_bar(range(int(args.num_train_epochs)))\n",
        "\n",
        "    # epoch 수행\n",
        "    for epoch in mb:\n",
        "        epoch_iterator = progress_bar(train_dataloader, parent=mb)\n",
        "\n",
        "        for step, batch in enumerate(epoch_iterator):\n",
        "            model.train()   # Sets the module in training mode.\n",
        "            batch = tuple(t.to(args.device) for t in batch)\n",
        "\n",
        "            # transformer 4. 버전에서는 ouput의 기본 형태가 dict이다.\n",
        "            inputs = {\n",
        "                \"input_ids\" : batch[0],\n",
        "                \"attention_mask\" : batch[1],\n",
        "                \"token_type_ids\" : batch[2],\n",
        "                \"labels\" : batch[3]\n",
        "            }\n",
        "            outputs = model(**inputs)\n",
        "            loss = outputs['loss']\n",
        "\n",
        "            if args.gradient_accumulation_steps > 1:\n",
        "                loss = loss / args.gradient_accumulation_steps\n",
        "            \n",
        "            # loss 역전파\n",
        "            loss.backward()\n",
        "            tr_loss += loss.item()\n",
        "\n",
        "            # 파라미터 업데이트\n",
        "            if (step + 1) % args.gradient_accumulation_steps == 0 or (\n",
        "                len(train_dataloader) <= args.gradient_accumulation_steps\n",
        "                and (step + 1) == len(train_dataloader)\n",
        "            ):\n",
        "                torch.nn.utils.clip_grad_norm_(model.parameters(), args.max_grad_norm)\n",
        "\n",
        "                optimizer.step()\n",
        "                scheduler.step()\n",
        "                model.zero_grad()\n",
        "                global_step +=1\n",
        "\n",
        "                # 평가\n",
        "                if args.logging_steps > 0 and global_step % args.logging_steps == 0:\n",
        "                    if args.evaluate_test_during_training:\n",
        "                        evaluate(args, model, test_dataset, \"test\", global_step)\n",
        "                    else:\n",
        "                        evaluate(args, model, test_dataset, \"dev\", global_step)\n",
        "                \n",
        "                # 모델 및 optimizer의 현재 상태 저장\n",
        "                if args.save_steps > 0 and global_step % args.save_steps == 0:\n",
        "                    \n",
        "                    output_dir = os.path.join(args.output_dir, \"checkpoint-{}\".format(global_step))\n",
        "                    if not os.path.exists(output_dir):\n",
        "                        os.makedirs(output_dir)\n",
        "\n",
        "                    model_to_save = (model.module if hasattr(model, \"module\") else model)\n",
        "                    model_to_save.save_pretrained(output_dir)\n",
        "\n",
        "                    torch.save(args, os.path.join(output_dir, \"training_args.bin\"))\n",
        "                    logger.info(\"Saving model checkpoint to {}\".format(output_dir))\n",
        "\n",
        "                    if args.save_optimizer:\n",
        "                        torch.save(optimizer.state_dict(), os.path.join(output_dir, \"optimizer.pt\"))\n",
        "                        torch.save(scheduler.state_dict(), os.path.join(output_dir, \"scheduler.pt\"))\n",
        "                        logger.info(\"Saving optimizer and scheduler states to {}\".format(output_dir))\n",
        "\n",
        "            if args.max_steps > 0 and global_step > args.max_steps:\n",
        "                break\n",
        "\n",
        "        mb.write(\"Epoch {} done\".format(epoch + 1))\n",
        "\n",
        "        if args.max_steps > 0 and global_step > args.max_steps:\n",
        "            break\n",
        "\n",
        "    return global_step, tr_loss / global_step"
      ],
      "execution_count": 12,
      "outputs": []
    },
    {
      "cell_type": "markdown",
      "metadata": {
        "id": "k8MSoNsOPZ8o"
      },
      "source": [
        "평가"
      ]
    },
    {
      "cell_type": "code",
      "metadata": {
        "id": "hkTOii6wuy8b"
      },
      "source": [
        "def evaluate(args, model, eval_dataset, mode, global_step=None):\n",
        "    results = {}\n",
        "    eval_sampler = SequentialSampler(eval_dataset)\n",
        "    eval_dataloader = DataLoader(eval_dataset, sampler=eval_sampler, batch_size=args.eval_batch_size)\n",
        "\n",
        "    # 로그\n",
        "    if global_step != None:\n",
        "        logger.info(f\"***** Running evaluation on {mode} dataset ({global_step} step) *****\")\n",
        "    else:\n",
        "        logger.info(f\"***** Running evaluation on {mode} dataset *****\")\n",
        "    logger.info(f\"  Num examples = {len(eval_dataset)}\")\n",
        "    logger.info(f\"  Eval Batch size = {args.eval_batch_size}\")\n",
        "\n",
        "    # 변수 초기화\n",
        "    eval_loss = 0.0\n",
        "    nb_eval_steps = 0\n",
        "    preds = None\n",
        "    out_label_ids = None\n",
        "\n",
        "    # 예측값 생성\n",
        "    for batch in progress_bar(eval_dataloader):\n",
        "        model.eval()    # Sets the module in evaluation mode.\n",
        "        batch = tuple(t.to(args.device) for t in batch)\n",
        "\n",
        "        with torch.no_grad():\n",
        "            # transformer 4. 버전에서는 ouput의 기본 형태가 dict이다.\n",
        "            inputs = {\n",
        "                \"input_ids\": batch[0],\n",
        "                \"attention_mask\": batch[1],\n",
        "                \"token_type_ids\": batch[2],\n",
        "                \"labels\": batch[3]\n",
        "            }\n",
        "            outputs = model(**inputs)\n",
        "            tmp_eval_loss, logits = outputs['loss'], outputs['logits']\n",
        "\n",
        "            eval_loss += tmp_eval_loss.mean().item()\n",
        "\n",
        "        nb_eval_steps += 1\n",
        "        if preds is None:\n",
        "            preds = logits.detach().cpu().numpy()\n",
        "            out_label_ids = inputs[\"labels\"].detach().cpu().numpy()\n",
        "        else:\n",
        "            preds = np.append(preds, logits.detach().cpu().numpy(), axis=0)\n",
        "            out_label_ids = np.append(out_label_ids, inputs[\"labels\"].detach().cpu().numpy(), axis=0)\n",
        "\n",
        "    eval_loss = eval_loss / nb_eval_steps\n",
        "\n",
        "    if OUTPUT_MODE == \"classification\":\n",
        "        preds = np.argmax(preds, axis=1)\n",
        "    elif OUTPUT_MODE == \"regression\":\n",
        "        preds = np.squeeze(preds)\n",
        "\n",
        "    # 평가 지표 계산\n",
        "    result = compute_metrics(out_label_ids, preds)\n",
        "    results.update(result)\n",
        "\n",
        "    # 평가 결과 저장\n",
        "    output_dir = os.path.join(args.output_dir, mode)\n",
        "    if not os.path.exists(output_dir):\n",
        "        os.makedirs(output_dir)\n",
        "\n",
        "    output_eval_file = os.path.join(output_dir, f\"{mode}-{global_step}.txt\" if global_step else f\"{model}.txt\")\n",
        "    with open(output_eval_file, \"w\") as f_w:\n",
        "        logger.info(f\"***** Eval results on {mode} dataset *****\")\n",
        "        for key in sorted(results.keys()):\n",
        "            logger.info(f\"  {key} = {str(results[key])}\")\n",
        "            f_w.write(\"  {} = {}\\n\".format(key, str(results[key])))\n",
        "\n",
        "    return results"
      ],
      "execution_count": 14,
      "outputs": []
    },
    {
      "cell_type": "code",
      "metadata": {
        "id": "aBQZUyFouyx0"
      },
      "source": [
        "def main(config_file):\n",
        "    # Read from config file and make args\n",
        "    with open(config_file) as f:\n",
        "        args = AttrDict(json.load(f))\n",
        "    logger.info(f\"Training/evaluation parameters {args}\")\n",
        "\n",
        "    args.output_dir = os.path.join(args.ckpt_dir, args.output_dir)\n",
        "\n",
        "    init_logger()\n",
        "\n",
        "    # Config, Tokenizer, model (ElectraForSequenceClassification) 사전 훈련 모델 읽어오기\n",
        "    if OUTPUT_MODE == \"regression\":\n",
        "        config = CONFIG_CLASS.from_pretrained(\n",
        "            args.model_name_or_path,\n",
        "            num_labels=1    # regression은 label 하나\n",
        "        )\n",
        "    else:\n",
        "        processor = PROCESSOR(args)\n",
        "        labels = processor.get_labels()\n",
        "\n",
        "        config = CONFIG_CLASS.from_pretrained(\n",
        "            args.model_name_or_path,\n",
        "            num_labels=TASK_NUM_LABELS,\n",
        "            id2label={str(i): label for i, label in enumerate(labels)},\n",
        "            label2id={label: i for i, label in enumerate(labels)},\n",
        "        )\n",
        "\n",
        "    tokenizer = TOKENIZER_CLASS.from_pretrained(\n",
        "        args.model_name_or_path,\n",
        "        do_lower_case=args.do_lower_case\n",
        "    )\n",
        "\n",
        "    model = MODEL_FOR_SEQUENCE_CLASSIFICATION.from_pretrained(\n",
        "        args.model_name_or_path,\n",
        "        config=config\n",
        "    )\n",
        "\n",
        "    # GPU or CPU\n",
        "    args.device = \"cuda\" if torch.cuda.is_available() and not args.no_cuda else \"cpu\"\n",
        "    model.to(args.device)\n",
        "\n",
        "    # Load dataset\n",
        "    train_dataset = load_and_cache_examples(args, tokenizer, mode=\"train\") if args.train_file else None\n",
        "    dev_dataset = load_and_cache_examples(args, tokenizer, mode=\"dev\") if args.dev_file else None\n",
        "    test_dataset = load_and_cache_examples(args, tokenizer, mode=\"test\") if args.test_file else None\n",
        "\n",
        "    if dev_dataset == None:\n",
        "        args.evaluate_test_during_training = True  # If there is no dev dataset, only use testset\n",
        "\n",
        "    if args.do_train:\n",
        "        global_step, tr_loss = train(args, model, train_dataset, dev_dataset, test_dataset)\n",
        "        logger.info(\" global_step = {}, average loss = {}\".format(global_step, tr_loss))\n",
        "\n",
        "    # 최종 평가 결과 생성\n",
        "    results = {}\n",
        "    if args.do_eval:\n",
        "        checkpoints = list(\n",
        "            os.path.dirname(c) for c in sorted(glob.glob(args.output_dir + \"/**/\" + \"pytorch_model.bin\", recursive=True))\n",
        "        )\n",
        "        if not args.eval_all_checkpoints:\n",
        "            checkpoints = checkpoints[-1:]\n",
        "        else:\n",
        "            logging.getLogger(\"transformers.configuration_utils\").setLevel(logging.WARN)  # Reduce logging\n",
        "            logging.getLogger(\"transformers.modeling_utils\").setLevel(logging.WARN)  # Reduce logging\n",
        "\n",
        "        logger.info(\"Evaluate the following checkpoints: %s\", checkpoints)\n",
        "        for checkpoint in checkpoints:\n",
        "            global_step = checkpoint.split(\"-\")[-1]\n",
        "            model = MODEL_FOR_SEQUENCE_CLASSIFICATION.from_pretrained(checkpoint)\n",
        "            model.to(args.device)\n",
        "            result = evaluate(args, model, test_dataset, mode=\"test\", global_step=global_step)\n",
        "            result = dict((k + \"_{}\".format(global_step), v) for k, v in result.items())\n",
        "            results.update(result)\n",
        "\n",
        "        output_eval_file = os.path.join(args.output_dir, \"eval_results.txt\")\n",
        "        with open(output_eval_file, \"w\") as f_w:\n",
        "            for key in sorted(results.keys()):\n",
        "                f_w.write(\"{} = {}\\n\".format(key, str(results[key])))"
      ],
      "execution_count": 15,
      "outputs": []
    },
    {
      "cell_type": "markdown",
      "metadata": {
        "id": "LN3fHsB-MdT5"
      },
      "source": [
        "## 실행"
      ]
    },
    {
      "cell_type": "code",
      "metadata": {
        "id": "RBHEG_ohySM8",
        "colab": {
          "base_uri": "https://localhost:8080/",
          "height": 1000
        },
        "outputId": "b3c1556f-3e8c-49d2-85ea-a825331cffc5"
      },
      "source": [
        "CONFIG_FILE = './KorSTS_koelectra-base-v3.json'\n",
        "\n",
        "PROCESSOR = KorSTSProcessor\n",
        "OUTPUT_MODE = \"regression\"\n",
        "# TASK_NUM_LABELS = 1\n",
        "CONFIG_CLASS = ElectraConfig\n",
        "TOKENIZER_CLASS = ElectraTokenizer\n",
        "MODEL_FOR_SEQUENCE_CLASSIFICATION = ElectraForSequenceClassification\n",
        "\n",
        "logger = logging.getLogger()\n",
        "\n",
        "main(CONFIG_FILE)"
      ],
      "execution_count": 17,
      "outputs": [
        {
          "output_type": "stream",
          "text": [
            "04/07/2021 03:56:03 - INFO - __main__ -   Training/evaluation parameters AttrDict({'task': 'korsts', 'data_dir': '/content/drive/MyDrive/datasets', 'ckpt_dir': '/content/drive/MyDrive/KoElectra/ckpt', 'train_file': 'sts-train.tsv', 'dev_file': 'sts-dev.tsv', 'test_file': 'sts-test.tsv', 'evaluate_test_during_training': False, 'eval_all_checkpoints': True, 'save_optimizer': False, 'do_lower_case': False, 'do_train': True, 'do_eval': True, 'max_seq_len': 128, 'num_train_epochs': 10, 'weight_decay': 0.0, 'gradient_accumulation_steps': 1, 'adam_epsilon': 1e-08, 'warmup_proportion': 0, 'max_steps': -1, 'max_grad_norm': 1.0, 'no_cuda': False, 'model_type': 'koelectra-base-v3', 'model_name_or_path': 'monologg/koelectra-base-v3-discriminator', 'output_dir': '/content/drive/MyDrive/KoElectra/koelectra-base-v3-korsts-ckpt', 'seed': 42, 'train_batch_size': 32, 'eval_batch_size': 64, 'logging_steps': 100, 'save_steps': 100, 'learning_rate': 5e-05})\n",
            "Some weights of the model checkpoint at monologg/koelectra-base-v3-discriminator were not used when initializing ElectraForSequenceClassification: ['discriminator_predictions.dense.weight', 'discriminator_predictions.dense.bias', 'discriminator_predictions.dense_prediction.weight', 'discriminator_predictions.dense_prediction.bias']\n",
            "- This IS expected if you are initializing ElectraForSequenceClassification from the checkpoint of a model trained on another task or with another architecture (e.g. initializing a BertForSequenceClassification model from a BertForPreTraining model).\n",
            "- This IS NOT expected if you are initializing ElectraForSequenceClassification from the checkpoint of a model that you expect to be exactly identical (initializing a BertForSequenceClassification model from a BertForSequenceClassification model).\n",
            "Some weights of ElectraForSequenceClassification were not initialized from the model checkpoint at monologg/koelectra-base-v3-discriminator and are newly initialized: ['classifier.dense.weight', 'classifier.dense.bias', 'classifier.out_proj.weight', 'classifier.out_proj.bias']\n",
            "You should probably TRAIN this model on a down-stream task to be able to use it for predictions and inference.\n",
            "04/07/2021 03:56:19 - INFO - __main__ -   Loading features from cached file /content/drive/MyDrive/datasets/cached_korsts_koelectra-base-v3-discriminator_128_train\n",
            "04/07/2021 03:56:20 - INFO - __main__ -   Loading features from cached file /content/drive/MyDrive/datasets/cached_korsts_koelectra-base-v3-discriminator_128_dev\n",
            "04/07/2021 03:56:20 - INFO - __main__ -   Loading features from cached file /content/drive/MyDrive/datasets/cached_korsts_koelectra-base-v3-discriminator_128_test\n",
            "04/07/2021 03:56:20 - INFO - __main__ -   ***** Running training *****\n",
            "04/07/2021 03:56:20 - INFO - __main__ -     Num examples = 5749\n",
            "04/07/2021 03:56:20 - INFO - __main__ -     Num Epochs = 10\n",
            "04/07/2021 03:56:21 - INFO - __main__ -     Total train batch size = 32\n",
            "04/07/2021 03:56:21 - INFO - __main__ -     Gradient Accumulation steps = 1\n",
            "04/07/2021 03:56:21 - INFO - __main__ -     Total optimization steps = 1800\n",
            "04/07/2021 03:56:21 - INFO - __main__ -     Logging steps = 100\n",
            "04/07/2021 03:56:21 - INFO - __main__ -     Save steps = 100\n"
          ],
          "name": "stderr"
        },
        {
          "output_type": "display_data",
          "data": {
            "text/html": [
              "Epoch 1 done<p>Epoch 2 done<p>Epoch 3 done<p>Epoch 4 done<p>Epoch 5 done<p>Epoch 6 done<p>Epoch 7 done<p>Epoch 8 done<p>Epoch 9 done<p>Epoch 10 done"
            ],
            "text/plain": [
              "<IPython.core.display.HTML object>"
            ]
          },
          "metadata": {
            "tags": []
          }
        },
        {
          "output_type": "stream",
          "text": [
            "04/07/2021 03:57:33 - INFO - __main__ -   ***** Running evaluation on dev dataset (100 step) *****\n",
            "04/07/2021 03:57:33 - INFO - __main__ -     Num examples = 1379\n",
            "04/07/2021 03:57:33 - INFO - __main__ -     Eval Batch size = 64\n"
          ],
          "name": "stderr"
        },
        {
          "output_type": "display_data",
          "data": {
            "text/html": [
              "\n",
              "    <div>\n",
              "        <style>\n",
              "            /* Turns off some styling */\n",
              "            progress {\n",
              "                /* gets rid of default border in Firefox and Opera. */\n",
              "                border: none;\n",
              "                /* Needs to be in here for Safari polyfill so background images work as expected. */\n",
              "                background-size: auto;\n",
              "            }\n",
              "            .progress-bar-interrupted, .progress-bar-interrupted::-webkit-progress-bar {\n",
              "                background: #F44336;\n",
              "            }\n",
              "        </style>\n",
              "      <progress value='22' class='' max='22' style='width:300px; height:20px; vertical-align: middle;'></progress>\n",
              "      100.00% [22/22 00:10<00:00]\n",
              "    </div>\n",
              "    "
            ],
            "text/plain": [
              "<IPython.core.display.HTML object>"
            ]
          },
          "metadata": {
            "tags": []
          }
        },
        {
          "output_type": "stream",
          "text": [
            "04/07/2021 03:57:44 - INFO - __main__ -   ***** Eval results on dev dataset *****\n",
            "04/07/2021 03:57:44 - INFO - __main__ -     corr = 0.8333034058187612\n",
            "04/07/2021 03:57:44 - INFO - __main__ -     pearson = 0.8334452679903397\n",
            "04/07/2021 03:57:44 - INFO - __main__ -     spearmanr = 0.8331615436471826\n",
            "04/07/2021 03:57:46 - INFO - __main__ -   Saving model checkpoint to /content/drive/MyDrive/KoElectra/koelectra-base-v3-korsts-ckpt/checkpoint-100\n",
            "04/07/2021 03:58:57 - INFO - __main__ -   ***** Running evaluation on dev dataset (200 step) *****\n",
            "04/07/2021 03:58:57 - INFO - __main__ -     Num examples = 1379\n",
            "04/07/2021 03:58:57 - INFO - __main__ -     Eval Batch size = 64\n"
          ],
          "name": "stderr"
        },
        {
          "output_type": "display_data",
          "data": {
            "text/html": [
              "\n",
              "    <div>\n",
              "        <style>\n",
              "            /* Turns off some styling */\n",
              "            progress {\n",
              "                /* gets rid of default border in Firefox and Opera. */\n",
              "                border: none;\n",
              "                /* Needs to be in here for Safari polyfill so background images work as expected. */\n",
              "                background-size: auto;\n",
              "            }\n",
              "            .progress-bar-interrupted, .progress-bar-interrupted::-webkit-progress-bar {\n",
              "                background: #F44336;\n",
              "            }\n",
              "        </style>\n",
              "      <progress value='22' class='' max='22' style='width:300px; height:20px; vertical-align: middle;'></progress>\n",
              "      100.00% [22/22 00:10<00:00]\n",
              "    </div>\n",
              "    "
            ],
            "text/plain": [
              "<IPython.core.display.HTML object>"
            ]
          },
          "metadata": {
            "tags": []
          }
        },
        {
          "output_type": "stream",
          "text": [
            "04/07/2021 03:59:08 - INFO - __main__ -   ***** Eval results on dev dataset *****\n",
            "04/07/2021 03:59:08 - INFO - __main__ -     corr = 0.8427940793836847\n",
            "04/07/2021 03:59:08 - INFO - __main__ -     pearson = 0.8444352480585545\n",
            "04/07/2021 03:59:08 - INFO - __main__ -     spearmanr = 0.8411529107088148\n",
            "04/07/2021 03:59:10 - INFO - __main__ -   Saving model checkpoint to /content/drive/MyDrive/KoElectra/koelectra-base-v3-korsts-ckpt/checkpoint-200\n",
            "04/07/2021 04:00:22 - INFO - __main__ -   ***** Running evaluation on dev dataset (300 step) *****\n",
            "04/07/2021 04:00:22 - INFO - __main__ -     Num examples = 1379\n",
            "04/07/2021 04:00:22 - INFO - __main__ -     Eval Batch size = 64\n"
          ],
          "name": "stderr"
        },
        {
          "output_type": "display_data",
          "data": {
            "text/html": [
              "\n",
              "    <div>\n",
              "        <style>\n",
              "            /* Turns off some styling */\n",
              "            progress {\n",
              "                /* gets rid of default border in Firefox and Opera. */\n",
              "                border: none;\n",
              "                /* Needs to be in here for Safari polyfill so background images work as expected. */\n",
              "                background-size: auto;\n",
              "            }\n",
              "            .progress-bar-interrupted, .progress-bar-interrupted::-webkit-progress-bar {\n",
              "                background: #F44336;\n",
              "            }\n",
              "        </style>\n",
              "      <progress value='22' class='' max='22' style='width:300px; height:20px; vertical-align: middle;'></progress>\n",
              "      100.00% [22/22 00:11<00:00]\n",
              "    </div>\n",
              "    "
            ],
            "text/plain": [
              "<IPython.core.display.HTML object>"
            ]
          },
          "metadata": {
            "tags": []
          }
        },
        {
          "output_type": "stream",
          "text": [
            "04/07/2021 04:00:33 - INFO - __main__ -   ***** Eval results on dev dataset *****\n",
            "04/07/2021 04:00:33 - INFO - __main__ -     corr = 0.8396509455031782\n",
            "04/07/2021 04:00:33 - INFO - __main__ -     pearson = 0.8391420650099211\n",
            "04/07/2021 04:00:33 - INFO - __main__ -     spearmanr = 0.8401598259964352\n",
            "04/07/2021 04:00:35 - INFO - __main__ -   Saving model checkpoint to /content/drive/MyDrive/KoElectra/koelectra-base-v3-korsts-ckpt/checkpoint-300\n",
            "04/07/2021 04:01:46 - INFO - __main__ -   ***** Running evaluation on dev dataset (400 step) *****\n",
            "04/07/2021 04:01:46 - INFO - __main__ -     Num examples = 1379\n",
            "04/07/2021 04:01:46 - INFO - __main__ -     Eval Batch size = 64\n"
          ],
          "name": "stderr"
        },
        {
          "output_type": "display_data",
          "data": {
            "text/html": [
              "\n",
              "    <div>\n",
              "        <style>\n",
              "            /* Turns off some styling */\n",
              "            progress {\n",
              "                /* gets rid of default border in Firefox and Opera. */\n",
              "                border: none;\n",
              "                /* Needs to be in here for Safari polyfill so background images work as expected. */\n",
              "                background-size: auto;\n",
              "            }\n",
              "            .progress-bar-interrupted, .progress-bar-interrupted::-webkit-progress-bar {\n",
              "                background: #F44336;\n",
              "            }\n",
              "        </style>\n",
              "      <progress value='22' class='' max='22' style='width:300px; height:20px; vertical-align: middle;'></progress>\n",
              "      100.00% [22/22 00:10<00:00]\n",
              "    </div>\n",
              "    "
            ],
            "text/plain": [
              "<IPython.core.display.HTML object>"
            ]
          },
          "metadata": {
            "tags": []
          }
        },
        {
          "output_type": "stream",
          "text": [
            "04/07/2021 04:01:57 - INFO - __main__ -   ***** Eval results on dev dataset *****\n",
            "04/07/2021 04:01:57 - INFO - __main__ -     corr = 0.8601597231957789\n",
            "04/07/2021 04:01:57 - INFO - __main__ -     pearson = 0.8618601207912893\n",
            "04/07/2021 04:01:57 - INFO - __main__ -     spearmanr = 0.8584593256002685\n",
            "04/07/2021 04:01:59 - INFO - __main__ -   Saving model checkpoint to /content/drive/MyDrive/KoElectra/koelectra-base-v3-korsts-ckpt/checkpoint-400\n",
            "04/07/2021 04:03:11 - INFO - __main__ -   ***** Running evaluation on dev dataset (500 step) *****\n",
            "04/07/2021 04:03:11 - INFO - __main__ -     Num examples = 1379\n",
            "04/07/2021 04:03:11 - INFO - __main__ -     Eval Batch size = 64\n"
          ],
          "name": "stderr"
        },
        {
          "output_type": "display_data",
          "data": {
            "text/html": [
              "\n",
              "    <div>\n",
              "        <style>\n",
              "            /* Turns off some styling */\n",
              "            progress {\n",
              "                /* gets rid of default border in Firefox and Opera. */\n",
              "                border: none;\n",
              "                /* Needs to be in here for Safari polyfill so background images work as expected. */\n",
              "                background-size: auto;\n",
              "            }\n",
              "            .progress-bar-interrupted, .progress-bar-interrupted::-webkit-progress-bar {\n",
              "                background: #F44336;\n",
              "            }\n",
              "        </style>\n",
              "      <progress value='22' class='' max='22' style='width:300px; height:20px; vertical-align: middle;'></progress>\n",
              "      100.00% [22/22 00:11<00:00]\n",
              "    </div>\n",
              "    "
            ],
            "text/plain": [
              "<IPython.core.display.HTML object>"
            ]
          },
          "metadata": {
            "tags": []
          }
        },
        {
          "output_type": "stream",
          "text": [
            "04/07/2021 04:03:22 - INFO - __main__ -   ***** Eval results on dev dataset *****\n",
            "04/07/2021 04:03:22 - INFO - __main__ -     corr = 0.8468642157333137\n",
            "04/07/2021 04:03:22 - INFO - __main__ -     pearson = 0.8486116964976741\n",
            "04/07/2021 04:03:22 - INFO - __main__ -     spearmanr = 0.8451167349689535\n",
            "04/07/2021 04:03:23 - INFO - __main__ -   Saving model checkpoint to /content/drive/MyDrive/KoElectra/koelectra-base-v3-korsts-ckpt/checkpoint-500\n",
            "04/07/2021 04:04:35 - INFO - __main__ -   ***** Running evaluation on dev dataset (600 step) *****\n",
            "04/07/2021 04:04:35 - INFO - __main__ -     Num examples = 1379\n",
            "04/07/2021 04:04:35 - INFO - __main__ -     Eval Batch size = 64\n"
          ],
          "name": "stderr"
        },
        {
          "output_type": "display_data",
          "data": {
            "text/html": [
              "\n",
              "    <div>\n",
              "        <style>\n",
              "            /* Turns off some styling */\n",
              "            progress {\n",
              "                /* gets rid of default border in Firefox and Opera. */\n",
              "                border: none;\n",
              "                /* Needs to be in here for Safari polyfill so background images work as expected. */\n",
              "                background-size: auto;\n",
              "            }\n",
              "            .progress-bar-interrupted, .progress-bar-interrupted::-webkit-progress-bar {\n",
              "                background: #F44336;\n",
              "            }\n",
              "        </style>\n",
              "      <progress value='22' class='' max='22' style='width:300px; height:20px; vertical-align: middle;'></progress>\n",
              "      100.00% [22/22 00:11<00:00]\n",
              "    </div>\n",
              "    "
            ],
            "text/plain": [
              "<IPython.core.display.HTML object>"
            ]
          },
          "metadata": {
            "tags": []
          }
        },
        {
          "output_type": "stream",
          "text": [
            "04/07/2021 04:04:46 - INFO - __main__ -   ***** Eval results on dev dataset *****\n",
            "04/07/2021 04:04:46 - INFO - __main__ -     corr = 0.8586976088097559\n",
            "04/07/2021 04:04:46 - INFO - __main__ -     pearson = 0.8598354284934916\n",
            "04/07/2021 04:04:46 - INFO - __main__ -     spearmanr = 0.8575597891260202\n",
            "04/07/2021 04:04:48 - INFO - __main__ -   Saving model checkpoint to /content/drive/MyDrive/KoElectra/koelectra-base-v3-korsts-ckpt/checkpoint-600\n",
            "04/07/2021 04:05:59 - INFO - __main__ -   ***** Running evaluation on dev dataset (700 step) *****\n",
            "04/07/2021 04:05:59 - INFO - __main__ -     Num examples = 1379\n",
            "04/07/2021 04:05:59 - INFO - __main__ -     Eval Batch size = 64\n"
          ],
          "name": "stderr"
        },
        {
          "output_type": "display_data",
          "data": {
            "text/html": [
              "\n",
              "    <div>\n",
              "        <style>\n",
              "            /* Turns off some styling */\n",
              "            progress {\n",
              "                /* gets rid of default border in Firefox and Opera. */\n",
              "                border: none;\n",
              "                /* Needs to be in here for Safari polyfill so background images work as expected. */\n",
              "                background-size: auto;\n",
              "            }\n",
              "            .progress-bar-interrupted, .progress-bar-interrupted::-webkit-progress-bar {\n",
              "                background: #F44336;\n",
              "            }\n",
              "        </style>\n",
              "      <progress value='22' class='' max='22' style='width:300px; height:20px; vertical-align: middle;'></progress>\n",
              "      100.00% [22/22 00:11<00:00]\n",
              "    </div>\n",
              "    "
            ],
            "text/plain": [
              "<IPython.core.display.HTML object>"
            ]
          },
          "metadata": {
            "tags": []
          }
        },
        {
          "output_type": "stream",
          "text": [
            "04/07/2021 04:06:10 - INFO - __main__ -   ***** Eval results on dev dataset *****\n",
            "04/07/2021 04:06:10 - INFO - __main__ -     corr = 0.8588770430883147\n",
            "04/07/2021 04:06:10 - INFO - __main__ -     pearson = 0.8610388678072917\n",
            "04/07/2021 04:06:10 - INFO - __main__ -     spearmanr = 0.8567152183693377\n",
            "04/07/2021 04:06:12 - INFO - __main__ -   Saving model checkpoint to /content/drive/MyDrive/KoElectra/koelectra-base-v3-korsts-ckpt/checkpoint-700\n",
            "04/07/2021 04:07:23 - INFO - __main__ -   ***** Running evaluation on dev dataset (800 step) *****\n",
            "04/07/2021 04:07:23 - INFO - __main__ -     Num examples = 1379\n",
            "04/07/2021 04:07:23 - INFO - __main__ -     Eval Batch size = 64\n"
          ],
          "name": "stderr"
        },
        {
          "output_type": "display_data",
          "data": {
            "text/html": [
              "\n",
              "    <div>\n",
              "        <style>\n",
              "            /* Turns off some styling */\n",
              "            progress {\n",
              "                /* gets rid of default border in Firefox and Opera. */\n",
              "                border: none;\n",
              "                /* Needs to be in here for Safari polyfill so background images work as expected. */\n",
              "                background-size: auto;\n",
              "            }\n",
              "            .progress-bar-interrupted, .progress-bar-interrupted::-webkit-progress-bar {\n",
              "                background: #F44336;\n",
              "            }\n",
              "        </style>\n",
              "      <progress value='22' class='' max='22' style='width:300px; height:20px; vertical-align: middle;'></progress>\n",
              "      100.00% [22/22 00:11<00:00]\n",
              "    </div>\n",
              "    "
            ],
            "text/plain": [
              "<IPython.core.display.HTML object>"
            ]
          },
          "metadata": {
            "tags": []
          }
        },
        {
          "output_type": "stream",
          "text": [
            "04/07/2021 04:07:35 - INFO - __main__ -   ***** Eval results on dev dataset *****\n",
            "04/07/2021 04:07:35 - INFO - __main__ -     corr = 0.8572399949407405\n",
            "04/07/2021 04:07:35 - INFO - __main__ -     pearson = 0.8604208973258877\n",
            "04/07/2021 04:07:35 - INFO - __main__ -     spearmanr = 0.8540590925555934\n",
            "04/07/2021 04:07:36 - INFO - __main__ -   Saving model checkpoint to /content/drive/MyDrive/KoElectra/koelectra-base-v3-korsts-ckpt/checkpoint-800\n",
            "04/07/2021 04:08:48 - INFO - __main__ -   ***** Running evaluation on dev dataset (900 step) *****\n",
            "04/07/2021 04:08:48 - INFO - __main__ -     Num examples = 1379\n",
            "04/07/2021 04:08:48 - INFO - __main__ -     Eval Batch size = 64\n"
          ],
          "name": "stderr"
        },
        {
          "output_type": "display_data",
          "data": {
            "text/html": [
              "\n",
              "    <div>\n",
              "        <style>\n",
              "            /* Turns off some styling */\n",
              "            progress {\n",
              "                /* gets rid of default border in Firefox and Opera. */\n",
              "                border: none;\n",
              "                /* Needs to be in here for Safari polyfill so background images work as expected. */\n",
              "                background-size: auto;\n",
              "            }\n",
              "            .progress-bar-interrupted, .progress-bar-interrupted::-webkit-progress-bar {\n",
              "                background: #F44336;\n",
              "            }\n",
              "        </style>\n",
              "      <progress value='22' class='' max='22' style='width:300px; height:20px; vertical-align: middle;'></progress>\n",
              "      100.00% [22/22 00:11<00:00]\n",
              "    </div>\n",
              "    "
            ],
            "text/plain": [
              "<IPython.core.display.HTML object>"
            ]
          },
          "metadata": {
            "tags": []
          }
        },
        {
          "output_type": "stream",
          "text": [
            "04/07/2021 04:08:59 - INFO - __main__ -   ***** Eval results on dev dataset *****\n",
            "04/07/2021 04:08:59 - INFO - __main__ -     corr = 0.8629370711891939\n",
            "04/07/2021 04:08:59 - INFO - __main__ -     pearson = 0.8641173066693771\n",
            "04/07/2021 04:08:59 - INFO - __main__ -     spearmanr = 0.8617568357090108\n",
            "04/07/2021 04:09:01 - INFO - __main__ -   Saving model checkpoint to /content/drive/MyDrive/KoElectra/koelectra-base-v3-korsts-ckpt/checkpoint-900\n",
            "04/07/2021 04:10:12 - INFO - __main__ -   ***** Running evaluation on dev dataset (1000 step) *****\n",
            "04/07/2021 04:10:12 - INFO - __main__ -     Num examples = 1379\n",
            "04/07/2021 04:10:12 - INFO - __main__ -     Eval Batch size = 64\n"
          ],
          "name": "stderr"
        },
        {
          "output_type": "display_data",
          "data": {
            "text/html": [
              "\n",
              "    <div>\n",
              "        <style>\n",
              "            /* Turns off some styling */\n",
              "            progress {\n",
              "                /* gets rid of default border in Firefox and Opera. */\n",
              "                border: none;\n",
              "                /* Needs to be in here for Safari polyfill so background images work as expected. */\n",
              "                background-size: auto;\n",
              "            }\n",
              "            .progress-bar-interrupted, .progress-bar-interrupted::-webkit-progress-bar {\n",
              "                background: #F44336;\n",
              "            }\n",
              "        </style>\n",
              "      <progress value='22' class='' max='22' style='width:300px; height:20px; vertical-align: middle;'></progress>\n",
              "      100.00% [22/22 00:11<00:00]\n",
              "    </div>\n",
              "    "
            ],
            "text/plain": [
              "<IPython.core.display.HTML object>"
            ]
          },
          "metadata": {
            "tags": []
          }
        },
        {
          "output_type": "stream",
          "text": [
            "04/07/2021 04:10:23 - INFO - __main__ -   ***** Eval results on dev dataset *****\n",
            "04/07/2021 04:10:23 - INFO - __main__ -     corr = 0.8592801133000374\n",
            "04/07/2021 04:10:23 - INFO - __main__ -     pearson = 0.8601060917610485\n",
            "04/07/2021 04:10:23 - INFO - __main__ -     spearmanr = 0.8584541348390263\n",
            "04/07/2021 04:10:25 - INFO - __main__ -   Saving model checkpoint to /content/drive/MyDrive/KoElectra/koelectra-base-v3-korsts-ckpt/checkpoint-1000\n",
            "04/07/2021 04:11:36 - INFO - __main__ -   ***** Running evaluation on dev dataset (1100 step) *****\n",
            "04/07/2021 04:11:36 - INFO - __main__ -     Num examples = 1379\n",
            "04/07/2021 04:11:36 - INFO - __main__ -     Eval Batch size = 64\n"
          ],
          "name": "stderr"
        },
        {
          "output_type": "display_data",
          "data": {
            "text/html": [
              "\n",
              "    <div>\n",
              "        <style>\n",
              "            /* Turns off some styling */\n",
              "            progress {\n",
              "                /* gets rid of default border in Firefox and Opera. */\n",
              "                border: none;\n",
              "                /* Needs to be in here for Safari polyfill so background images work as expected. */\n",
              "                background-size: auto;\n",
              "            }\n",
              "            .progress-bar-interrupted, .progress-bar-interrupted::-webkit-progress-bar {\n",
              "                background: #F44336;\n",
              "            }\n",
              "        </style>\n",
              "      <progress value='22' class='' max='22' style='width:300px; height:20px; vertical-align: middle;'></progress>\n",
              "      100.00% [22/22 00:10<00:00]\n",
              "    </div>\n",
              "    "
            ],
            "text/plain": [
              "<IPython.core.display.HTML object>"
            ]
          },
          "metadata": {
            "tags": []
          }
        },
        {
          "output_type": "stream",
          "text": [
            "04/07/2021 04:11:47 - INFO - __main__ -   ***** Eval results on dev dataset *****\n",
            "04/07/2021 04:11:47 - INFO - __main__ -     corr = 0.8607580866173739\n",
            "04/07/2021 04:11:47 - INFO - __main__ -     pearson = 0.8628642923832649\n",
            "04/07/2021 04:11:47 - INFO - __main__ -     spearmanr = 0.8586518808514828\n",
            "04/07/2021 04:11:50 - INFO - __main__ -   Saving model checkpoint to /content/drive/MyDrive/KoElectra/koelectra-base-v3-korsts-ckpt/checkpoint-1100\n",
            "04/07/2021 04:13:01 - INFO - __main__ -   ***** Running evaluation on dev dataset (1200 step) *****\n",
            "04/07/2021 04:13:01 - INFO - __main__ -     Num examples = 1379\n",
            "04/07/2021 04:13:01 - INFO - __main__ -     Eval Batch size = 64\n"
          ],
          "name": "stderr"
        },
        {
          "output_type": "display_data",
          "data": {
            "text/html": [
              "\n",
              "    <div>\n",
              "        <style>\n",
              "            /* Turns off some styling */\n",
              "            progress {\n",
              "                /* gets rid of default border in Firefox and Opera. */\n",
              "                border: none;\n",
              "                /* Needs to be in here for Safari polyfill so background images work as expected. */\n",
              "                background-size: auto;\n",
              "            }\n",
              "            .progress-bar-interrupted, .progress-bar-interrupted::-webkit-progress-bar {\n",
              "                background: #F44336;\n",
              "            }\n",
              "        </style>\n",
              "      <progress value='22' class='' max='22' style='width:300px; height:20px; vertical-align: middle;'></progress>\n",
              "      100.00% [22/22 00:11<00:00]\n",
              "    </div>\n",
              "    "
            ],
            "text/plain": [
              "<IPython.core.display.HTML object>"
            ]
          },
          "metadata": {
            "tags": []
          }
        },
        {
          "output_type": "stream",
          "text": [
            "04/07/2021 04:13:12 - INFO - __main__ -   ***** Eval results on dev dataset *****\n",
            "04/07/2021 04:13:12 - INFO - __main__ -     corr = 0.8584098725393596\n",
            "04/07/2021 04:13:12 - INFO - __main__ -     pearson = 0.8596635548196404\n",
            "04/07/2021 04:13:12 - INFO - __main__ -     spearmanr = 0.8571561902590789\n",
            "04/07/2021 04:13:14 - INFO - __main__ -   Saving model checkpoint to /content/drive/MyDrive/KoElectra/koelectra-base-v3-korsts-ckpt/checkpoint-1200\n",
            "04/07/2021 04:14:26 - INFO - __main__ -   ***** Running evaluation on dev dataset (1300 step) *****\n",
            "04/07/2021 04:14:26 - INFO - __main__ -     Num examples = 1379\n",
            "04/07/2021 04:14:26 - INFO - __main__ -     Eval Batch size = 64\n"
          ],
          "name": "stderr"
        },
        {
          "output_type": "display_data",
          "data": {
            "text/html": [
              "\n",
              "    <div>\n",
              "        <style>\n",
              "            /* Turns off some styling */\n",
              "            progress {\n",
              "                /* gets rid of default border in Firefox and Opera. */\n",
              "                border: none;\n",
              "                /* Needs to be in here for Safari polyfill so background images work as expected. */\n",
              "                background-size: auto;\n",
              "            }\n",
              "            .progress-bar-interrupted, .progress-bar-interrupted::-webkit-progress-bar {\n",
              "                background: #F44336;\n",
              "            }\n",
              "        </style>\n",
              "      <progress value='22' class='' max='22' style='width:300px; height:20px; vertical-align: middle;'></progress>\n",
              "      100.00% [22/22 00:11<00:00]\n",
              "    </div>\n",
              "    "
            ],
            "text/plain": [
              "<IPython.core.display.HTML object>"
            ]
          },
          "metadata": {
            "tags": []
          }
        },
        {
          "output_type": "stream",
          "text": [
            "04/07/2021 04:14:37 - INFO - __main__ -   ***** Eval results on dev dataset *****\n",
            "04/07/2021 04:14:37 - INFO - __main__ -     corr = 0.8600639867985419\n",
            "04/07/2021 04:14:37 - INFO - __main__ -     pearson = 0.8612436790453076\n",
            "04/07/2021 04:14:37 - INFO - __main__ -     spearmanr = 0.8588842945517762\n",
            "04/07/2021 04:14:39 - INFO - __main__ -   Saving model checkpoint to /content/drive/MyDrive/KoElectra/koelectra-base-v3-korsts-ckpt/checkpoint-1300\n",
            "04/07/2021 04:15:50 - INFO - __main__ -   ***** Running evaluation on dev dataset (1400 step) *****\n",
            "04/07/2021 04:15:50 - INFO - __main__ -     Num examples = 1379\n",
            "04/07/2021 04:15:50 - INFO - __main__ -     Eval Batch size = 64\n"
          ],
          "name": "stderr"
        },
        {
          "output_type": "display_data",
          "data": {
            "text/html": [
              "\n",
              "    <div>\n",
              "        <style>\n",
              "            /* Turns off some styling */\n",
              "            progress {\n",
              "                /* gets rid of default border in Firefox and Opera. */\n",
              "                border: none;\n",
              "                /* Needs to be in here for Safari polyfill so background images work as expected. */\n",
              "                background-size: auto;\n",
              "            }\n",
              "            .progress-bar-interrupted, .progress-bar-interrupted::-webkit-progress-bar {\n",
              "                background: #F44336;\n",
              "            }\n",
              "        </style>\n",
              "      <progress value='22' class='' max='22' style='width:300px; height:20px; vertical-align: middle;'></progress>\n",
              "      100.00% [22/22 00:11<00:00]\n",
              "    </div>\n",
              "    "
            ],
            "text/plain": [
              "<IPython.core.display.HTML object>"
            ]
          },
          "metadata": {
            "tags": []
          }
        },
        {
          "output_type": "stream",
          "text": [
            "04/07/2021 04:16:01 - INFO - __main__ -   ***** Eval results on dev dataset *****\n",
            "04/07/2021 04:16:01 - INFO - __main__ -     corr = 0.8612513532974548\n",
            "04/07/2021 04:16:01 - INFO - __main__ -     pearson = 0.8627196406678505\n",
            "04/07/2021 04:16:01 - INFO - __main__ -     spearmanr = 0.8597830659270593\n",
            "04/07/2021 04:16:03 - INFO - __main__ -   Saving model checkpoint to /content/drive/MyDrive/KoElectra/koelectra-base-v3-korsts-ckpt/checkpoint-1400\n",
            "04/07/2021 04:17:15 - INFO - __main__ -   ***** Running evaluation on dev dataset (1500 step) *****\n",
            "04/07/2021 04:17:15 - INFO - __main__ -     Num examples = 1379\n",
            "04/07/2021 04:17:15 - INFO - __main__ -     Eval Batch size = 64\n"
          ],
          "name": "stderr"
        },
        {
          "output_type": "display_data",
          "data": {
            "text/html": [
              "\n",
              "    <div>\n",
              "        <style>\n",
              "            /* Turns off some styling */\n",
              "            progress {\n",
              "                /* gets rid of default border in Firefox and Opera. */\n",
              "                border: none;\n",
              "                /* Needs to be in here for Safari polyfill so background images work as expected. */\n",
              "                background-size: auto;\n",
              "            }\n",
              "            .progress-bar-interrupted, .progress-bar-interrupted::-webkit-progress-bar {\n",
              "                background: #F44336;\n",
              "            }\n",
              "        </style>\n",
              "      <progress value='22' class='' max='22' style='width:300px; height:20px; vertical-align: middle;'></progress>\n",
              "      100.00% [22/22 00:10<00:00]\n",
              "    </div>\n",
              "    "
            ],
            "text/plain": [
              "<IPython.core.display.HTML object>"
            ]
          },
          "metadata": {
            "tags": []
          }
        },
        {
          "output_type": "stream",
          "text": [
            "04/07/2021 04:17:26 - INFO - __main__ -   ***** Eval results on dev dataset *****\n",
            "04/07/2021 04:17:26 - INFO - __main__ -     corr = 0.8617517784147037\n",
            "04/07/2021 04:17:26 - INFO - __main__ -     pearson = 0.8630189743420115\n",
            "04/07/2021 04:17:26 - INFO - __main__ -     spearmanr = 0.8604845824873961\n",
            "04/07/2021 04:17:28 - INFO - __main__ -   Saving model checkpoint to /content/drive/MyDrive/KoElectra/koelectra-base-v3-korsts-ckpt/checkpoint-1500\n",
            "04/07/2021 04:18:39 - INFO - __main__ -   ***** Running evaluation on dev dataset (1600 step) *****\n",
            "04/07/2021 04:18:39 - INFO - __main__ -     Num examples = 1379\n",
            "04/07/2021 04:18:39 - INFO - __main__ -     Eval Batch size = 64\n"
          ],
          "name": "stderr"
        },
        {
          "output_type": "display_data",
          "data": {
            "text/html": [
              "\n",
              "    <div>\n",
              "        <style>\n",
              "            /* Turns off some styling */\n",
              "            progress {\n",
              "                /* gets rid of default border in Firefox and Opera. */\n",
              "                border: none;\n",
              "                /* Needs to be in here for Safari polyfill so background images work as expected. */\n",
              "                background-size: auto;\n",
              "            }\n",
              "            .progress-bar-interrupted, .progress-bar-interrupted::-webkit-progress-bar {\n",
              "                background: #F44336;\n",
              "            }\n",
              "        </style>\n",
              "      <progress value='22' class='' max='22' style='width:300px; height:20px; vertical-align: middle;'></progress>\n",
              "      100.00% [22/22 00:11<00:00]\n",
              "    </div>\n",
              "    "
            ],
            "text/plain": [
              "<IPython.core.display.HTML object>"
            ]
          },
          "metadata": {
            "tags": []
          }
        },
        {
          "output_type": "stream",
          "text": [
            "04/07/2021 04:18:50 - INFO - __main__ -   ***** Eval results on dev dataset *****\n",
            "04/07/2021 04:18:50 - INFO - __main__ -     corr = 0.8612508261920853\n",
            "04/07/2021 04:18:50 - INFO - __main__ -     pearson = 0.862775588620725\n",
            "04/07/2021 04:18:50 - INFO - __main__ -     spearmanr = 0.8597260637634455\n",
            "04/07/2021 04:18:52 - INFO - __main__ -   Saving model checkpoint to /content/drive/MyDrive/KoElectra/koelectra-base-v3-korsts-ckpt/checkpoint-1600\n",
            "04/07/2021 04:20:03 - INFO - __main__ -   ***** Running evaluation on dev dataset (1700 step) *****\n",
            "04/07/2021 04:20:03 - INFO - __main__ -     Num examples = 1379\n",
            "04/07/2021 04:20:03 - INFO - __main__ -     Eval Batch size = 64\n"
          ],
          "name": "stderr"
        },
        {
          "output_type": "display_data",
          "data": {
            "text/html": [
              "\n",
              "    <div>\n",
              "        <style>\n",
              "            /* Turns off some styling */\n",
              "            progress {\n",
              "                /* gets rid of default border in Firefox and Opera. */\n",
              "                border: none;\n",
              "                /* Needs to be in here for Safari polyfill so background images work as expected. */\n",
              "                background-size: auto;\n",
              "            }\n",
              "            .progress-bar-interrupted, .progress-bar-interrupted::-webkit-progress-bar {\n",
              "                background: #F44336;\n",
              "            }\n",
              "        </style>\n",
              "      <progress value='22' class='' max='22' style='width:300px; height:20px; vertical-align: middle;'></progress>\n",
              "      100.00% [22/22 00:11<00:00]\n",
              "    </div>\n",
              "    "
            ],
            "text/plain": [
              "<IPython.core.display.HTML object>"
            ]
          },
          "metadata": {
            "tags": []
          }
        },
        {
          "output_type": "stream",
          "text": [
            "04/07/2021 04:20:14 - INFO - __main__ -   ***** Eval results on dev dataset *****\n",
            "04/07/2021 04:20:14 - INFO - __main__ -     corr = 0.8614555312610136\n",
            "04/07/2021 04:20:14 - INFO - __main__ -     pearson = 0.8626256953801005\n",
            "04/07/2021 04:20:14 - INFO - __main__ -     spearmanr = 0.8602853671419267\n",
            "04/07/2021 04:20:16 - INFO - __main__ -   Saving model checkpoint to /content/drive/MyDrive/KoElectra/koelectra-base-v3-korsts-ckpt/checkpoint-1700\n",
            "04/07/2021 04:21:28 - INFO - __main__ -   ***** Running evaluation on dev dataset (1800 step) *****\n",
            "04/07/2021 04:21:28 - INFO - __main__ -     Num examples = 1379\n",
            "04/07/2021 04:21:28 - INFO - __main__ -     Eval Batch size = 64\n"
          ],
          "name": "stderr"
        },
        {
          "output_type": "display_data",
          "data": {
            "text/html": [
              "\n",
              "    <div>\n",
              "        <style>\n",
              "            /* Turns off some styling */\n",
              "            progress {\n",
              "                /* gets rid of default border in Firefox and Opera. */\n",
              "                border: none;\n",
              "                /* Needs to be in here for Safari polyfill so background images work as expected. */\n",
              "                background-size: auto;\n",
              "            }\n",
              "            .progress-bar-interrupted, .progress-bar-interrupted::-webkit-progress-bar {\n",
              "                background: #F44336;\n",
              "            }\n",
              "        </style>\n",
              "      <progress value='22' class='' max='22' style='width:300px; height:20px; vertical-align: middle;'></progress>\n",
              "      100.00% [22/22 00:11<00:00]\n",
              "    </div>\n",
              "    "
            ],
            "text/plain": [
              "<IPython.core.display.HTML object>"
            ]
          },
          "metadata": {
            "tags": []
          }
        },
        {
          "output_type": "stream",
          "text": [
            "04/07/2021 04:21:39 - INFO - __main__ -   ***** Eval results on dev dataset *****\n",
            "04/07/2021 04:21:39 - INFO - __main__ -     corr = 0.8610732726227514\n",
            "04/07/2021 04:21:39 - INFO - __main__ -     pearson = 0.862520716318629\n",
            "04/07/2021 04:21:39 - INFO - __main__ -     spearmanr = 0.8596258289268737\n",
            "04/07/2021 04:21:40 - INFO - __main__ -   Saving model checkpoint to /content/drive/MyDrive/KoElectra/koelectra-base-v3-korsts-ckpt/checkpoint-1800\n",
            "04/07/2021 04:21:41 - INFO - __main__ -    global_step = 1800, average loss = 0.2571479117849635\n",
            "04/07/2021 04:21:41 - INFO - __main__ -   Evaluate the following checkpoints: ['/content/drive/MyDrive/KoElectra/koelectra-base-v3-korsts-ckpt/checkpoint-100', '/content/drive/MyDrive/KoElectra/koelectra-base-v3-korsts-ckpt/checkpoint-1000', '/content/drive/MyDrive/KoElectra/koelectra-base-v3-korsts-ckpt/checkpoint-1100', '/content/drive/MyDrive/KoElectra/koelectra-base-v3-korsts-ckpt/checkpoint-1200', '/content/drive/MyDrive/KoElectra/koelectra-base-v3-korsts-ckpt/checkpoint-1300', '/content/drive/MyDrive/KoElectra/koelectra-base-v3-korsts-ckpt/checkpoint-1400', '/content/drive/MyDrive/KoElectra/koelectra-base-v3-korsts-ckpt/checkpoint-1500', '/content/drive/MyDrive/KoElectra/koelectra-base-v3-korsts-ckpt/checkpoint-1600', '/content/drive/MyDrive/KoElectra/koelectra-base-v3-korsts-ckpt/checkpoint-1700', '/content/drive/MyDrive/KoElectra/koelectra-base-v3-korsts-ckpt/checkpoint-1800', '/content/drive/MyDrive/KoElectra/koelectra-base-v3-korsts-ckpt/checkpoint-200', '/content/drive/MyDrive/KoElectra/koelectra-base-v3-korsts-ckpt/checkpoint-300', '/content/drive/MyDrive/KoElectra/koelectra-base-v3-korsts-ckpt/checkpoint-400', '/content/drive/MyDrive/KoElectra/koelectra-base-v3-korsts-ckpt/checkpoint-500', '/content/drive/MyDrive/KoElectra/koelectra-base-v3-korsts-ckpt/checkpoint-600', '/content/drive/MyDrive/KoElectra/koelectra-base-v3-korsts-ckpt/checkpoint-700', '/content/drive/MyDrive/KoElectra/koelectra-base-v3-korsts-ckpt/checkpoint-800', '/content/drive/MyDrive/KoElectra/koelectra-base-v3-korsts-ckpt/checkpoint-900']\n",
            "04/07/2021 04:21:50 - INFO - __main__ -   ***** Running evaluation on test dataset (100 step) *****\n",
            "04/07/2021 04:21:50 - INFO - __main__ -     Num examples = 1379\n",
            "04/07/2021 04:21:50 - INFO - __main__ -     Eval Batch size = 64\n"
          ],
          "name": "stderr"
        },
        {
          "output_type": "display_data",
          "data": {
            "text/html": [
              "\n",
              "    <div>\n",
              "        <style>\n",
              "            /* Turns off some styling */\n",
              "            progress {\n",
              "                /* gets rid of default border in Firefox and Opera. */\n",
              "                border: none;\n",
              "                /* Needs to be in here for Safari polyfill so background images work as expected. */\n",
              "                background-size: auto;\n",
              "            }\n",
              "            .progress-bar-interrupted, .progress-bar-interrupted::-webkit-progress-bar {\n",
              "                background: #F44336;\n",
              "            }\n",
              "        </style>\n",
              "      <progress value='22' class='' max='22' style='width:300px; height:20px; vertical-align: middle;'></progress>\n",
              "      100.00% [22/22 00:10<00:00]\n",
              "    </div>\n",
              "    "
            ],
            "text/plain": [
              "<IPython.core.display.HTML object>"
            ]
          },
          "metadata": {
            "tags": []
          }
        },
        {
          "output_type": "stream",
          "text": [
            "04/07/2021 04:22:01 - INFO - __main__ -   ***** Eval results on test dataset *****\n",
            "04/07/2021 04:22:01 - INFO - __main__ -     corr = 0.8333034058187612\n",
            "04/07/2021 04:22:01 - INFO - __main__ -     pearson = 0.8334452679903397\n",
            "04/07/2021 04:22:01 - INFO - __main__ -     spearmanr = 0.8331615436471826\n",
            "04/07/2021 04:22:17 - INFO - __main__ -   ***** Running evaluation on test dataset (1000 step) *****\n",
            "04/07/2021 04:22:17 - INFO - __main__ -     Num examples = 1379\n",
            "04/07/2021 04:22:17 - INFO - __main__ -     Eval Batch size = 64\n"
          ],
          "name": "stderr"
        },
        {
          "output_type": "display_data",
          "data": {
            "text/html": [
              "\n",
              "    <div>\n",
              "        <style>\n",
              "            /* Turns off some styling */\n",
              "            progress {\n",
              "                /* gets rid of default border in Firefox and Opera. */\n",
              "                border: none;\n",
              "                /* Needs to be in here for Safari polyfill so background images work as expected. */\n",
              "                background-size: auto;\n",
              "            }\n",
              "            .progress-bar-interrupted, .progress-bar-interrupted::-webkit-progress-bar {\n",
              "                background: #F44336;\n",
              "            }\n",
              "        </style>\n",
              "      <progress value='22' class='' max='22' style='width:300px; height:20px; vertical-align: middle;'></progress>\n",
              "      100.00% [22/22 00:11<00:00]\n",
              "    </div>\n",
              "    "
            ],
            "text/plain": [
              "<IPython.core.display.HTML object>"
            ]
          },
          "metadata": {
            "tags": []
          }
        },
        {
          "output_type": "stream",
          "text": [
            "04/07/2021 04:22:28 - INFO - __main__ -   ***** Eval results on test dataset *****\n",
            "04/07/2021 04:22:28 - INFO - __main__ -     corr = 0.8592801133000374\n",
            "04/07/2021 04:22:28 - INFO - __main__ -     pearson = 0.8601060917610485\n",
            "04/07/2021 04:22:28 - INFO - __main__ -     spearmanr = 0.8584541348390263\n",
            "04/07/2021 04:22:43 - INFO - __main__ -   ***** Running evaluation on test dataset (1100 step) *****\n",
            "04/07/2021 04:22:43 - INFO - __main__ -     Num examples = 1379\n",
            "04/07/2021 04:22:43 - INFO - __main__ -     Eval Batch size = 64\n"
          ],
          "name": "stderr"
        },
        {
          "output_type": "display_data",
          "data": {
            "text/html": [
              "\n",
              "    <div>\n",
              "        <style>\n",
              "            /* Turns off some styling */\n",
              "            progress {\n",
              "                /* gets rid of default border in Firefox and Opera. */\n",
              "                border: none;\n",
              "                /* Needs to be in here for Safari polyfill so background images work as expected. */\n",
              "                background-size: auto;\n",
              "            }\n",
              "            .progress-bar-interrupted, .progress-bar-interrupted::-webkit-progress-bar {\n",
              "                background: #F44336;\n",
              "            }\n",
              "        </style>\n",
              "      <progress value='22' class='' max='22' style='width:300px; height:20px; vertical-align: middle;'></progress>\n",
              "      100.00% [22/22 00:10<00:00]\n",
              "    </div>\n",
              "    "
            ],
            "text/plain": [
              "<IPython.core.display.HTML object>"
            ]
          },
          "metadata": {
            "tags": []
          }
        },
        {
          "output_type": "stream",
          "text": [
            "04/07/2021 04:22:54 - INFO - __main__ -   ***** Eval results on test dataset *****\n",
            "04/07/2021 04:22:54 - INFO - __main__ -     corr = 0.8607580866173739\n",
            "04/07/2021 04:22:54 - INFO - __main__ -     pearson = 0.8628642923832649\n",
            "04/07/2021 04:22:54 - INFO - __main__ -     spearmanr = 0.8586518808514828\n",
            "04/07/2021 04:23:09 - INFO - __main__ -   ***** Running evaluation on test dataset (1200 step) *****\n",
            "04/07/2021 04:23:09 - INFO - __main__ -     Num examples = 1379\n",
            "04/07/2021 04:23:09 - INFO - __main__ -     Eval Batch size = 64\n"
          ],
          "name": "stderr"
        },
        {
          "output_type": "display_data",
          "data": {
            "text/html": [
              "\n",
              "    <div>\n",
              "        <style>\n",
              "            /* Turns off some styling */\n",
              "            progress {\n",
              "                /* gets rid of default border in Firefox and Opera. */\n",
              "                border: none;\n",
              "                /* Needs to be in here for Safari polyfill so background images work as expected. */\n",
              "                background-size: auto;\n",
              "            }\n",
              "            .progress-bar-interrupted, .progress-bar-interrupted::-webkit-progress-bar {\n",
              "                background: #F44336;\n",
              "            }\n",
              "        </style>\n",
              "      <progress value='22' class='' max='22' style='width:300px; height:20px; vertical-align: middle;'></progress>\n",
              "      100.00% [22/22 00:10<00:00]\n",
              "    </div>\n",
              "    "
            ],
            "text/plain": [
              "<IPython.core.display.HTML object>"
            ]
          },
          "metadata": {
            "tags": []
          }
        },
        {
          "output_type": "stream",
          "text": [
            "04/07/2021 04:23:20 - INFO - __main__ -   ***** Eval results on test dataset *****\n",
            "04/07/2021 04:23:20 - INFO - __main__ -     corr = 0.8584098725393596\n",
            "04/07/2021 04:23:20 - INFO - __main__ -     pearson = 0.8596635548196404\n",
            "04/07/2021 04:23:20 - INFO - __main__ -     spearmanr = 0.8571561902590789\n",
            "04/07/2021 04:23:35 - INFO - __main__ -   ***** Running evaluation on test dataset (1300 step) *****\n",
            "04/07/2021 04:23:35 - INFO - __main__ -     Num examples = 1379\n",
            "04/07/2021 04:23:35 - INFO - __main__ -     Eval Batch size = 64\n"
          ],
          "name": "stderr"
        },
        {
          "output_type": "display_data",
          "data": {
            "text/html": [
              "\n",
              "    <div>\n",
              "        <style>\n",
              "            /* Turns off some styling */\n",
              "            progress {\n",
              "                /* gets rid of default border in Firefox and Opera. */\n",
              "                border: none;\n",
              "                /* Needs to be in here for Safari polyfill so background images work as expected. */\n",
              "                background-size: auto;\n",
              "            }\n",
              "            .progress-bar-interrupted, .progress-bar-interrupted::-webkit-progress-bar {\n",
              "                background: #F44336;\n",
              "            }\n",
              "        </style>\n",
              "      <progress value='22' class='' max='22' style='width:300px; height:20px; vertical-align: middle;'></progress>\n",
              "      100.00% [22/22 00:10<00:00]\n",
              "    </div>\n",
              "    "
            ],
            "text/plain": [
              "<IPython.core.display.HTML object>"
            ]
          },
          "metadata": {
            "tags": []
          }
        },
        {
          "output_type": "stream",
          "text": [
            "04/07/2021 04:23:45 - INFO - __main__ -   ***** Eval results on test dataset *****\n",
            "04/07/2021 04:23:45 - INFO - __main__ -     corr = 0.8600639867985419\n",
            "04/07/2021 04:23:45 - INFO - __main__ -     pearson = 0.8612436790453076\n",
            "04/07/2021 04:23:45 - INFO - __main__ -     spearmanr = 0.8588842945517762\n",
            "04/07/2021 04:24:01 - INFO - __main__ -   ***** Running evaluation on test dataset (1400 step) *****\n",
            "04/07/2021 04:24:01 - INFO - __main__ -     Num examples = 1379\n",
            "04/07/2021 04:24:01 - INFO - __main__ -     Eval Batch size = 64\n"
          ],
          "name": "stderr"
        },
        {
          "output_type": "display_data",
          "data": {
            "text/html": [
              "\n",
              "    <div>\n",
              "        <style>\n",
              "            /* Turns off some styling */\n",
              "            progress {\n",
              "                /* gets rid of default border in Firefox and Opera. */\n",
              "                border: none;\n",
              "                /* Needs to be in here for Safari polyfill so background images work as expected. */\n",
              "                background-size: auto;\n",
              "            }\n",
              "            .progress-bar-interrupted, .progress-bar-interrupted::-webkit-progress-bar {\n",
              "                background: #F44336;\n",
              "            }\n",
              "        </style>\n",
              "      <progress value='22' class='' max='22' style='width:300px; height:20px; vertical-align: middle;'></progress>\n",
              "      100.00% [22/22 00:10<00:00]\n",
              "    </div>\n",
              "    "
            ],
            "text/plain": [
              "<IPython.core.display.HTML object>"
            ]
          },
          "metadata": {
            "tags": []
          }
        },
        {
          "output_type": "stream",
          "text": [
            "04/07/2021 04:24:11 - INFO - __main__ -   ***** Eval results on test dataset *****\n",
            "04/07/2021 04:24:11 - INFO - __main__ -     corr = 0.8612513532974548\n",
            "04/07/2021 04:24:11 - INFO - __main__ -     pearson = 0.8627196406678505\n",
            "04/07/2021 04:24:11 - INFO - __main__ -     spearmanr = 0.8597830659270593\n",
            "04/07/2021 04:24:27 - INFO - __main__ -   ***** Running evaluation on test dataset (1500 step) *****\n",
            "04/07/2021 04:24:27 - INFO - __main__ -     Num examples = 1379\n",
            "04/07/2021 04:24:27 - INFO - __main__ -     Eval Batch size = 64\n"
          ],
          "name": "stderr"
        },
        {
          "output_type": "display_data",
          "data": {
            "text/html": [
              "\n",
              "    <div>\n",
              "        <style>\n",
              "            /* Turns off some styling */\n",
              "            progress {\n",
              "                /* gets rid of default border in Firefox and Opera. */\n",
              "                border: none;\n",
              "                /* Needs to be in here for Safari polyfill so background images work as expected. */\n",
              "                background-size: auto;\n",
              "            }\n",
              "            .progress-bar-interrupted, .progress-bar-interrupted::-webkit-progress-bar {\n",
              "                background: #F44336;\n",
              "            }\n",
              "        </style>\n",
              "      <progress value='22' class='' max='22' style='width:300px; height:20px; vertical-align: middle;'></progress>\n",
              "      100.00% [22/22 00:09<00:00]\n",
              "    </div>\n",
              "    "
            ],
            "text/plain": [
              "<IPython.core.display.HTML object>"
            ]
          },
          "metadata": {
            "tags": []
          }
        },
        {
          "output_type": "stream",
          "text": [
            "04/07/2021 04:24:37 - INFO - __main__ -   ***** Eval results on test dataset *****\n",
            "04/07/2021 04:24:37 - INFO - __main__ -     corr = 0.8617517784147037\n",
            "04/07/2021 04:24:37 - INFO - __main__ -     pearson = 0.8630189743420115\n",
            "04/07/2021 04:24:37 - INFO - __main__ -     spearmanr = 0.8604845824873961\n",
            "04/07/2021 04:24:52 - INFO - __main__ -   ***** Running evaluation on test dataset (1600 step) *****\n",
            "04/07/2021 04:24:52 - INFO - __main__ -     Num examples = 1379\n",
            "04/07/2021 04:24:52 - INFO - __main__ -     Eval Batch size = 64\n"
          ],
          "name": "stderr"
        },
        {
          "output_type": "display_data",
          "data": {
            "text/html": [
              "\n",
              "    <div>\n",
              "        <style>\n",
              "            /* Turns off some styling */\n",
              "            progress {\n",
              "                /* gets rid of default border in Firefox and Opera. */\n",
              "                border: none;\n",
              "                /* Needs to be in here for Safari polyfill so background images work as expected. */\n",
              "                background-size: auto;\n",
              "            }\n",
              "            .progress-bar-interrupted, .progress-bar-interrupted::-webkit-progress-bar {\n",
              "                background: #F44336;\n",
              "            }\n",
              "        </style>\n",
              "      <progress value='22' class='' max='22' style='width:300px; height:20px; vertical-align: middle;'></progress>\n",
              "      100.00% [22/22 00:09<00:00]\n",
              "    </div>\n",
              "    "
            ],
            "text/plain": [
              "<IPython.core.display.HTML object>"
            ]
          },
          "metadata": {
            "tags": []
          }
        },
        {
          "output_type": "stream",
          "text": [
            "04/07/2021 04:25:02 - INFO - __main__ -   ***** Eval results on test dataset *****\n",
            "04/07/2021 04:25:02 - INFO - __main__ -     corr = 0.8612508261920853\n",
            "04/07/2021 04:25:02 - INFO - __main__ -     pearson = 0.862775588620725\n",
            "04/07/2021 04:25:02 - INFO - __main__ -     spearmanr = 0.8597260637634455\n",
            "04/07/2021 04:25:18 - INFO - __main__ -   ***** Running evaluation on test dataset (1700 step) *****\n",
            "04/07/2021 04:25:18 - INFO - __main__ -     Num examples = 1379\n",
            "04/07/2021 04:25:18 - INFO - __main__ -     Eval Batch size = 64\n"
          ],
          "name": "stderr"
        },
        {
          "output_type": "display_data",
          "data": {
            "text/html": [
              "\n",
              "    <div>\n",
              "        <style>\n",
              "            /* Turns off some styling */\n",
              "            progress {\n",
              "                /* gets rid of default border in Firefox and Opera. */\n",
              "                border: none;\n",
              "                /* Needs to be in here for Safari polyfill so background images work as expected. */\n",
              "                background-size: auto;\n",
              "            }\n",
              "            .progress-bar-interrupted, .progress-bar-interrupted::-webkit-progress-bar {\n",
              "                background: #F44336;\n",
              "            }\n",
              "        </style>\n",
              "      <progress value='22' class='' max='22' style='width:300px; height:20px; vertical-align: middle;'></progress>\n",
              "      100.00% [22/22 00:09<00:00]\n",
              "    </div>\n",
              "    "
            ],
            "text/plain": [
              "<IPython.core.display.HTML object>"
            ]
          },
          "metadata": {
            "tags": []
          }
        },
        {
          "output_type": "stream",
          "text": [
            "04/07/2021 04:25:28 - INFO - __main__ -   ***** Eval results on test dataset *****\n",
            "04/07/2021 04:25:28 - INFO - __main__ -     corr = 0.8614555312610136\n",
            "04/07/2021 04:25:28 - INFO - __main__ -     pearson = 0.8626256953801005\n",
            "04/07/2021 04:25:28 - INFO - __main__ -     spearmanr = 0.8602853671419267\n",
            "04/07/2021 04:25:43 - INFO - __main__ -   ***** Running evaluation on test dataset (1800 step) *****\n",
            "04/07/2021 04:25:43 - INFO - __main__ -     Num examples = 1379\n",
            "04/07/2021 04:25:43 - INFO - __main__ -     Eval Batch size = 64\n"
          ],
          "name": "stderr"
        },
        {
          "output_type": "display_data",
          "data": {
            "text/html": [
              "\n",
              "    <div>\n",
              "        <style>\n",
              "            /* Turns off some styling */\n",
              "            progress {\n",
              "                /* gets rid of default border in Firefox and Opera. */\n",
              "                border: none;\n",
              "                /* Needs to be in here for Safari polyfill so background images work as expected. */\n",
              "                background-size: auto;\n",
              "            }\n",
              "            .progress-bar-interrupted, .progress-bar-interrupted::-webkit-progress-bar {\n",
              "                background: #F44336;\n",
              "            }\n",
              "        </style>\n",
              "      <progress value='22' class='' max='22' style='width:300px; height:20px; vertical-align: middle;'></progress>\n",
              "      100.00% [22/22 00:10<00:00]\n",
              "    </div>\n",
              "    "
            ],
            "text/plain": [
              "<IPython.core.display.HTML object>"
            ]
          },
          "metadata": {
            "tags": []
          }
        },
        {
          "output_type": "stream",
          "text": [
            "04/07/2021 04:25:53 - INFO - __main__ -   ***** Eval results on test dataset *****\n",
            "04/07/2021 04:25:53 - INFO - __main__ -     corr = 0.8610732726227514\n",
            "04/07/2021 04:25:53 - INFO - __main__ -     pearson = 0.862520716318629\n",
            "04/07/2021 04:25:53 - INFO - __main__ -     spearmanr = 0.8596258289268737\n",
            "04/07/2021 04:26:02 - INFO - __main__ -   ***** Running evaluation on test dataset (200 step) *****\n",
            "04/07/2021 04:26:02 - INFO - __main__ -     Num examples = 1379\n",
            "04/07/2021 04:26:02 - INFO - __main__ -     Eval Batch size = 64\n"
          ],
          "name": "stderr"
        },
        {
          "output_type": "display_data",
          "data": {
            "text/html": [
              "\n",
              "    <div>\n",
              "        <style>\n",
              "            /* Turns off some styling */\n",
              "            progress {\n",
              "                /* gets rid of default border in Firefox and Opera. */\n",
              "                border: none;\n",
              "                /* Needs to be in here for Safari polyfill so background images work as expected. */\n",
              "                background-size: auto;\n",
              "            }\n",
              "            .progress-bar-interrupted, .progress-bar-interrupted::-webkit-progress-bar {\n",
              "                background: #F44336;\n",
              "            }\n",
              "        </style>\n",
              "      <progress value='22' class='' max='22' style='width:300px; height:20px; vertical-align: middle;'></progress>\n",
              "      100.00% [22/22 00:10<00:00]\n",
              "    </div>\n",
              "    "
            ],
            "text/plain": [
              "<IPython.core.display.HTML object>"
            ]
          },
          "metadata": {
            "tags": []
          }
        },
        {
          "output_type": "stream",
          "text": [
            "04/07/2021 04:26:12 - INFO - __main__ -   ***** Eval results on test dataset *****\n",
            "04/07/2021 04:26:12 - INFO - __main__ -     corr = 0.8427940793836847\n",
            "04/07/2021 04:26:12 - INFO - __main__ -     pearson = 0.8444352480585545\n",
            "04/07/2021 04:26:12 - INFO - __main__ -     spearmanr = 0.8411529107088148\n",
            "04/07/2021 04:26:21 - INFO - __main__ -   ***** Running evaluation on test dataset (300 step) *****\n",
            "04/07/2021 04:26:21 - INFO - __main__ -     Num examples = 1379\n",
            "04/07/2021 04:26:21 - INFO - __main__ -     Eval Batch size = 64\n"
          ],
          "name": "stderr"
        },
        {
          "output_type": "display_data",
          "data": {
            "text/html": [
              "\n",
              "    <div>\n",
              "        <style>\n",
              "            /* Turns off some styling */\n",
              "            progress {\n",
              "                /* gets rid of default border in Firefox and Opera. */\n",
              "                border: none;\n",
              "                /* Needs to be in here for Safari polyfill so background images work as expected. */\n",
              "                background-size: auto;\n",
              "            }\n",
              "            .progress-bar-interrupted, .progress-bar-interrupted::-webkit-progress-bar {\n",
              "                background: #F44336;\n",
              "            }\n",
              "        </style>\n",
              "      <progress value='22' class='' max='22' style='width:300px; height:20px; vertical-align: middle;'></progress>\n",
              "      100.00% [22/22 00:10<00:00]\n",
              "    </div>\n",
              "    "
            ],
            "text/plain": [
              "<IPython.core.display.HTML object>"
            ]
          },
          "metadata": {
            "tags": []
          }
        },
        {
          "output_type": "stream",
          "text": [
            "04/07/2021 04:26:32 - INFO - __main__ -   ***** Eval results on test dataset *****\n",
            "04/07/2021 04:26:32 - INFO - __main__ -     corr = 0.8396509455031782\n",
            "04/07/2021 04:26:32 - INFO - __main__ -     pearson = 0.8391420650099211\n",
            "04/07/2021 04:26:32 - INFO - __main__ -     spearmanr = 0.8401598259964352\n",
            "04/07/2021 04:26:42 - INFO - __main__ -   ***** Running evaluation on test dataset (400 step) *****\n",
            "04/07/2021 04:26:42 - INFO - __main__ -     Num examples = 1379\n",
            "04/07/2021 04:26:42 - INFO - __main__ -     Eval Batch size = 64\n"
          ],
          "name": "stderr"
        },
        {
          "output_type": "display_data",
          "data": {
            "text/html": [
              "\n",
              "    <div>\n",
              "        <style>\n",
              "            /* Turns off some styling */\n",
              "            progress {\n",
              "                /* gets rid of default border in Firefox and Opera. */\n",
              "                border: none;\n",
              "                /* Needs to be in here for Safari polyfill so background images work as expected. */\n",
              "                background-size: auto;\n",
              "            }\n",
              "            .progress-bar-interrupted, .progress-bar-interrupted::-webkit-progress-bar {\n",
              "                background: #F44336;\n",
              "            }\n",
              "        </style>\n",
              "      <progress value='22' class='' max='22' style='width:300px; height:20px; vertical-align: middle;'></progress>\n",
              "      100.00% [22/22 00:10<00:00]\n",
              "    </div>\n",
              "    "
            ],
            "text/plain": [
              "<IPython.core.display.HTML object>"
            ]
          },
          "metadata": {
            "tags": []
          }
        },
        {
          "output_type": "stream",
          "text": [
            "04/07/2021 04:26:52 - INFO - __main__ -   ***** Eval results on test dataset *****\n",
            "04/07/2021 04:26:52 - INFO - __main__ -     corr = 0.8601597231957789\n",
            "04/07/2021 04:26:52 - INFO - __main__ -     pearson = 0.8618601207912893\n",
            "04/07/2021 04:26:52 - INFO - __main__ -     spearmanr = 0.8584593256002685\n",
            "04/07/2021 04:27:01 - INFO - __main__ -   ***** Running evaluation on test dataset (500 step) *****\n",
            "04/07/2021 04:27:01 - INFO - __main__ -     Num examples = 1379\n",
            "04/07/2021 04:27:01 - INFO - __main__ -     Eval Batch size = 64\n"
          ],
          "name": "stderr"
        },
        {
          "output_type": "display_data",
          "data": {
            "text/html": [
              "\n",
              "    <div>\n",
              "        <style>\n",
              "            /* Turns off some styling */\n",
              "            progress {\n",
              "                /* gets rid of default border in Firefox and Opera. */\n",
              "                border: none;\n",
              "                /* Needs to be in here for Safari polyfill so background images work as expected. */\n",
              "                background-size: auto;\n",
              "            }\n",
              "            .progress-bar-interrupted, .progress-bar-interrupted::-webkit-progress-bar {\n",
              "                background: #F44336;\n",
              "            }\n",
              "        </style>\n",
              "      <progress value='22' class='' max='22' style='width:300px; height:20px; vertical-align: middle;'></progress>\n",
              "      100.00% [22/22 00:10<00:00]\n",
              "    </div>\n",
              "    "
            ],
            "text/plain": [
              "<IPython.core.display.HTML object>"
            ]
          },
          "metadata": {
            "tags": []
          }
        },
        {
          "output_type": "stream",
          "text": [
            "04/07/2021 04:27:11 - INFO - __main__ -   ***** Eval results on test dataset *****\n",
            "04/07/2021 04:27:11 - INFO - __main__ -     corr = 0.8468642157333137\n",
            "04/07/2021 04:27:11 - INFO - __main__ -     pearson = 0.8486116964976741\n",
            "04/07/2021 04:27:11 - INFO - __main__ -     spearmanr = 0.8451167349689535\n",
            "04/07/2021 04:27:20 - INFO - __main__ -   ***** Running evaluation on test dataset (600 step) *****\n",
            "04/07/2021 04:27:20 - INFO - __main__ -     Num examples = 1379\n",
            "04/07/2021 04:27:20 - INFO - __main__ -     Eval Batch size = 64\n"
          ],
          "name": "stderr"
        },
        {
          "output_type": "display_data",
          "data": {
            "text/html": [
              "\n",
              "    <div>\n",
              "        <style>\n",
              "            /* Turns off some styling */\n",
              "            progress {\n",
              "                /* gets rid of default border in Firefox and Opera. */\n",
              "                border: none;\n",
              "                /* Needs to be in here for Safari polyfill so background images work as expected. */\n",
              "                background-size: auto;\n",
              "            }\n",
              "            .progress-bar-interrupted, .progress-bar-interrupted::-webkit-progress-bar {\n",
              "                background: #F44336;\n",
              "            }\n",
              "        </style>\n",
              "      <progress value='22' class='' max='22' style='width:300px; height:20px; vertical-align: middle;'></progress>\n",
              "      100.00% [22/22 00:10<00:00]\n",
              "    </div>\n",
              "    "
            ],
            "text/plain": [
              "<IPython.core.display.HTML object>"
            ]
          },
          "metadata": {
            "tags": []
          }
        },
        {
          "output_type": "stream",
          "text": [
            "04/07/2021 04:27:30 - INFO - __main__ -   ***** Eval results on test dataset *****\n",
            "04/07/2021 04:27:30 - INFO - __main__ -     corr = 0.8586976088097559\n",
            "04/07/2021 04:27:30 - INFO - __main__ -     pearson = 0.8598354284934916\n",
            "04/07/2021 04:27:30 - INFO - __main__ -     spearmanr = 0.8575597891260202\n",
            "04/07/2021 04:27:40 - INFO - __main__ -   ***** Running evaluation on test dataset (700 step) *****\n",
            "04/07/2021 04:27:40 - INFO - __main__ -     Num examples = 1379\n",
            "04/07/2021 04:27:40 - INFO - __main__ -     Eval Batch size = 64\n"
          ],
          "name": "stderr"
        },
        {
          "output_type": "display_data",
          "data": {
            "text/html": [
              "\n",
              "    <div>\n",
              "        <style>\n",
              "            /* Turns off some styling */\n",
              "            progress {\n",
              "                /* gets rid of default border in Firefox and Opera. */\n",
              "                border: none;\n",
              "                /* Needs to be in here for Safari polyfill so background images work as expected. */\n",
              "                background-size: auto;\n",
              "            }\n",
              "            .progress-bar-interrupted, .progress-bar-interrupted::-webkit-progress-bar {\n",
              "                background: #F44336;\n",
              "            }\n",
              "        </style>\n",
              "      <progress value='22' class='' max='22' style='width:300px; height:20px; vertical-align: middle;'></progress>\n",
              "      100.00% [22/22 00:10<00:00]\n",
              "    </div>\n",
              "    "
            ],
            "text/plain": [
              "<IPython.core.display.HTML object>"
            ]
          },
          "metadata": {
            "tags": []
          }
        },
        {
          "output_type": "stream",
          "text": [
            "04/07/2021 04:27:50 - INFO - __main__ -   ***** Eval results on test dataset *****\n",
            "04/07/2021 04:27:50 - INFO - __main__ -     corr = 0.8588770430883147\n",
            "04/07/2021 04:27:50 - INFO - __main__ -     pearson = 0.8610388678072917\n",
            "04/07/2021 04:27:50 - INFO - __main__ -     spearmanr = 0.8567152183693377\n",
            "04/07/2021 04:27:59 - INFO - __main__ -   ***** Running evaluation on test dataset (800 step) *****\n",
            "04/07/2021 04:27:59 - INFO - __main__ -     Num examples = 1379\n",
            "04/07/2021 04:27:59 - INFO - __main__ -     Eval Batch size = 64\n"
          ],
          "name": "stderr"
        },
        {
          "output_type": "display_data",
          "data": {
            "text/html": [
              "\n",
              "    <div>\n",
              "        <style>\n",
              "            /* Turns off some styling */\n",
              "            progress {\n",
              "                /* gets rid of default border in Firefox and Opera. */\n",
              "                border: none;\n",
              "                /* Needs to be in here for Safari polyfill so background images work as expected. */\n",
              "                background-size: auto;\n",
              "            }\n",
              "            .progress-bar-interrupted, .progress-bar-interrupted::-webkit-progress-bar {\n",
              "                background: #F44336;\n",
              "            }\n",
              "        </style>\n",
              "      <progress value='22' class='' max='22' style='width:300px; height:20px; vertical-align: middle;'></progress>\n",
              "      100.00% [22/22 00:10<00:00]\n",
              "    </div>\n",
              "    "
            ],
            "text/plain": [
              "<IPython.core.display.HTML object>"
            ]
          },
          "metadata": {
            "tags": []
          }
        },
        {
          "output_type": "stream",
          "text": [
            "04/07/2021 04:28:09 - INFO - __main__ -   ***** Eval results on test dataset *****\n",
            "04/07/2021 04:28:09 - INFO - __main__ -     corr = 0.8572399949407405\n",
            "04/07/2021 04:28:09 - INFO - __main__ -     pearson = 0.8604208973258877\n",
            "04/07/2021 04:28:09 - INFO - __main__ -     spearmanr = 0.8540590925555934\n",
            "04/07/2021 04:28:19 - INFO - __main__ -   ***** Running evaluation on test dataset (900 step) *****\n",
            "04/07/2021 04:28:19 - INFO - __main__ -     Num examples = 1379\n",
            "04/07/2021 04:28:19 - INFO - __main__ -     Eval Batch size = 64\n"
          ],
          "name": "stderr"
        },
        {
          "output_type": "display_data",
          "data": {
            "text/html": [
              "\n",
              "    <div>\n",
              "        <style>\n",
              "            /* Turns off some styling */\n",
              "            progress {\n",
              "                /* gets rid of default border in Firefox and Opera. */\n",
              "                border: none;\n",
              "                /* Needs to be in here for Safari polyfill so background images work as expected. */\n",
              "                background-size: auto;\n",
              "            }\n",
              "            .progress-bar-interrupted, .progress-bar-interrupted::-webkit-progress-bar {\n",
              "                background: #F44336;\n",
              "            }\n",
              "        </style>\n",
              "      <progress value='22' class='' max='22' style='width:300px; height:20px; vertical-align: middle;'></progress>\n",
              "      100.00% [22/22 00:10<00:00]\n",
              "    </div>\n",
              "    "
            ],
            "text/plain": [
              "<IPython.core.display.HTML object>"
            ]
          },
          "metadata": {
            "tags": []
          }
        },
        {
          "output_type": "stream",
          "text": [
            "04/07/2021 04:28:29 - INFO - __main__ -   ***** Eval results on test dataset *****\n",
            "04/07/2021 04:28:29 - INFO - __main__ -     corr = 0.8629370711891939\n",
            "04/07/2021 04:28:29 - INFO - __main__ -     pearson = 0.8641173066693771\n",
            "04/07/2021 04:28:29 - INFO - __main__ -     spearmanr = 0.8617568357090108\n"
          ],
          "name": "stderr"
        }
      ]
    }
  ]
}